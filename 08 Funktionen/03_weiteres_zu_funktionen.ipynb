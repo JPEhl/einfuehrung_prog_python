{
 "cells": [
  {
   "attachments": {},
   "cell_type": "markdown",
   "metadata": {},
   "source": [
    "<h1 style=\"color:gray\"> 08 Funktionen </h1>"
   ]
  },
  {
   "attachments": {},
   "cell_type": "markdown",
   "metadata": {},
   "source": [
    "<h2 style=\"color:gray\"> 03 Weiteres zu Funktionen </h2>"
   ]
  },
  {
   "attachments": {},
   "cell_type": "markdown",
   "metadata": {},
   "source": [
    "<h3 style=\"color:gray\"> return values </h3>\n",
    "\n",
    "<p> Zurück zur Lösung der vorherigen Aufgabe:</p>"
   ]
  },
  {
   "cell_type": "code",
   "execution_count": 1,
   "metadata": {},
   "outputs": [
    {
     "name": "stdout",
     "output_type": "stream",
     "text": [
      "Maximale Temperatur in Wiesbaden in den kommenden 7 Tagen: 21 Grad.\n",
      "Maximale Temperatur in Mainz in den kommenden 7 Tagen: 23 Grad.\n",
      "Maximale Temperatur in Frankfurt in den kommenden 7 Tagen: 22 Grad.\n"
     ]
    }
   ],
   "source": [
    "# Wetterdaten\n",
    "temperatur_wiesbaden = [13, 14, 18, 19, 20, 21, 19]\n",
    "temperatur_mainz = [14, 16, 17, 20, 19, 19, 23]\n",
    "temperatur_frankfurt = [17, 16, 18, 16, 20, 21, 22]\n",
    "\n",
    "def print_max_temp(t_liste, stadt):\n",
    "    temp_max = -1000\n",
    "    for temp in t_liste:\n",
    "        if temp > temp_max:\n",
    "            temp_max = temp\n",
    "    print(f\"Maximale Temperatur in {stadt} in den kommenden {len(t_liste)} Tagen: {temp_max} Grad.\")\n",
    "\n",
    "print_max_temp(temperatur_wiesbaden, \"Wiesbaden\")\n",
    "print_max_temp(temperatur_mainz, \"Mainz\")\n",
    "print_max_temp(temperatur_frankfurt, \"Frankfurt\")"
   ]
  },
  {
   "attachments": {},
   "cell_type": "markdown",
   "metadata": {},
   "source": [
    "<p>Dieser Code funktioniert zwar einwandfrei, hat jedoch ein Problem. Wollen wir zum Beispiel die Maximaltemperaturen der Städte miteinander vergleichen, ist das aktuell mit der Funktion <code>print_max_temp</code> nicht möglich, da das Ergebnis zwar geprintet wird, aber anschließend verpufft.</p>\n",
    "\n",
    "<p> Mithilfe des Schlüsselworts <code>return</code> kann ein Wert von der Funktion zurückgegeben werden. Beim ersten Aufruf von <code>return</code> wird der dahinter stehende Wert zurückgegeben und die Funktion sofort beendet.</p>"
   ]
  },
  {
   "cell_type": "code",
   "execution_count": 2,
   "metadata": {},
   "outputs": [
    {
     "name": "stdout",
     "output_type": "stream",
     "text": [
      "[21, 23, 22]\n"
     ]
    }
   ],
   "source": [
    "# Wetterdaten\n",
    "temperatur_wiesbaden = [13, 14, 18, 19, 20, 21, 19]\n",
    "temperatur_mainz = [14, 16, 17, 20, 19, 19, 23]\n",
    "temperatur_frankfurt = [17, 16, 18, 16, 20, 21, 22]\n",
    "\n",
    "def get_max_temp(t_liste):\n",
    "    temp_max = -1000\n",
    "    for temp in t_liste:\n",
    "        if temp > temp_max:\n",
    "            temp_max = temp\n",
    "    return temp_max\n",
    "\n",
    "max_temps = [get_max_temp(temperatur_wiesbaden), get_max_temp(temperatur_mainz), get_max_temp(temperatur_frankfurt)]\n",
    "\n",
    "print(max_temps)"
   ]
  },
  {
   "attachments": {},
   "cell_type": "markdown",
   "metadata": {},
   "source": [
    "<h3 style=\"color:gray\"> default values </h3>\n",
    "\n",
    "<p> Mitunter bringt es Vorteile, dass Parameter einer Funktion einen sogenannten <strong>default</strong>-Wert erhalten, wenn sie beim Funktionsaufruf nicht weiter spezifiziert werden. </br>\n",
    "Dazu das folgende Beispiel einer Funktion, die entsprechend des eingegebenen Namens grüßt. Wenn kein Name spezifiziert wurde, also beim Aufruf <code>hallo()</code>, wird der default-Wert <code>\"zusammen\"</code> also Wert für den Parameter <code>name</code> verwendet.</p>"
   ]
  },
  {
   "cell_type": "code",
   "execution_count": 3,
   "metadata": {},
   "outputs": [
    {
     "name": "stdout",
     "output_type": "stream",
     "text": [
      "Hallo Peter!\n",
      "Hallo zusammen!\n"
     ]
    }
   ],
   "source": [
    "def hallo(name=\"zusammen\"):\n",
    "    \"\"\" Grüßt eine Person \"\"\"\n",
    "    print(f\"Hallo {name}!\")\n",
    "hallo(\"Peter\")\n",
    "hallo()"
   ]
  }
 ],
 "metadata": {
  "kernelspec": {
   "display_name": "Python 3",
   "language": "python",
   "name": "python3"
  },
  "language_info": {
   "codemirror_mode": {
    "name": "ipython",
    "version": 3
   },
   "file_extension": ".py",
   "mimetype": "text/x-python",
   "name": "python",
   "nbconvert_exporter": "python",
   "pygments_lexer": "ipython3",
   "version": "3.10.1"
  },
  "vscode": {
   "interpreter": {
    "hash": "aee8b7b246df8f9039afb4144a1f6fd8d2ca17a180786b69acc140d282b71a49"
   }
  }
 },
 "nbformat": 4,
 "nbformat_minor": 2
}
