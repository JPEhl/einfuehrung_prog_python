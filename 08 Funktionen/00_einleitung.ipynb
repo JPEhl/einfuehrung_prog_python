{
 "cells": [
  {
   "attachments": {},
   "cell_type": "markdown",
   "metadata": {},
   "source": [
    "<h1 style=\"color:gray\"> 08 Funktionen </h1>"
   ]
  },
  {
   "attachments": {},
   "cell_type": "markdown",
   "metadata": {},
   "source": [
    "<h2 style=\"color:gray\"> 00 Problemstellung </h2>\n",
    "\n",
    "<figure style=\"margin: 0 2rem 1rem 2rem; width:10rem\">\n",
    "  <img src=\"img/wetter.jpg\" alt=\"Wetter\" >\n",
    "</figure>\n",
    "\n",
    "<p> Für eine Wetter-App wurde festgelegt wurde die Temperaturvorhersage mehrerer Städte gespeichert und das folgende Programm geschrieben. </p>"
   ]
  },
  {
   "cell_type": "code",
   "execution_count": 2,
   "metadata": {},
   "outputs": [
    {
     "name": "stdout",
     "output_type": "stream",
     "text": [
      "Maximale Temperatur in Wiesbaden in den kommenden 7 Tagen: 21 Grad.\n",
      "Maximale Temperatur in Mainz in den kommenden 7 Tagen: 23 Grad.\n",
      "Maximale Temperatur in Frankfurt in den kommenden 7 Tagen: 22 Grad.\n"
     ]
    }
   ],
   "source": [
    "# Wetterdaten\n",
    "temperatur_wiesbaden = [13, 14, 18, 19, 20, 21, 19]\n",
    "temperatur_mainz = [14, 16, 17, 20, 19, 19, 23]\n",
    "temperatur_frankfurt = [17, 16, 18, 16, 20, 21, 22]\n",
    "\n",
    "temp_max = -1000\n",
    "for temp in temperatur_wiesbaden:\n",
    "    if temp > temp_max:\n",
    "        temp_max = temp\n",
    "print(f\"Maximale Temperatur in Wiesbaden in den kommenden {len(temperatur_wiesbaden)} Tagen: {temp_max} Grad.\")\n",
    "\n",
    "temp_max = -1000\n",
    "for temp in temperatur_mainz:\n",
    "    if temp > temp_max:\n",
    "        temp_max = temp\n",
    "print(f\"Maximale Temperatur in Mainz in den kommenden {len(temperatur_mainz)} Tagen: {temp_max} Grad.\")\n",
    "\n",
    "temp_max = -1000\n",
    "for temp in temperatur_frankfurt:\n",
    "    if temp > temp_max:\n",
    "        temp_max = temp\n",
    "print(f\"Maximale Temperatur in Frankfurt in den kommenden {len(temperatur_frankfurt)} Tagen: {temp_max} Grad.\")"
   ]
  },
  {
   "attachments": {},
   "cell_type": "markdown",
   "metadata": {},
   "source": [
    "<h3 style=\"color:gray\"> Arbeitsauftrag </h3>\n",
    "<ol>\n",
    "    <li> Erkläre, wie das Programm abläuft, wie also die Maximaltemperaturen ermittelt werden. </li>\n",
    "    <li> Überlege <em>zunächst alleine</em>, welche Nachteile das Programm mit sich bringt. </li>\n",
    "    <li> Tauscht euch anschließend zu zweit aus und erklärt euch eure Ideen. </li>\n",
    "</ol>"
   ]
  }
 ],
 "metadata": {
  "kernelspec": {
   "display_name": "Python 3",
   "language": "python",
   "name": "python3"
  },
  "language_info": {
   "codemirror_mode": {
    "name": "ipython",
    "version": 3
   },
   "file_extension": ".py",
   "mimetype": "text/x-python",
   "name": "python",
   "nbconvert_exporter": "python",
   "pygments_lexer": "ipython3",
   "version": "3.10.1"
  },
  "vscode": {
   "interpreter": {
    "hash": "aee8b7b246df8f9039afb4144a1f6fd8d2ca17a180786b69acc140d282b71a49"
   }
  }
 },
 "nbformat": 4,
 "nbformat_minor": 2
}
