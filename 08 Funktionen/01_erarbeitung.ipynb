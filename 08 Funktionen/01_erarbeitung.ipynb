{
 "cells": [
  {
   "attachments": {},
   "cell_type": "markdown",
   "metadata": {},
   "source": [
    "<h1 style=\"color:gray\"> 08 Funktionen </h1>"
   ]
  },
  {
   "attachments": {},
   "cell_type": "markdown",
   "metadata": {},
   "source": [
    "<h2 style=\"color:gray\"> 01 Erarbeitung </h2>"
   ]
  },
  {
   "attachments": {},
   "cell_type": "markdown",
   "metadata": {},
   "source": [
    "<h3 style=\"color:gray\"> Arbeitsauftrag (ca. 20 Minuten) </h3>"
   ]
  },
  {
   "attachments": {},
   "cell_type": "markdown",
   "metadata": {},
   "source": [
    "<p> Lies dir die folgenden Informationen zu <em> Funktionen </em> in Python durch.</p>\n",
    "\n",
    "<p> Bearbeite anschließend die zugehörigen Aufgaben und <strong> entscheide dich dabei selbstständig für ein Anforderungsniveau</strong>:</p>\n",
    "\n",
    "<ol>\n",
    "    <li> <strong>Anforderungsnivau A1</strong>: Du hast noch keine/kaum Erfahrung mit Funktionen in der Programmierung.</li>\n",
    "    <li> <strong>Anforderungsnivau A2</strong>: Du kennst dich bereits ein Stück weit mit Funktionen in der Programmierung aus. </li>\n",
    "    <li> <strong>Anforderungsnivau A3</strong>: Du kennst dich bereits sehr gut Funktionen in der Programmierung aus. </li>\n",
    "</ol>\n",
    "\n",
    "\n",
    "\n"
   ]
  },
  {
   "attachments": {},
   "cell_type": "markdown",
   "metadata": {},
   "source": [
    "<h3 style=\"color:gray\"> Funktionen </h3>\n",
    "\n",
    "<figure style=\"float: right; margin: 0 2rem 1rem 2rem; width:8rem\">\n",
    "  <img src=\"img/wetterapp.jpg\" alt=\"Wetter-App\" >\n",
    "</figure>\n",
    "\n",
    "<p>Ein Prinzip der Programmierung ist das sogenannte <strong>DRY-Prinzip: Don't repeat yourself!</strong>. </br>\n",
    "Denn das Wiederholen von Code ist nicht nur zeitaufwändiger, sondern vor allem fehleranfälliger, da bei Änderungen der Code bei jeder vorkommenden Stelle geändert werden muss.</p>\n",
    "\n",
    "<p><strong>Funktionen</strong> lösen  dieses Problem. In Python hat eine Funktionen folgende Syntax:</p>\n",
    "\n",
    "<pre>\n",
    "    <code>\n",
    "    def funktionsname(parameter_1, parameter_2, ...):\n",
    "        Anweisung 1\n",
    "        Anweisung 2\n",
    "        #...weitere Anweisungen, falls nötig\n",
    "    </code>\n",
    "</pre>"
   ]
  },
  {
   "attachments": {},
   "cell_type": "markdown",
   "metadata": {},
   "source": [
    "<p> Hier ein Beispiel: Für mehrere Zahlenpaare soll jeweils die größere der beiden Zahlen ermittelt werden. Zunächst ohne Funktionen. </p>"
   ]
  },
  {
   "cell_type": "code",
   "execution_count": 1,
   "metadata": {},
   "outputs": [
    {
     "name": "stdout",
     "output_type": "stream",
     "text": [
      "Die größere Zahl ist 3.\n",
      "Die größere Zahl ist 20.\n",
      "Die größere Zahl ist 2.\n"
     ]
    }
   ],
   "source": [
    "# Programm zur Bestimmung des Maximums mehrerer Zahlenpaare\n",
    "\n",
    "a = 1\n",
    "b = 3\n",
    "if a > b:\n",
    "    print(f\"Die größere Zahl ist {a}.\")\n",
    "else:\n",
    "    print(f\"Die größere Zahl ist {b}.\")\n",
    "\n",
    "\n",
    "a = -10\n",
    "b = 20\n",
    "if a > b:\n",
    "    print(f\"Die größere Zahl ist {a}.\")\n",
    "else:\n",
    "    print(f\"Die größere Zahl ist {b}.\")\n",
    "\n",
    "\n",
    "a = 0\n",
    "b = 2\n",
    "if a > b:\n",
    "    print(f\"Die größere Zahl ist {a}.\")\n",
    "else:\n",
    "    print(f\"Die größere Zahl ist {b}.\")"
   ]
  },
  {
   "attachments": {},
   "cell_type": "markdown",
   "metadata": {},
   "source": [
    "<p> Mithilfe einer Funktion <code>max</code> lässt sich die sich wiederholende Aufgabe auslagern:</p>"
   ]
  },
  {
   "cell_type": "code",
   "execution_count": 2,
   "metadata": {},
   "outputs": [
    {
     "name": "stdout",
     "output_type": "stream",
     "text": [
      "Die größere Zahl ist 3.\n",
      "Die größere Zahl ist 20.\n",
      "Die größere Zahl ist 2.\n"
     ]
    }
   ],
   "source": [
    "# Programm zur Bestimmung des Maximums mehrerer Zahlenpaare\n",
    "def max(zahl_1, zahl_2):\n",
    "    if zahl_1 > zahl_2:\n",
    "        print(f\"Die größere Zahl ist {zahl_1}.\")\n",
    "    else:\n",
    "        print(f\"Die größere Zahl ist {zahl_2}.\")\n",
    "\n",
    "a = 1\n",
    "b = 3\n",
    "max(a,b)\n",
    "\n",
    "a = -10\n",
    "b = 20\n",
    "max(a,b)\n",
    "\n",
    "a = 0\n",
    "b = 2\n",
    "max(a,b)"
   ]
  },
  {
   "attachments": {},
   "cell_type": "markdown",
   "metadata": {},
   "source": [
    "Nach dem Schlüsselwort <code>def</code> folgt der Name der Funktion, hier <code>max</code>. Anschließend folgt <strong>immer</strong> ein Paar runder Klammern. Darin kann (muss aber nicht) die Funktion <strong>Parameter</strong> enthalten, hier <code>zahl_1</code> und <code>zahl_2</code>. Diese Parameter können im eingerückten Funktionsrumpf verwendet werden.\n",
    "\n",
    "Die Funktion kann anschließend über den Namen aufgerufen werden und Werte für die Parameter mitgegeben werden."
   ]
  },
  {
   "attachments": {},
   "cell_type": "markdown",
   "metadata": {},
   "source": [
    "<h3 style=\"color:gray\"> Gültigkeit von Variablen </h3>\n",
    "\n",
    "Wurden bisher Variablen definiert, z.B. <code>a = 3</code>, so konnten diese im folgenden Code überall verwendet werden.\n",
    "Im Funktionsrumpf definierte Variablen sind sogenannte <strong>lokale Variablen</strong>, die nur im Funktionsrumpf gültig sind. </br>\n",
    "Folgender Code führt somit zu einem Fehler, da die Variable <code>anz</code> außerhalb des Funktionsrumpfs nicht definiert ist:"
   ]
  },
  {
   "cell_type": "code",
   "execution_count": 3,
   "metadata": {},
   "outputs": [
    {
     "ename": "NameError",
     "evalue": "name 'anz' is not defined",
     "output_type": "error",
     "traceback": [
      "\u001b[0;31m---------------------------------------------------------------------------\u001b[0m",
      "\u001b[0;31mNameError\u001b[0m                                 Traceback (most recent call last)",
      "\u001b[0;32m/var/folders/9l/vt_80hmn2cj5rs5pggtkjhd80000gn/T/ipykernel_15197/4243772025.py\u001b[0m in \u001b[0;36m<module>\u001b[0;34m\u001b[0m\n\u001b[1;32m      7\u001b[0m     \u001b[0mprint\u001b[0m\u001b[0;34m(\u001b[0m\u001b[0;34mf\"Die Liste enthält {anz} negative Elemente.\"\u001b[0m\u001b[0;34m)\u001b[0m\u001b[0;34m\u001b[0m\u001b[0;34m\u001b[0m\u001b[0m\n\u001b[1;32m      8\u001b[0m \u001b[0;34m\u001b[0m\u001b[0m\n\u001b[0;32m----> 9\u001b[0;31m \u001b[0mprint\u001b[0m\u001b[0;34m(\u001b[0m\u001b[0manz\u001b[0m\u001b[0;34m)\u001b[0m\u001b[0;34m\u001b[0m\u001b[0;34m\u001b[0m\u001b[0m\n\u001b[0m\u001b[1;32m     10\u001b[0m \u001b[0;34m\u001b[0m\u001b[0m\n",
      "\u001b[0;31mNameError\u001b[0m: name 'anz' is not defined"
     ]
    }
   ],
   "source": [
    "# Programm zur Bestimmung des Maximums mehrerer Zahlenpaare\n",
    "def anz_negativ(liste):\n",
    "    anz = 0\n",
    "    for elem in liste:\n",
    "        if elem < 0:\n",
    "            anz = anz + 1\n",
    "    print(f\"Die Liste enthält {anz} negative Elemente.\")\n",
    "\n",
    "print(anz)\n",
    "    "
   ]
  }
 ],
 "metadata": {
  "kernelspec": {
   "display_name": "Python 3",
   "language": "python",
   "name": "python3"
  },
  "language_info": {
   "codemirror_mode": {
    "name": "ipython",
    "version": 3
   },
   "file_extension": ".py",
   "mimetype": "text/x-python",
   "name": "python",
   "nbconvert_exporter": "python",
   "pygments_lexer": "ipython3",
   "version": "3.10.1"
  },
  "vscode": {
   "interpreter": {
    "hash": "aee8b7b246df8f9039afb4144a1f6fd8d2ca17a180786b69acc140d282b71a49"
   }
  }
 },
 "nbformat": 4,
 "nbformat_minor": 2
}
