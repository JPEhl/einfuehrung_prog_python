{
 "cells": [
  {
   "attachments": {},
   "cell_type": "markdown",
   "metadata": {},
   "source": [
    "<h1 style=\"color:gray\"> 08 Funktionen </h1>"
   ]
  },
  {
   "attachments": {},
   "cell_type": "markdown",
   "metadata": {},
   "source": [
    "<h2 style=\"color:gray\"> 02 Aufgaben A2 </h2>"
   ]
  },
  {
   "attachments": {},
   "cell_type": "markdown",
   "metadata": {},
   "source": [
    "<h3 style=\"color:gray\"> Aufgabe </h3>\n",
    "\n",
    "<p> Schreibe eine Funktion für die Ausgabe des Temperaturmaximums, das eine Liste und den Namen der Stadt als Parameter enthält. Ersetze anschließend den vorher dafür zuständigen Code durch entsprechende Funktionsaufrufe. Beachte bei der Implementierung auch den Fall, dass die Liste leer sein könnte. </p>"
   ]
  },
  {
   "cell_type": "code",
   "execution_count": null,
   "metadata": {},
   "outputs": [],
   "source": [
    "# Wetterdaten\n",
    "temperatur_wiesbaden = [13, 14, 18, 19, 20, 21, 19]\n",
    "temperatur_mainz = [14, 16, 17, 20, 19, 19, 23]\n",
    "temperatur_frankfurt = [17, 16, 18, 16, 20, 21, 22]\n",
    "\n",
    "temp_max = -1000\n",
    "for temp in temperatur_wiesbaden:\n",
    "    if temp > temp_max:\n",
    "        temp_max = temp\n",
    "print(f\"Maximale Temperatur in Wiesbaden in den kommenden {len(temperatur_wiesbaden)} Tagen: {temp_max} Grad.\")\n",
    "\n",
    "temp_max = -1000\n",
    "for temp in temperatur_mainz:\n",
    "    if temp > temp_max:\n",
    "        temp_max = temp\n",
    "print(f\"Maximale Temperatur in Mainz in den kommenden {len(temperatur_mainz)} Tagen: {temp_max} Grad.\")\n",
    "\n",
    "temp_max = -1000\n",
    "for temp in temperatur_frankfurt:\n",
    "    if temp > temp_max:\n",
    "        temp_max = temp\n",
    "print(f\"Maximale Temperatur in Frankfurt in den kommenden {len(temperatur_frankfurt)} Tagen: {temp_max} Grad.\")"
   ]
  }
 ],
 "metadata": {
  "kernelspec": {
   "display_name": "Python 3",
   "language": "python",
   "name": "python3"
  },
  "language_info": {
   "codemirror_mode": {
    "name": "ipython",
    "version": 3
   },
   "file_extension": ".py",
   "mimetype": "text/x-python",
   "name": "python",
   "nbconvert_exporter": "python",
   "pygments_lexer": "ipython3",
   "version": "3.10.1"
  },
  "vscode": {
   "interpreter": {
    "hash": "aee8b7b246df8f9039afb4144a1f6fd8d2ca17a180786b69acc140d282b71a49"
   }
  }
 },
 "nbformat": 4,
 "nbformat_minor": 2
}
