{
 "cells": [
  {
   "attachments": {},
   "cell_type": "markdown",
   "metadata": {},
   "source": [
    "<h1 style=\"color:gray\"> 06 <code>for</code>-Schleifen </h1>"
   ]
  },
  {
   "attachments": {},
   "cell_type": "markdown",
   "metadata": {},
   "source": [
    "<h2 style=\"color:gray\"> 00 Problemstellung </h2>\n",
    "\n",
    "<figure style=\"margin: 0 2rem 1rem 2rem; width:10rem\">\n",
    "  <img src=\"img/wetter.jpg\" alt=\"Wetter\" >\n",
    "</figure>\n",
    "\n",
    "<p> Für eine Wetter-App soll wurde die Wettervorhersage der nächsten Tage in einer Liste gespeichert. </p>\n",
    "<p>Anschließend soll die Wettervorhersage ausgegeben werden.</p>\n",
    "<p> Hier ist ein Beispiel-Code, um dies zu bewerkstelligen:</p>"
   ]
  },
  {
   "cell_type": "code",
   "execution_count": 2,
   "metadata": {},
   "outputs": [
    {
     "name": "stdout",
     "output_type": "stream",
     "text": [
      "An Tag 0 ist es sonnig.\n",
      "An Tag 1 ist es wolkig.\n",
      "An Tag 2 ist es regnerisch.\n",
      "An Tag 3 ist es wolkig.\n",
      "An Tag 4 ist es sonnig.\n",
      "An Tag 5 ist es regnerisch.\n",
      "An Tag 6 ist es sonnig.\n"
     ]
    }
   ],
   "source": [
    "# Wetterdaten\n",
    "wetterdaten = [\"sonnig\", \"wolkig\", \"regnerisch\", \"wolkig\",\n",
    "               \"sonnig\", \"regnerisch\", \"sonnig\"]\n",
    "\n",
    "# Ausgabe der Wetterdaten\n",
    "print(f\"An Tag 0 ist es {wetterdaten[0]}.\")\n",
    "print(f\"An Tag 1 ist es {wetterdaten[1]}.\")\n",
    "print(f\"An Tag 2 ist es {wetterdaten[2]}.\")\n",
    "print(f\"An Tag 3 ist es {wetterdaten[3]}.\")\n",
    "print(f\"An Tag 4 ist es {wetterdaten[4]}.\")\n",
    "print(f\"An Tag 5 ist es {wetterdaten[5]}.\")\n",
    "print(f\"An Tag 6 ist es {wetterdaten[6]}.\")"
   ]
  },
  {
   "attachments": {},
   "cell_type": "markdown",
   "metadata": {},
   "source": [
    "<h3 style=\"color:gray\"> Arbeitsauftrag </h3>\n",
    "<ol>\n",
    "    <li> Überlege <em>zunächst alleine</em>, welche Nachteile eine solche Implementierung hat. </li>\n",
    "    <li> Tauscht euch anschließend zu zweit aus und erklärt euch eure Ideen. </li>\n",
    "</ol>"
   ]
  }
 ],
 "metadata": {
  "kernelspec": {
   "display_name": "Python 3",
   "language": "python",
   "name": "python3"
  },
  "language_info": {
   "codemirror_mode": {
    "name": "ipython",
    "version": 3
   },
   "file_extension": ".py",
   "mimetype": "text/x-python",
   "name": "python",
   "nbconvert_exporter": "python",
   "pygments_lexer": "ipython3",
   "version": "3.10.1"
  },
  "vscode": {
   "interpreter": {
    "hash": "aee8b7b246df8f9039afb4144a1f6fd8d2ca17a180786b69acc140d282b71a49"
   }
  }
 },
 "nbformat": 4,
 "nbformat_minor": 2
}
