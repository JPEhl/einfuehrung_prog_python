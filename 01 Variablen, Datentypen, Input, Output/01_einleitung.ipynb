{
 "cells": [
  {
   "cell_type": "markdown",
   "metadata": {},
   "source": [
    "<h1 style=\"color:gray\"> 01 Variablen, Datentypen, Typkonvertierung, Input und Output </h1>"
   ]
  },
  {
   "attachments": {},
   "cell_type": "markdown",
   "metadata": {},
   "source": [
    "<h2 style=\"color:gray\"> 01 Einleitung </h2>\n",
    "\n",
    "Schau dir das Video an und bearbeite dabei die unteren Arbeitsaufträge.\n",
    "\n",
    "<iframe\n",
    "    width=\"640\"\n",
    "    height=\"480\"\n",
    "    src=\"https://www.youtube.com/embed/ghCbURMWBD8\"\n",
    "    frameborder=\"0\"\n",
    "    allow=\"autoplay; encrypted-media\"\n",
    "    allowfullscreen\n",
    ">\n",
    "</iframe>"
   ]
  },
  {
   "attachments": {},
   "cell_type": "markdown",
   "metadata": {},
   "source": [
    "<h3 style=\"color:gray\"> Aufgaben </h3>\n",
    "\n"
   ]
  },
  {
   "attachments": {},
   "cell_type": "markdown",
   "metadata": {},
   "source": [
    "1. Notiere dir Unklarheiten und Fragen, die dir beim Schauen des Videos gekommen sind."
   ]
  },
  {
   "attachments": {},
   "cell_type": "markdown",
   "metadata": {},
   "source": [
    "_Notizen_:"
   ]
  },
  {
   "attachments": {},
   "cell_type": "markdown",
   "metadata": {},
   "source": [
    "2. Beschreibe in eigenen Worten, was man in der Programmierung unter einer Variablen versteht"
   ]
  },
  {
   "attachments": {},
   "cell_type": "markdown",
   "metadata": {},
   "source": [
    "_Lösung_: Ein Variable beschreibt in der Programmierung einen Platzhalter, eine Art Box, in der Werte (z.B. Zahlen, Wörter, ...) abgespeichert und später wieder aufgerufen werden können."
   ]
  },
  {
   "attachments": {},
   "cell_type": "markdown",
   "metadata": {},
   "source": [
    "3. Erkläre den Vorteil, den der Einsatz von Variablen mit sich bringt."
   ]
  },
  {
   "attachments": {},
   "cell_type": "markdown",
   "metadata": {},
   "source": [
    "_Lösung_: Mit Variablen können Ergebnisse zwischengespeichert und später wiederverwendet werden. Außerdem sind manche Werte beim Starten eines Programms noch gar nicht bekannt, sodass Variablen hier als Platzhalter dienen, die erst durch beispielsweise User-Eingaben während des Programmablaufs gefüllt werden."
   ]
  },
  {
   "attachments": {},
   "cell_type": "markdown",
   "metadata": {},
   "source": [
    "<h3 style=\"color:gray\"> Präsentation </h3>\n",
    "<p> 01 Präsentation.pptx <img src=\"img/pp.png\" style=\"width:2%;\"/> </p>"
   ]
  }
 ],
 "metadata": {
  "kernelspec": {
   "display_name": "Python 3",
   "language": "python",
   "name": "python3"
  },
  "language_info": {
   "codemirror_mode": {
    "name": "ipython",
    "version": 3
   },
   "file_extension": ".py",
   "mimetype": "text/x-python",
   "name": "python",
   "nbconvert_exporter": "python",
   "pygments_lexer": "ipython3",
   "version": "3.10.1"
  },
  "vscode": {
   "interpreter": {
    "hash": "aee8b7b246df8f9039afb4144a1f6fd8d2ca17a180786b69acc140d282b71a49"
   }
  }
 },
 "nbformat": 4,
 "nbformat_minor": 2
}
