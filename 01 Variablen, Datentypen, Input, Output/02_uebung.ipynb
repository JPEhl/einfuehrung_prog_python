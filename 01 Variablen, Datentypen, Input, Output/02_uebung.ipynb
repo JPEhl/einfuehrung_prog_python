{
 "cells": [
  {
   "cell_type": "markdown",
   "metadata": {},
   "source": [
    "<h1 style=\"color:gray\"> 01 Variablen, Datentypen, Typkonvertierung, Input und Output </h1>"
   ]
  },
  {
   "attachments": {},
   "cell_type": "markdown",
   "metadata": {},
   "source": [
    "<h2 style=\"color:gray\"> 02 Übung </h2>\n",
    "\n"
   ]
  },
  {
   "attachments": {},
   "cell_type": "markdown",
   "metadata": {},
   "source": [
    "<h3 style=\"color:gray\"> Aufgabe 1 </h3>\n",
    "\n",
    "<p> Eine Wetterstation sammelt Daten zur aktuellen Wetterlage. Dem User sollen diese Daten in einer Nachricht automatisch angezeigt werden.</p>\n",
    "\n",
    "<ol type=\"a\">\n",
    "  <li>Schreibe ein Programm, das den Tag, die Temperatur (in vollen Grad) und die Regenwahrscheinlichkeit in Variablen speichert und die Informationen dem User in einem Satz ausgibt. </li>\n",
    "  <li>Passe dein Programm so an, dass die Eingaben vom User selbst eingetragen werden müssen.</li>\n",
    "  <li>Zusätzlich soll dem User die Temperatur auch in &#8457 angezeigt werden. Die Umrechnungsformel lautet &#8457 = (&#8451 * 9/5) + 32.</li>\n",
    "</ol>"
   ]
  },
  {
   "cell_type": "code",
   "execution_count": 18,
   "metadata": {},
   "outputs": [
    {
     "data": {
      "text/plain": [
       "' Aufgabe a) '"
      ]
     },
     "execution_count": 18,
     "metadata": {},
     "output_type": "execute_result"
    }
   ],
   "source": [
    "\"\"\" Aufgabe a) \"\"\"\n"
   ]
  },
  {
   "cell_type": "code",
   "execution_count": 19,
   "metadata": {},
   "outputs": [
    {
     "data": {
      "text/plain": [
       "' Aufgabe b) '"
      ]
     },
     "execution_count": 19,
     "metadata": {},
     "output_type": "execute_result"
    }
   ],
   "source": [
    "\"\"\" Aufgabe b) \"\"\"\n"
   ]
  },
  {
   "cell_type": "code",
   "execution_count": 20,
   "metadata": {},
   "outputs": [
    {
     "data": {
      "text/plain": [
       "' Aufgabe c) '"
      ]
     },
     "execution_count": 20,
     "metadata": {},
     "output_type": "execute_result"
    }
   ],
   "source": [
    "\"\"\" Aufgabe c) \"\"\"\n"
   ]
  },
  {
   "attachments": {},
   "cell_type": "markdown",
   "metadata": {},
   "source": [
    "<h3 style=\"color:gray\"> Aufgabe 2 </h3>\n",
    "\n",
    "<p> Gib zu den angegebenen Zeitpunkten jeweils den Wert der Variablen <code>a</code>, <code>b</code> und <code>c</code> an: </p>\n",
    "\n",
    "<pre>\n",
    "    <code>\n",
    "    a = 1\n",
    "    b = 2\n",
    "    c = 3\n",
    "    # Zeitpunkt 1\n",
    "    a = a + 2\n",
    "    b = b * 3\n",
    "    c += 2\n",
    "    # Zeitpunkt 2\n",
    "    b = a + c\n",
    "    a = b \n",
    "    c = a + b\n",
    "    # Zeitpunkt 3\n",
    "    </code>\n",
    "</pre>"
   ]
  },
  {
   "attachments": {},
   "cell_type": "markdown",
   "metadata": {},
   "source": [
    "_Lösung_:\n",
    "\n",
    "Zeitpunkt 1: a -> 1, ..."
   ]
  },
  {
   "attachments": {},
   "cell_type": "markdown",
   "metadata": {},
   "source": [
    "<h3 style=\"color:gray\"> Aufgabe 3 (Der Variablentausch) </h3>\n",
    "\n",
    "<p> Eine Bank hat aus Versehen die Kontonummern zweier ihrer Kunden verwechselt und falsch im System eingegeben. Mithilfe eines Programms soll dieser Fehler bereinigt werden. </p>\n",
    "<p> Schreibe einen entsprechenden Code, der die Kontonummern der beiden Kunden vertauscht. </p>\n",
    "\n",
    "<p>Falls du noch nicht weißt, wie du das Problem lösen kannt, schaue dir gerne das folgende Video ab Minute 2:40 an:</p>\n",
    "<iframe\n",
    "    width=\"640\"\n",
    "    height=\"480\"\n",
    "    src=\"https://www.youtube.com/embed/CV74aNbKrpo\"\n",
    "    frameborder=\"0\"\n",
    "    allow=\"autoplay; encrypted-media\"\n",
    "    allowfullscreen\n",
    ">\n",
    "</iframe>\n",
    "\n",
    "<details>\n",
    "  <summary>Tipp 1</summary>\n",
    "  <p> Verwende eine zusätzliche Hilfsvariable <code>temp_ktr_nr</code>. </p>\n",
    "</details>\n",
    "\n",
    "<details>\n",
    "  <summary>Tipp 2</summary>\n",
    "  <p> Speichere den Inhalt von einer Kontonummer in <code>temp_ktr_nr</code>. </p>\n",
    "</details>\n"
   ]
  },
  {
   "cell_type": "code",
   "execution_count": null,
   "metadata": {},
   "outputs": [],
   "source": [
    "ktr_nr_selma = 5739674\n",
    "ktr_nr_bernd = 3856375\n",
    "\n",
    "# Ausgabe der \"falschen\" Kontonummern vor dem Tausch\n",
    "print(f\"Selma hat vor dem Tausch folgende Kontonummer: {ktr_nr_selma}\")\n",
    "print(f\"Bernd hat vor dem Tausch folgende Kontonummer: {ktr_nr_bernd}\")\n",
    "print() # leere Zeile\n",
    "\n",
    "# Hier kommt dein Code zum Vertauschen der Variablen hin:\n",
    "\n",
    "# Ausgabe der \"richtigen\" Kontonummern nach dem Tausch\n",
    "print(f\"Selma hat nach dem Tausch folgende Kontonummer: {ktr_nr_selma}\")\n",
    "print(f\"Bernd hat nach dem Tausch folgende Kontonummer: {ktr_nr_bernd}\")"
   ]
  }
 ],
 "metadata": {
  "kernelspec": {
   "display_name": "Python 3",
   "language": "python",
   "name": "python3"
  },
  "language_info": {
   "codemirror_mode": {
    "name": "ipython",
    "version": 3
   },
   "file_extension": ".py",
   "mimetype": "text/x-python",
   "name": "python",
   "nbconvert_exporter": "python",
   "pygments_lexer": "ipython3",
   "version": "3.10.1"
  },
  "vscode": {
   "interpreter": {
    "hash": "aee8b7b246df8f9039afb4144a1f6fd8d2ca17a180786b69acc140d282b71a49"
   }
  }
 },
 "nbformat": 4,
 "nbformat_minor": 2
}
