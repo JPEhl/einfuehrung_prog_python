{
 "cells": [
  {
   "attachments": {},
   "cell_type": "markdown",
   "metadata": {},
   "source": [
    "<h1 style=\"color:gray\"> 05 Manipulation von Listen </h1>"
   ]
  },
  {
   "attachments": {},
   "cell_type": "markdown",
   "metadata": {},
   "source": [
    "<h2 style=\"color:gray\"> 02 Aufgaben A2 </h2>"
   ]
  },
  {
   "attachments": {},
   "cell_type": "markdown",
   "metadata": {},
   "source": [
    "<h3 style=\"color:gray\"> 1. Aufgabe </h3>\n",
    "\n",
    "<ul>\n",
    "    <li>Lege eine Liste mit mindestens 5 Buchtiteln an.</li>\n",
    "    <li>Füge ein neues Buch am Ende der Liste an.</li>\n",
    "    <li>Füge ein neues Buch am Anfang der Liste an.</li>\n",
    "    <li>Entferne das 3. Buch in der Liste.</li>\n",
    "</ul>\n"
   ]
  },
  {
   "attachments": {},
   "cell_type": "markdown",
   "metadata": {},
   "source": [
    "<h3 style=\"color:gray\"> 2. Aufgabe </h3>\n",
    "\n",
    "<p>Erweitere das Programm aus der 1. Aufgabe so, dass der/die User/in einen Buchtitel eingeben soll und dieser dem Regal entnommen wird.\n",
    "Dabei soll kein Fehler auftreten, wenn das Buch nicht vorhanden ist. Stattdessen soll die/der User/in darüber informiert werden, dass das Buch nicht vorhanden ist.  </p>\n",
    "\n",
    "<details>\n",
    "  <summary>Tipp 1</summary>\n",
    "  <p> Verzweigung </p>\n",
    "</details>\n",
    "\n",
    "<details>\n",
    "  <summary>Tipp 2</summary>\n",
    "  <p> <code>elem in list</code> gibt <code>True</code> zurück, wenn <code>elem</code> ist der Liste <code>list</code> ist. </p>\n",
    "</details>"
   ]
  },
  {
   "cell_type": "code",
   "execution_count": null,
   "metadata": {
    "vscode": {
     "languageId": "plaintext"
    }
   },
   "outputs": [],
   "source": []
  },
  {
   "attachments": {},
   "cell_type": "markdown",
   "metadata": {},
   "source": [
    "<h3 style=\"color:gray\"> 3. Aufgabe </h3>\n",
    "\n",
    "Du hast im Erarbeitungstext folgende Methoden für Listen kennengelernt: <code>pop()</code>, <code>pop(i)</code>, <code>append()</code>, <code>remove()</code>, <code>index()</code>, <code>insert()</code>.\n",
    "\n",
    "Entscheide, wie viele dieser Methoden du minimal benötigst.\n",
    "Gib dazu an, welche dieser Methoden sich durch andere Methoden ersetzen lassen.\n"
   ]
  },
  {
   "attachments": {},
   "cell_type": "markdown",
   "metadata": {},
   "source": [
    "_Lösung_:"
   ]
  }
 ],
 "metadata": {
  "kernelspec": {
   "display_name": "Python 3",
   "language": "python",
   "name": "python3"
  },
  "language_info": {
   "codemirror_mode": {
    "name": "ipython",
    "version": 3
   },
   "file_extension": ".py",
   "mimetype": "text/x-python",
   "name": "python",
   "nbconvert_exporter": "python",
   "pygments_lexer": "ipython3",
   "version": "3.10.1"
  },
  "vscode": {
   "interpreter": {
    "hash": "aee8b7b246df8f9039afb4144a1f6fd8d2ca17a180786b69acc140d282b71a49"
   }
  }
 },
 "nbformat": 4,
 "nbformat_minor": 2
}
