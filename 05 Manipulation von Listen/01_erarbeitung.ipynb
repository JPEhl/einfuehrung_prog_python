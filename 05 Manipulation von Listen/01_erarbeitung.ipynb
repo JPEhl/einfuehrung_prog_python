{
 "cells": [
  {
   "attachments": {},
   "cell_type": "markdown",
   "metadata": {},
   "source": [
    "<h1 style=\"color:gray\"> 05 Manipulation von Listen </h1>"
   ]
  },
  {
   "attachments": {},
   "cell_type": "markdown",
   "metadata": {},
   "source": [
    "<h2 style=\"color:gray\"> 01 Erarbeitung </h2>"
   ]
  },
  {
   "attachments": {},
   "cell_type": "markdown",
   "metadata": {},
   "source": [
    "<h3 style=\"color:gray\"> Arbeitsauftrag (ca. 20 Minuten) </h3>"
   ]
  },
  {
   "attachments": {},
   "cell_type": "markdown",
   "metadata": {},
   "source": [
    "<p> Lies dir die folgenden Informationen zur <em> Manipulation von Listen </em> in Python durch.</p>\n",
    "\n",
    "<p> Bearbeite anschließend die zugehörigen Aufgaben und <strong> entscheide dich dabei selbstständig für ein Anforderungsniveau</strong>:</p>\n",
    "\n",
    "<ol>\n",
    "    <li> <strong>Anforderungsnivau A1</strong>: Du hast noch keine/kaum Erfahrung mit sequenziellen Datentypen wie z.B. Listen oder Arrays.</li>\n",
    "    <li> <strong>Anforderungsnivau A2</strong>: Du kennst dich bereits ein Stück weit mit sequenziellen Datentypen wie z.B. Listen oder Arrays aus. </li>\n",
    "    <li> <strong>Anforderungsnivau A3</strong>: Du kennst dich bereits sehr gut mit sequenziellen Datentypen wie z.B. Listen oder Arrays aus. </li>\n",
    "</ol>\n",
    "\n",
    "\n",
    "\n"
   ]
  },
  {
   "attachments": {},
   "cell_type": "markdown",
   "metadata": {},
   "source": [
    "<h3 style=\"color:gray\"> Manipulation von Listen </h3>\n",
    "\n",
    "<figure style=\"float: right; margin: 0 2rem 1rem 2rem; width:13rem\">\n",
    "  <img src=\"img/buecher.jpg\" alt=\"Buecher\" >\n",
    "</figure>\n",
    "\n",
    "<p>In diesem Kapitel geht es um die Manipulation von Listen. Im Wesentlichen möchte man Elemente anhängen, einfügen oder löschen.</p>\n",
    "\n",
    "<p>Eine Liste kann man sich dabei wie einen (Bücher)<em>Stapel</em> (engl. <em> Stack </em>) vorstellen.</p>"
   ]
  },
  {
   "attachments": {},
   "cell_type": "markdown",
   "metadata": {},
   "source": [
    "<h3 style=\"color:gray\"> pop und append </h3>\n",
    "\n",
    "Mithilfe der Methoden <code>pop</code> und <code>append</code> können Elemente auf dem Stapel abgelegt oder herausgenommen werden.\n",
    "\n",
    "<ul>\n",
    "    <li> <code>list.append(elem)</code> </br>\n",
    "        Hängt das Element <code>elem</code> ans Ende der Liste <code>list</code> an.\n",
    "    </li>\n",
    "    <li> <code>list.pop()</code> </br>\n",
    "        Entfernt das letzte Element der Liste <code>list</code>. Das Element wird ausgegeben, kann also in einer Variablen gespeichert werden (siehe Beispiel).\n",
    "    </li>\n",
    "    <li> <code>list.pop(i)</code> </br>\n",
    "        Entfernt das <code>i</code>-te Element der Liste <code>list</code>. Das Element wird ausgegeben, kann also in einer Variablen gespeichert werden (siehe Beispiel).\n",
    "    </li>\n",
    "</ul>"
   ]
  },
  {
   "cell_type": "code",
   "execution_count": 17,
   "metadata": {},
   "outputs": [
    {
     "name": "stdout",
     "output_type": "stream",
     "text": [
      "Buchtitel zu Beginn: ['I am the hero of my own life.', 'Meditations', 'How to raise entrepreneurial kids', 'The daily stoic journal', 'The courage to be disliked']\n"
     ]
    }
   ],
   "source": [
    "# Liste der Buchtitel\n",
    "buecher = [\"I am the hero of my own life.\",\n",
    "            \"Meditations\",\n",
    "            \"How to raise entrepreneurial kids\",\n",
    "            \"The daily stoic journal\",\n",
    "            \"The courage to be disliked\"]\n",
    "\n",
    "# Ausgabe der Buchtitel\n",
    "print(f\"Buchtitel zu Beginn: {buecher}\")"
   ]
  },
  {
   "cell_type": "code",
   "execution_count": 18,
   "metadata": {},
   "outputs": [
    {
     "name": "stdout",
     "output_type": "stream",
     "text": [
      "Buchtitel nach append: ['I am the hero of my own life.', 'Meditations', 'How to raise entrepreneurial kids', 'The daily stoic journal', 'The courage to be disliked', 'The 5am club']\n"
     ]
    }
   ],
   "source": [
    "# Anfuegen eines neuen Titels\n",
    "buecher.append(\"The 5am club\")\n",
    "\n",
    "# Ausgabe der Buchtitel\n",
    "print(f\"Buchtitel nach append: {buecher}\")\n"
   ]
  },
  {
   "cell_type": "code",
   "execution_count": 19,
   "metadata": {},
   "outputs": [
    {
     "name": "stdout",
     "output_type": "stream",
     "text": [
      "Buchtitel nach pop: ['I am the hero of my own life.', 'Meditations', 'How to raise entrepreneurial kids', 'The daily stoic journal', 'The courage to be disliked']\n",
      "Herausgenommen wurde: The 5am club\n"
     ]
    }
   ],
   "source": [
    "# Herausnehmen des obersten Buchs\n",
    "buch = buecher.pop()\n",
    "\n",
    "# Ausgabe der Buchtitel\n",
    "print(f\"Buchtitel nach pop: {buecher}\")\n",
    "print(f\"Herausgenommen wurde: {buch}\")"
   ]
  },
  {
   "cell_type": "code",
   "execution_count": 20,
   "metadata": {},
   "outputs": [
    {
     "name": "stdout",
     "output_type": "stream",
     "text": [
      "Buchtitel nach pop(0): ['Meditations', 'How to raise entrepreneurial kids', 'The daily stoic journal', 'The courage to be disliked']\n",
      "Herausgenommen wurde: I am the hero of my own life.\n"
     ]
    }
   ],
   "source": [
    "# Herausnehmen des ersten Buchs\n",
    "buch = buecher.pop(0)\n",
    "\n",
    "# Ausgabe der Buchtitel\n",
    "print(f\"Buchtitel nach pop(0): {buecher}\")\n",
    "print(f\"Herausgenommen wurde: {buch}\")"
   ]
  },
  {
   "attachments": {},
   "cell_type": "markdown",
   "metadata": {},
   "source": [
    "<h3 style=\"color:gray\"> remove, index, insert </h3>\n",
    "\n",
    "Will man bestimmte Elemente suchen, diesen entfernen oder an einer bestimmten Stelle einsetzen, helfen die Methoden <code>remove</code>, <code>index</code> und <code>insert</code>.\n",
    "\n",
    "<ul>\n",
    "     <li> <code>list.remove(elem)</code> </br>\n",
    "        Entfernt das Element <code>elem</code> aus der Liste, sofern vorhanden (sonst gibt es einen Programmfehler).\n",
    "    </li>\n",
    "    <li> <code>list.index(elem)</code> </br>\n",
    "        Sucht nach dem Index des Elements <code>elem</code>, sofern vorhanden (sonst gibt es einen Programmfehler).\n",
    "    </li>\n",
    "    <li> <code>list.insert(i, elem)</code> </br>\n",
    "        Fügt das Element <code>elem</code> an der <code>i</code>-ten Stelle in der Liste <code>list</code> ein.\n",
    "    </li>\n",
    "</ul>"
   ]
  },
  {
   "cell_type": "code",
   "execution_count": 21,
   "metadata": {},
   "outputs": [
    {
     "name": "stdout",
     "output_type": "stream",
     "text": [
      "Buchtitel zu Beginn: ['I am the hero of my own life.', 'Meditations', 'How to raise entrepreneurial kids', 'The daily stoic journal', 'The courage to be disliked']\n"
     ]
    }
   ],
   "source": [
    "# Liste der Buchtitel\n",
    "buecher = [\"I am the hero of my own life.\",\n",
    "            \"Meditations\",\n",
    "            \"How to raise entrepreneurial kids\",\n",
    "            \"The daily stoic journal\",\n",
    "            \"The courage to be disliked\"]\n",
    "\n",
    "# Ausgabe der Buchtitel\n",
    "print(f\"Buchtitel zu Beginn: {buecher}\")"
   ]
  },
  {
   "attachments": {},
   "cell_type": "markdown",
   "metadata": {},
   "source": [
    "<h4 style=\"color:gray\"> remove</h4>"
   ]
  },
  {
   "cell_type": "code",
   "execution_count": 22,
   "metadata": {},
   "outputs": [
    {
     "name": "stdout",
     "output_type": "stream",
     "text": [
      "Buchtitel nach remove: ['I am the hero of my own life.', 'How to raise entrepreneurial kids', 'The daily stoic journal', 'The courage to be disliked']\n"
     ]
    }
   ],
   "source": [
    "# Entfernen eines Elements\n",
    "buecher.remove(\"Meditations\")\n",
    "\n",
    "# Ausgabe der Buchtitel\n",
    "print(f\"Buchtitel nach remove: {buecher}\")"
   ]
  },
  {
   "cell_type": "code",
   "execution_count": 23,
   "metadata": {},
   "outputs": [
    {
     "ename": "ValueError",
     "evalue": "list.remove(x): x not in list",
     "output_type": "error",
     "traceback": [
      "\u001b[0;31m---------------------------------------------------------------------------\u001b[0m",
      "\u001b[0;31mValueError\u001b[0m                                Traceback (most recent call last)",
      "\u001b[0;32m/var/folders/9l/vt_80hmn2cj5rs5pggtkjhd80000gn/T/ipykernel_99153/52130869.py\u001b[0m in \u001b[0;36m<module>\u001b[0;34m\u001b[0m\n\u001b[1;32m      1\u001b[0m \u001b[0;31m# Entfernen eines nicht vorhandenen Elements\u001b[0m\u001b[0;34m\u001b[0m\u001b[0;34m\u001b[0m\u001b[0m\n\u001b[0;32m----> 2\u001b[0;31m \u001b[0mbuecher\u001b[0m\u001b[0;34m.\u001b[0m\u001b[0mremove\u001b[0m\u001b[0;34m(\u001b[0m\u001b[0;34m\"SomeBook\"\u001b[0m\u001b[0;34m)\u001b[0m\u001b[0;34m\u001b[0m\u001b[0;34m\u001b[0m\u001b[0m\n\u001b[0m",
      "\u001b[0;31mValueError\u001b[0m: list.remove(x): x not in list"
     ]
    }
   ],
   "source": [
    "# Entfernen eines nicht vorhandenen Elements\n",
    "buecher.remove(\"SomeBook\")"
   ]
  },
  {
   "attachments": {},
   "cell_type": "markdown",
   "metadata": {},
   "source": [
    "<h4 style=\"color:gray\"> index </h4>"
   ]
  },
  {
   "cell_type": "code",
   "execution_count": 25,
   "metadata": {},
   "outputs": [
    {
     "name": "stdout",
     "output_type": "stream",
     "text": [
      "Aktuelle Buchtitel: ['I am the hero of my own life.', 'How to raise entrepreneurial kids', 'The daily stoic journal', 'The courage to be disliked']\n",
      "2\n"
     ]
    }
   ],
   "source": [
    "# Ausgabe der Büchertitel\n",
    "print(f\"Aktuelle Buchtitel: {buecher}\")\n",
    "\n",
    "# Suche nach dem Index eines bestimmten Buchs\n",
    "index = buecher.index(\"The daily stoic journal\")\n",
    "print(index)"
   ]
  },
  {
   "cell_type": "code",
   "execution_count": 26,
   "metadata": {},
   "outputs": [
    {
     "ename": "ValueError",
     "evalue": "'SomeBook' is not in list",
     "output_type": "error",
     "traceback": [
      "\u001b[0;31m---------------------------------------------------------------------------\u001b[0m",
      "\u001b[0;31mValueError\u001b[0m                                Traceback (most recent call last)",
      "\u001b[0;32m/var/folders/9l/vt_80hmn2cj5rs5pggtkjhd80000gn/T/ipykernel_99153/2441489332.py\u001b[0m in \u001b[0;36m<module>\u001b[0;34m\u001b[0m\n\u001b[1;32m      1\u001b[0m \u001b[0;31m# Suche nach dem Index eines nicht vorhandenen Buchs\u001b[0m\u001b[0;34m\u001b[0m\u001b[0;34m\u001b[0m\u001b[0m\n\u001b[0;32m----> 2\u001b[0;31m \u001b[0mindex\u001b[0m \u001b[0;34m=\u001b[0m \u001b[0mbuecher\u001b[0m\u001b[0;34m.\u001b[0m\u001b[0mindex\u001b[0m\u001b[0;34m(\u001b[0m\u001b[0;34m\"SomeBook\"\u001b[0m\u001b[0;34m)\u001b[0m\u001b[0;34m\u001b[0m\u001b[0;34m\u001b[0m\u001b[0m\n\u001b[0m",
      "\u001b[0;31mValueError\u001b[0m: 'SomeBook' is not in list"
     ]
    }
   ],
   "source": [
    "# Suche nach dem Index eines nicht vorhandenen Buchs\n",
    "index = buecher.index(\"SomeBook\")"
   ]
  },
  {
   "attachments": {},
   "cell_type": "markdown",
   "metadata": {},
   "source": [
    "<h4 style=\"color:gray\"> insert </h4>"
   ]
  },
  {
   "cell_type": "code",
   "execution_count": 27,
   "metadata": {},
   "outputs": [
    {
     "name": "stdout",
     "output_type": "stream",
     "text": [
      "Buchtitel vor insert: ['I am the hero of my own life.', 'How to raise entrepreneurial kids', 'The daily stoic journal', 'The courage to be disliked']\n",
      "Buchtitel nach insert: ['I am the hero of my own life.', 'Meditations', 'How to raise entrepreneurial kids', 'The daily stoic journal', 'The courage to be disliked']\n"
     ]
    }
   ],
   "source": [
    "# Ausgabe der Büchertitel\n",
    "print(f\"Buchtitel vor insert: {buecher}\")\n",
    "\n",
    "# Einfügen eines Buchs an Position 1\n",
    "buecher.insert(1, \"Meditations\")\n",
    "print(f\"Buchtitel nach insert: {buecher}\")"
   ]
  }
 ],
 "metadata": {
  "kernelspec": {
   "display_name": "Python 3",
   "language": "python",
   "name": "python3"
  },
  "language_info": {
   "codemirror_mode": {
    "name": "ipython",
    "version": 3
   },
   "file_extension": ".py",
   "mimetype": "text/x-python",
   "name": "python",
   "nbconvert_exporter": "python",
   "pygments_lexer": "ipython3",
   "version": "3.10.1"
  },
  "vscode": {
   "interpreter": {
    "hash": "aee8b7b246df8f9039afb4144a1f6fd8d2ca17a180786b69acc140d282b71a49"
   }
  }
 },
 "nbformat": 4,
 "nbformat_minor": 2
}
