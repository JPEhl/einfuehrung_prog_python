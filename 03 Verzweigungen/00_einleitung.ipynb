{
 "cells": [
  {
   "attachments": {},
   "cell_type": "markdown",
   "metadata": {},
   "source": [
    "<h1 style=\"color:gray\"> 03 Verzweigungen </h1>"
   ]
  },
  {
   "attachments": {},
   "cell_type": "markdown",
   "metadata": {},
   "source": [
    "<h2 style=\"color:gray\"> 00 Problemstellung </h2>\n",
    "<figure style=\"float: right; margin: 0 2rem 1rem 2rem; width:35rem\">\n",
    "  <img src=\"img/glatteis.jpg\" alt=\"Glatteis\" >\n",
    "</figure>\n",
    "<ul>\n",
    "    <li> Die Gutenbergschule liegt am Hang &#8594; Ausrutschgefahr! </li>\n",
    "    <li> Ziel: Programm, das mich vor Glatteis warnt. </li>\n",
    "    <li> Gegeben: Aktuelle Temperatur. </li>\n",
    "</ul>\n",
    "\n",
    "\n",
    "\n",
    "<h3 style=\"color:gray\"> Arbeitsauftrag </h3>\n",
    "<ol>\n",
    "    <li> Überlege <em>zunächst alleine</em>, wie das Programm deiner Meinung nach ablaufen soll, wenn es die Temperatur des aktuellen Tags als Eingabe erhält. </li>\n",
    "    <li> Tauscht euch anschließend zu zweit aus und erklärt euch eure Ideen. </li>\n",
    "</ol>\n"
   ]
  }
 ],
 "metadata": {
  "kernelspec": {
   "display_name": "Python 3",
   "language": "python",
   "name": "python3"
  },
  "language_info": {
   "codemirror_mode": {
    "name": "ipython",
    "version": 3
   },
   "file_extension": ".py",
   "mimetype": "text/x-python",
   "name": "python",
   "nbconvert_exporter": "python",
   "pygments_lexer": "ipython3",
   "version": "3.10.1"
  },
  "vscode": {
   "interpreter": {
    "hash": "aee8b7b246df8f9039afb4144a1f6fd8d2ca17a180786b69acc140d282b71a49"
   }
  }
 },
 "nbformat": 4,
 "nbformat_minor": 2
}
