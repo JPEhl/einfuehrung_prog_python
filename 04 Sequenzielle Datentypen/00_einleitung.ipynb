{
 "cells": [
  {
   "attachments": {},
   "cell_type": "markdown",
   "metadata": {},
   "source": [
    "<h1 style=\"color:gray\"> 04 Sequenzielle Datentypen </h1>"
   ]
  },
  {
   "attachments": {},
   "cell_type": "markdown",
   "metadata": {},
   "source": [
    "<h2 style=\"color:gray\"> 00 Problemstellung </h2>\n",
    "\n",
    "<figure style=\"margin: 0 2rem 1rem 2rem; width:10rem\">\n",
    "  <img src=\"img/wetter.jpg\" alt=\"Wetter\" >\n",
    "</figure>\n",
    "\n",
    "<p> Für eine Wetter-App soll das Wetter der nächsten Tage gespeichert werden. </p>\n",
    "<p> Hier ist ein Beispiel-Code, um dies zu bewerkstelligen:</p>"
   ]
  },
  {
   "cell_type": "code",
   "execution_count": null,
   "metadata": {},
   "outputs": [],
   "source": [
    "# Wetterdaten\n",
    "wetter_heute = 16\n",
    "wetter_in_1_tagen = 14\n",
    "wetter_in_2_tagen = 12\n",
    "wetter_in_3_tagen = 8\n",
    "wetter_in_4_tagen = 9\n",
    "wetter_in_5_tagen = 17\n",
    "wetter_in_6_tagen = 12\n",
    "wetter_in_7_tagen = 13\n",
    "\n",
    "\"\"\" \n",
    "weiterer Code zur Verarbeitung der Wetterdaten,\n",
    "z.B. zum Darstellen einer übersichtlichen Wetterprognose.\n",
    "\"\"\""
   ]
  },
  {
   "attachments": {},
   "cell_type": "markdown",
   "metadata": {},
   "source": [
    "<h3 style=\"color:gray\"> Arbeitsauftrag </h3>\n",
    "<ol>\n",
    "    <li> Überlege <em>zunächst alleine</em>, welche Nachteile eine solche Implementierung hat. </li>\n",
    "    <li> Tauscht euch anschließend zu zweit aus und erklärt euch eure Ideen. </li>\n",
    "</ol>"
   ]
  }
 ],
 "metadata": {
  "kernelspec": {
   "display_name": "Python 3",
   "language": "python",
   "name": "python3"
  },
  "language_info": {
   "codemirror_mode": {
    "name": "ipython",
    "version": 3
   },
   "file_extension": ".py",
   "mimetype": "text/x-python",
   "name": "python",
   "nbconvert_exporter": "python",
   "pygments_lexer": "ipython3",
   "version": "3.10.1"
  },
  "vscode": {
   "interpreter": {
    "hash": "aee8b7b246df8f9039afb4144a1f6fd8d2ca17a180786b69acc140d282b71a49"
   }
  }
 },
 "nbformat": 4,
 "nbformat_minor": 2
}
