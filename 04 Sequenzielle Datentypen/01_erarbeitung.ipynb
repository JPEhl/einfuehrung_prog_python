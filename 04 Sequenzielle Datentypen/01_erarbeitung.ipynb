{
 "cells": [
  {
   "attachments": {},
   "cell_type": "markdown",
   "metadata": {},
   "source": [
    "<h1 style=\"color:gray\"> 04 Sequenzielle Datentypen </h1>"
   ]
  },
  {
   "attachments": {},
   "cell_type": "markdown",
   "metadata": {},
   "source": [
    "<h2 style=\"color:gray\"> 01 Erarbeitung </h2>"
   ]
  },
  {
   "attachments": {},
   "cell_type": "markdown",
   "metadata": {},
   "source": [
    "<h3 style=\"color:gray\"> Arbeitsauftrag (ca. 20 Minuten) </h3>"
   ]
  },
  {
   "attachments": {},
   "cell_type": "markdown",
   "metadata": {},
   "source": [
    "<p> Lies dir die folgenden Informationen zu <em> sequenziellen Datentypen </em> in Python durch.</p>\n",
    "\n",
    "<p> Bearbeite anschließend die zugehörigen Aufgaben und <strong> entscheide dich dabei selbstständig für ein Anforderungsniveau</strong>:</p>\n",
    "\n",
    "<ol>\n",
    "    <li> <strong>Anforderungsnivau A1</strong>: Du hast noch keine/kaum Erfahrung mit sequenziellen Datentypen wie z.B. Listen oder Arrays.</li>\n",
    "    <li> <strong>Anforderungsnivau A2</strong>: Du kennst dich bereits ein Stück weit mit sequenziellen Datentypen wie z.B. Listen oder Arrays aus. </li>\n",
    "    <li> <strong>Anforderungsnivau A3</strong>: Du kennst dich bereits sehr gut mit sequenziellen Datentypen wie z.B. Listen oder Arrays aus. </li>\n",
    "</ol>\n",
    "\n",
    "\n",
    "\n"
   ]
  },
  {
   "attachments": {},
   "cell_type": "markdown",
   "metadata": {},
   "source": [
    "<h3 style=\"color:gray\"> Sequenzielle Datentypen </h3>\n",
    "\n",
    "<figure style=\"float: right; margin: 0 2rem 1rem 2rem; width:13rem\">\n",
    "  <img src=\"img/wetterapp.jpg\" alt=\"Wetter-App\" >\n",
    "</figure>\n",
    "\n",
    "<p>Das Speichern von Wetterdaten der nächsten Tage in einzelnen Variablen birgt einige Nachteile, z.B.:</p>\n",
    "\n",
    "<ul>\n",
    "  <li>Der Code wird unnötig lang und unübersichtlich.</li>\n",
    "  <li>Möchte man mehr Wetterdaten sammeln, muss für jeden Tage eine neue Variable angelegt werden (nervig).</li>\n",
    "  <li>Möchte man die Wetterdaten anschließend auslesen, muss jede Variable einzeln angesprochen werden.</li>\n",
    "</ul>\n",
    "\n",
    "<p>Ein bessere Variante ist es, die Wetterdaten beispielsweise in einer Liste zu speichern:</p>"
   ]
  },
  {
   "cell_type": "code",
   "execution_count": null,
   "metadata": {},
   "outputs": [],
   "source": [
    "# Wetterdaten der nächsten Tage\n",
    "# Beginnt beim aktuellen Tag\n",
    "wetterdaten = [16, 14, 12, 8, 9, 17, 12, 13]"
   ]
  },
  {
   "attachments": {},
   "cell_type": "markdown",
   "metadata": {},
   "source": [
    "<p> Python kennt verschiedene <em>sequenzielle Datentypen</em>, darunter fallen </p>\n",
    "\n",
    "<ul>\n",
    "  <li>Zeichenketten (Strings),</li>\n",
    "  <li>Listen</li>\n",
    "</ul>\n",
    "\n",
    "Es gibt aber noch andere <em>sequenzielle Datentypen</em> wie Tupel, Mengen (Sets), Dictionaries, ..., die wir hier aber nicht weiter betrachten wollen. \n",
    "\n",
    "Diese Datentypen sehr zwar teilweise komplett anders aus, haben aber einige grundlegende Konzepte gemeinsam:\n",
    "\n",
    "<ul>\n",
    "  <li>Ihre Elemente sind in einer definierten Reihenfolge angeordnet.</li>\n",
    "  <li>Auf die Elemente kann über Indizes zugegriffen werden.</li>\n",
    "</ul>"
   ]
  },
  {
   "cell_type": "code",
   "execution_count": 2,
   "metadata": {},
   "outputs": [
    {
     "name": "stdout",
     "output_type": "stream",
     "text": [
      "A i e\n"
     ]
    }
   ],
   "source": [
    "text = \"Auf die einzelnen Zeichen dieses Textes kann über Indizes zugegriffen werden!\"\n",
    "print(text[0], text[5], text[6])"
   ]
  },
  {
   "attachments": {},
   "cell_type": "markdown",
   "metadata": {},
   "source": [
    "<p> <strong style=\"color:red\">Beachte</strong>: Informatiker beginnen meistens bei 0 an zu zählen! So greift <code>text[0]</code> auf das Anfangselement zu. </p>"
   ]
  },
  {
   "attachments": {},
   "cell_type": "markdown",
   "metadata": {},
   "source": [
    "<h4 style=\"color:gray\"> Zugriff auf Listen </h4>"
   ]
  },
  {
   "cell_type": "code",
   "execution_count": 3,
   "metadata": {},
   "outputs": [
    {
     "name": "stdout",
     "output_type": "stream",
     "text": [
      "16\n",
      "12\n",
      "13\n",
      "12\n"
     ]
    }
   ],
   "source": [
    "wetterdaten = [16, 14, 12, 8, 9, 17, 12, 13]\n",
    "\n",
    "# Zugriff auf Listenelement 0 und 2\n",
    "print(wetterdaten[0])\n",
    "print(wetterdaten[2])\n",
    "\n",
    "# Python erlaubt auch negative Indizes\n",
    "# Dann wird von hinten gezählt\n",
    "print(wetterdaten[-1])\n",
    "print(wetterdaten[-2])\n"
   ]
  },
  {
   "attachments": {},
   "cell_type": "markdown",
   "metadata": {},
   "source": [
    "<h4 style=\"color:gray\"> Bestimmung der Listenlänge </h4>\n",
    "\n",
    "<p> Die Länge einer Liste kann mit der Funktion <code>len()</code> bestimmt werden:</p>"
   ]
  },
  {
   "cell_type": "code",
   "execution_count": 4,
   "metadata": {},
   "outputs": [
    {
     "name": "stdout",
     "output_type": "stream",
     "text": [
      "8\n"
     ]
    }
   ],
   "source": [
    "wetterdaten = [16, 14, 12, 8, 9, 17, 12, 13]\n",
    "\n",
    "# Speichern der Anzahl an Listenelementen\n",
    "laenge = len(wetterdaten)\n",
    "\n",
    "# Ausgabe\n",
    "print(laenge)"
   ]
  }
 ],
 "metadata": {
  "kernelspec": {
   "display_name": "Python 3",
   "language": "python",
   "name": "python3"
  },
  "language_info": {
   "codemirror_mode": {
    "name": "ipython",
    "version": 3
   },
   "file_extension": ".py",
   "mimetype": "text/x-python",
   "name": "python",
   "nbconvert_exporter": "python",
   "pygments_lexer": "ipython3",
   "version": "3.10.1"
  },
  "vscode": {
   "interpreter": {
    "hash": "aee8b7b246df8f9039afb4144a1f6fd8d2ca17a180786b69acc140d282b71a49"
   }
  }
 },
 "nbformat": 4,
 "nbformat_minor": 2
}
