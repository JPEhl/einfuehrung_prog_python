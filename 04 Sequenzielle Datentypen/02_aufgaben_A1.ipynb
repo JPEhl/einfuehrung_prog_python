{
 "cells": [
  {
   "attachments": {},
   "cell_type": "markdown",
   "metadata": {},
   "source": [
    "<h1 style=\"color:gray\"> 04 Sequenzielle Datentypen </h1>"
   ]
  },
  {
   "attachments": {},
   "cell_type": "markdown",
   "metadata": {},
   "source": [
    "<h2 style=\"color:gray\"> 02 Aufgaben A1 </h2>"
   ]
  },
  {
   "attachments": {},
   "cell_type": "markdown",
   "metadata": {},
   "source": [
    "<h3 style=\"color:gray\"> 1. Aufgabe </h3>\n",
    "\n",
    "Lege folgende Listen an: \n",
    "\n",
    "<ul> \n",
    "    <li> eine Liste <code>datum</code>, die die Daten von heute und der kommenden sechs Tage speichert,</li>\n",
    "    <li> eine Liste <code>temperatur</code>, die die Temperaturen von heute und der kommenden sechs Tage speichert,</li>\n",
    "    <li> eine Liste <code>regen</code>, die speichert, ob es an den jeweiligen Tagen regnet oder nicht.</li>\n",
    "</ul>"
   ]
  },
  {
   "attachments": {},
   "cell_type": "markdown",
   "metadata": {},
   "source": [
    "<h3 style=\"color:gray\"> 2. Aufgabe </h3>\n",
    "\n",
    "Gib für den heutigen Tag, für übermorgen und für den letzten Tag der Wetteraufzeichnung eine kurze Wetterübersicht an.\n"
   ]
  },
  {
   "attachments": {},
   "cell_type": "markdown",
   "metadata": {},
   "source": [
    "<h3 style=\"color:gray\"> 3. Aufgabe </h3>\n",
    "\n",
    "Leider ist bei der Wetterübersicht ein Fehler unterlaufen. Am 4. Tag der Wetteraufzeichnung - wobei heute der 1. Tag ist - wurde eine falsche Regenprognose eingetragen und am 5. Tag wurde das Vorzeichen der Temperatur verwechselt.\n",
    "\n",
    "Ändere diese Eingaben nachträglich, also nicht durch das Ändern direkt in der Liste.\n"
   ]
  },
  {
   "cell_type": "code",
   "execution_count": null,
   "metadata": {
    "vscode": {
     "languageId": "plaintext"
    }
   },
   "outputs": [],
   "source": []
  }
 ],
 "metadata": {
  "kernelspec": {
   "display_name": "Python 3",
   "language": "python",
   "name": "python3"
  },
  "language_info": {
   "codemirror_mode": {
    "name": "ipython",
    "version": 3
   },
   "file_extension": ".py",
   "mimetype": "text/x-python",
   "name": "python",
   "nbconvert_exporter": "python",
   "pygments_lexer": "ipython3",
   "version": "3.10.1"
  },
  "vscode": {
   "interpreter": {
    "hash": "aee8b7b246df8f9039afb4144a1f6fd8d2ca17a180786b69acc140d282b71a49"
   }
  }
 },
 "nbformat": 4,
 "nbformat_minor": 2
}
