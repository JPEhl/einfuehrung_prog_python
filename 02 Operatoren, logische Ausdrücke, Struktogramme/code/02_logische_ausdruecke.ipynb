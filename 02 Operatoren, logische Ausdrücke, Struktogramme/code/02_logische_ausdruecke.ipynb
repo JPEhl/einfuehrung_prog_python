{
 "cells": [
  {
   "cell_type": "markdown",
   "metadata": {},
   "source": [
    "<h1 style=\"color:gray\"> 02 Operatoren, logische Ausdrücke, Struktogramme </h1>"
   ]
  },
  {
   "cell_type": "markdown",
   "metadata": {},
   "source": [
    "<h2 style=\"color:gray\"> 02 Logische Ausdrücke </h2>"
   ]
  },
  {
   "cell_type": "markdown",
   "metadata": {},
   "source": [
    "Zur Erinnerung: Ein Boolean-Wert ist ein Wahrheitswert, der entweder wahr (`True`) oder falsch (`False`) ist. Zum Beispiel:"
   ]
  },
  {
   "cell_type": "code",
   "execution_count": null,
   "metadata": {},
   "outputs": [],
   "source": [
    "regen_gemeldet = False\n",
    "sonnig = True"
   ]
  },
  {
   "cell_type": "markdown",
   "metadata": {},
   "source": [
    "Entsprechend können Zahlen auch miteinander verglichen werden mit den folgenden <em>Vergleichsoperatoren</em>.\n",
    "\n",
    "<table style=\"margin: auto;\">\n",
    "  <tr>\n",
    "    <th>Operator</th>\n",
    "    <th>Beschreibung</th>\n",
    "    <th>Beispiel</th>\n",
    "    <th>Ergebnis</th>\n",
    "  </tr>\n",
    "  <tr>\n",
    "    <td><</td>\n",
    "    <td>kleiner als</td>\n",
    "    <td>5 < 3</td>\n",
    "    <td>False</td>\n",
    "  </tr>\n",
    "  <tr>\n",
    "    <td>></td>\n",
    "    <td>größer als</td>\n",
    "    <td>5 > 3</td>\n",
    "    <td>True</td>\n",
    "  </tr>\n",
    "  <tr>\n",
    "    <td><=</td>\n",
    "    <td>kleiner gleich</td>\n",
    "    <td>5 <= 3</td>\n",
    "    <td>False</td>\n",
    "  </tr>\n",
    "  <tr>\n",
    "    <td>>=</td>\n",
    "    <td>größer gleich</td>\n",
    "    <td>5 >= 3</td>\n",
    "    <td>True</td>\n",
    "  </tr>\n",
    "  <tr>\n",
    "    <td>!=</td>\n",
    "    <td>ungleich</td>\n",
    "    <td>5 != 3</td>\n",
    "    <td>True</td>\n",
    "  </tr>\n",
    "  <tr>\n",
    "    <td>==</td>\n",
    "    <td>gleich</td>\n",
    "    <td>5 == 3</td>\n",
    "    <td>False</td>\n",
    "  </tr>\n",
    "</table>\n",
    "\n",
    "<p>Probiere es selbst aus, indem du die Zahlenwerte für a und b änderst.</p>"
   ]
  },
  {
   "cell_type": "code",
   "execution_count": null,
   "metadata": {},
   "outputs": [
    {
     "name": "stdout",
     "output_type": "stream",
     "text": [
      "Ist 11 kleiner als 3? Das kann man mit 11<3 herausfinden. Antwort: False.\n",
      "Ist 11 größer als 3? Das kann man mit 11>3 herausfinden. Antwort: True.\n",
      "Ist 11 kleiner gleich 3? Das kann man mit 11<=3 herausfinden. Antwort: False.\n",
      "Ist 11 größer gleich 3? Das kann man mit 11>=3 herausfinden. Antwort: True.\n",
      "Ist 11 nicht gleich 3? Das kann man mit 11!=3 herausfinden. Antwort: True.\n",
      "Ist 11 gleich 3? Das kann man mit 11==3 herausfinden. Antwort: False.\n"
     ]
    }
   ],
   "source": [
    "a = 11\n",
    "b = 3\n",
    "\n",
    "# Ausgabe\n",
    "print(f\"Ist {a} kleiner als {b}? Das kann man mit {a}<{b} herausfinden. Antwort: {a<b}.\")\n",
    "print(f\"Ist {a} größer als {b}? Das kann man mit {a}>{b} herausfinden. Antwort: {a>b}.\")\n",
    "print(f\"Ist {a} kleiner gleich {b}? Das kann man mit {a}<={b} herausfinden. Antwort: {a<=b}.\")\n",
    "print(f\"Ist {a} größer gleich {b}? Das kann man mit {a}>={b} herausfinden. Antwort: {a>=b}.\")\n",
    "print(f\"Ist {a} nicht gleich {b}? Das kann man mit {a}!={b} herausfinden. Antwort: {a!=b}.\")\n",
    "print(f\"Ist {a} gleich {b}? Das kann man mit {a}=={b} herausfinden. Antwort: {a==b}.\")"
   ]
  },
  {
   "cell_type": "markdown",
   "metadata": {},
   "source": [
    "<p> <strong style=\"color:red\">Vorsicht</strong>: Einer der häufigsten Fehlerquellen in der Programmierung ist, dass der Zuweisungsoperator `=` mit dem Gleichheitsoperator `==` verwechselt wird!!! </p>"
   ]
  },
  {
   "cell_type": "markdown",
   "metadata": {},
   "source": [
    "Manchmal ist man auch daran interessiert, ob eine Aussage nicht wahr ist, ob zwei Aussagen wahr sind oder ob mindestens eine von zwei Aussagen wahr ist. Dafür gibt es die _logischen Operatoren_ `not`, `and` und `or`."
   ]
  },
  {
   "cell_type": "code",
   "execution_count": null,
   "metadata": {},
   "outputs": [
    {
     "name": "stdout",
     "output_type": "stream",
     "text": [
      "kein_regen = False\n",
      "regenbogen = False\n",
      "regen_oder_sonne = True\n"
     ]
    }
   ],
   "source": [
    "regen = True\n",
    "sonne = False\n",
    "\n",
    "kein_regen = not regen\n",
    "regenbogen = (regen and sonne)\n",
    "regen_oder_sonne = (regen or sonne)\n",
    "\n",
    "print(f\"kein_regen = {kein_regen}\")\n",
    "print(f\"regenbogen = {regenbogen}\")\n",
    "print(f\"regen_oder_sonne = {regen_oder_sonne}\")"
   ]
  },
  {
   "cell_type": "markdown",
   "metadata": {},
   "source": [
    "<h3 style=\"color:gray\"> Aufgaben </h3>"
   ]
  },
  {
   "cell_type": "markdown",
   "metadata": {},
   "source": [
    "<ol type=\"a\" start=\"1\">\n",
    "    <li>Schreibe ein Programm, das zwei Zahlen als Eingabe erhält und True ausgibt, wenn die erste Zahl größer ist und sonst False.</li>\n",
    "</ol>"
   ]
  },
  {
   "cell_type": "code",
   "execution_count": null,
   "metadata": {},
   "outputs": [],
   "source": [
    "\"\"\"Aufgabe a.\"\"\""
   ]
  },
  {
   "cell_type": "markdown",
   "metadata": {},
   "source": [
    "<ol type=\"a\" start=\"2\">\n",
    "    <li>Schreibe ein Programm, das zwei Zahlen erhält und True ausgibt, wenn die erste Zahl durch die zweite Zahl teilbar ist und sonst False (Tipp: `%`) </li>\n",
    "</ol>"
   ]
  },
  {
   "cell_type": "code",
   "execution_count": null,
   "metadata": {},
   "outputs": [],
   "source": [
    "\"\"\"Aufgabe b.\"\"\""
   ]
  },
  {
   "cell_type": "markdown",
   "metadata": {},
   "source": [
    "<ol type=\"a\" start=\"3\">\n",
    "  <li>\n",
    "    <em> (Für Schnelle) </em> In dieser Aufgabe geht es um das Würfelspiel „Mäxle“. Dabei werden zwei Würfel gleichzeitig geworfen und jede Spielerin / jeder Spieler hat das Ziel, einen „höheren“ Wurf als die Vorgängerin bzw. der Vorgänger zu werfen. </br>\n",
    "    Bei einem Wurf ist stets die höhere Augenzahl die Zehnerstelle und die niedrigere die Einerstelle. Die beiden Augenzahlen 3 und 5 ergeben also z.B. die Zahl 53. </br>\n",
    "    Zwei gleiche Augenzahlen gelten als Pasch, die 1 und die 2 (also 21) als „Mäxle“. Die Reihenfolge ist: „normale Zahlen“ wie 31, 32, 41,..., 65; dann die Päsche 11, 22, ..., 66 und schließlich als höchstes Ergebnis das „Mäxle“ (21). \n",
    "    <p> Im folgenden Code wird ein Würfelwurf simuliert. Gib mit logischen Verknüpfungen an, ob folgende Ereignisse wahr oder falsch sind:</p>\n",
    "    <ol>\n",
    "        <li>Beide Würfel zeigen die Augenzahl 4.</li>\n",
    "        <li>Es wird ein Pasch oder das „Mäxle“ gewürfelt.</li>\n",
    "        <li>Es wird eine „normale Zahl“, aber nicht das „Mäxle“ gewürfelt.</li>\n",
    "        <li>Es wird eine „normale Zahl“ über 60 gewürfelt. (D.h. der Sechserpasch ist nicht dabei)</li>\n",
    "        <li>Denke dir noch weitere Ereignisse aus und formuliere dazu die passenden Aussagen (als Kommentare im Code)</li>\n",
    "    </ol>\n",
    "  </li>\n",
    "</ol>\n",
    "\n"
   ]
  },
  {
   "cell_type": "code",
   "execution_count": null,
   "metadata": {},
   "outputs": [],
   "source": [
    "\"\"\"Aufgabe für Schnelle\"\"\"\n",
    "import random\n",
    "\n",
    "# Zufallszahl zwischen 1 und 6 für beide Würfel\n",
    "wuerfel_1 = random.randint(1, 6)\n",
    "wuerfel_2 = random.randint(1, 6)\n",
    "\n",
    "# Ausgabe des Würfelwurfs\n",
    "print(f\"Gewürfelt wurde {wuerfel_1}{wuerfel_2}\")\n",
    "\n",
    "# Beide Würfel zeigen die Augenzahl 4.\n",
    "\n",
    "# Es wird ein Pasch oder das „Mäxle“ gewürfelt.\n",
    "\n",
    "# Es wird eine „normale Zahl“, aber nicht das „Mäxle“ gewürfelt.\n",
    "\n",
    "# Es wird eine „normale Zahl“ über 60 gewürfelt. (D.h. der Sechserpasch ist nicht dabei)\n"
   ]
  }
 ],
 "metadata": {
  "kernelspec": {
   "display_name": "Python 3",
   "language": "python",
   "name": "python3"
  },
  "language_info": {
   "codemirror_mode": {
    "name": "ipython",
    "version": 3
   },
   "file_extension": ".py",
   "mimetype": "text/x-python",
   "name": "python",
   "nbconvert_exporter": "python",
   "pygments_lexer": "ipython3",
   "version": "3.6.6+"
  },
  "vscode": {
   "interpreter": {
    "hash": "aee8b7b246df8f9039afb4144a1f6fd8d2ca17a180786b69acc140d282b71a49"
   }
  }
 },
 "nbformat": 4,
 "nbformat_minor": 2
}
