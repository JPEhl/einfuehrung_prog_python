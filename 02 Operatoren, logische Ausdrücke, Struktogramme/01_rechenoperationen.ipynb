{
 "cells": [
  {
   "cell_type": "markdown",
   "metadata": {},
   "source": [
    "<h1 style=\"color:gray\"> 02 Operatoren, logische Ausdrücke, Struktogramme </h1>"
   ]
  },
  {
   "cell_type": "markdown",
   "metadata": {},
   "source": [
    "<h2 style=\"color:gray\"> 01 Rechenoperationen </h2>\n",
    "\n",
    "<p>Um mit Zahlen rechnen zu können, stellt Python (wie auch andere Programmiersprachen in ähnlicher Art und Weise) einige Rechenoperatoren zur Verfügung:</p>\n",
    "\n",
    "<table style=\"margin: auto;\">\n",
    "  <tr>\n",
    "    <th>Operator</th>\n",
    "    <th>Beschreibung</th>\n",
    "    <th>Beispiel</th>\n",
    "    <th>Ergebnis</th>\n",
    "  </tr>\n",
    "  <tr>\n",
    "    <td>+</td>\n",
    "    <td>Addition</td>\n",
    "    <td>5 + 3</td>\n",
    "    <td>8</td>\n",
    "  </tr>\n",
    "  <tr>\n",
    "    <td>-</td>\n",
    "    <td>Subtraktion</td>\n",
    "    <td>5 - 3</td>\n",
    "    <td>2</td>\n",
    "  </tr>\n",
    "  <tr>\n",
    "    <td>*</td>\n",
    "    <td>Multiplikation</td>\n",
    "    <td>5 * 3</td>\n",
    "    <td>15</td>\n",
    "  </tr>\n",
    "  <tr>\n",
    "    <td>/</td>\n",
    "    <td>Gleitkommadivision</td>\n",
    "    <td>5 / 3</td>\n",
    "    <td>1.6666666666666667</td>\n",
    "  </tr>\n",
    "  <tr>\n",
    "    <td>//</td>\n",
    "    <td>Ganzzahldivision</td>\n",
    "    <td>5 // 3</td>\n",
    "    <td>1</td>\n",
    "  </tr>\n",
    "  <tr>\n",
    "    <td>%</td>\n",
    "    <td>Modulo (Rest bei Division)</td>\n",
    "    <td>5 % 3</td>\n",
    "    <td>2</td>\n",
    "  </tr>\n",
    "  <tr>\n",
    "    <td>**</td>\n",
    "    <td>Potenzierung</td>\n",
    "    <td>5 ** 3</td>\n",
    "    <td>125</td>\n",
    "  </tr>\n",
    "</table>\n",
    "\n",
    "<p>Probiere es selbst aus, indem du die Zahlenwerte für a und b änderst.</p>"
   ]
  },
  {
   "cell_type": "code",
   "execution_count": null,
   "metadata": {},
   "outputs": [],
   "source": [
    "a = 11\n",
    "b = 3\n",
    "\n",
    "# Ausgabe\n",
    "print(f\"Die Summe von {a} und {b} wird in Python mit {a}+{b} berechnet. Das Ergebnis ist {a+b}.\")\n",
    "print(f\"Die Differenz von {a} und {b} wird in Python mit {a}-{b} berechnet. Das Ergebnis ist {a-b}.\")\n",
    "print(f\"Das Produkt von {a} und {b} wird in Python mit {a}*{b} berechnet. Das Ergebnis ist {a*b}.\")\n",
    "print(f\"Der Quotient von {a} und {b} wird in Python mit {a}/{b} berechnet. Das Ergebnis ist {a/b}.\")\n",
    "print(f\"Der ganzzahlige Quotient von {a} und {b} wird in Python mit {a}//{b} berechnet. Das Ergebnis ist {a//b}.\")\n",
    "print(f\"Der Rest der Ganzzahldivision von {a} und {b} wird in Python mit {a}%{b} berechnet. Das Ergebnis ist {a%b}.\")\n",
    "print(f\"Die Potenz {a} hoch {b} wird in Python mit {a}**{b} berechnet. Das Ergebnis ist {a**b}.\")"
   ]
  },
  {
   "cell_type": "markdown",
   "metadata": {},
   "source": [
    "<h3 style=\"color:gray\"> Klammern </h3>\n",
    "\n",
    "<p> Auch in der Programmierung gibt es eine \"Hierarchie der Rechenoperatoren. Beispielsweise gilt \"Punkt vor Strich\". Daher kann man mit runden Klammern () Rechenausdrücke anpassen."
   ]
  },
  {
   "cell_type": "code",
   "execution_count": null,
   "metadata": {},
   "outputs": [],
   "source": [
    "a = 5\n",
    "b = 6\n",
    "c = 7\n",
    "\n",
    "print(f\"{a} + {b} * {c} = {a} + {b*c} = {a+b*c}\")\n",
    "print(f\"({a} + {b}) * {c} = {a+b} * {c} = {(a+b)*c}\")"
   ]
  },
  {
   "cell_type": "markdown",
   "metadata": {},
   "source": [
    "<h3 style=\"color:gray\"> Aufgaben </h3>\n",
    "\n",
    "<ol type=\"a\" start=\"1\">\n",
    "    <li>Der FC Sparsheim möchte ein neues Fußballfeld anlegen und berechnen, wie teuer die Anschaffung wird. Ein Quadratmeter Rasen kostet 20€. Ein Tor kostet 1400€. Mehr Kosten sollen zunächst nicht berücksichtigt werden. Schreibe ein Programm, das nach der Länge und Breite des Feldes fragt und die Gesamtkosten für das Fußballfeld nennt. </li>\n",
    "</ol>"
   ]
  },
  {
   "cell_type": "code",
   "execution_count": null,
   "metadata": {},
   "outputs": [],
   "source": [
    "\"\"\"Aufgabe a\"\"\""
   ]
  },
  {
   "cell_type": "markdown",
   "metadata": {},
   "source": [
    "<ol type=\"a\" start=\"2\">\n",
    "    <li>Auf einer Party wurden Pizzen bestellt. Da so viele Leute da sind, werden einfach reihum Pizzastücke ausgeteilt, bis für eine neue Austeilrunde nicht mehr genügend Pizzastücke übrig sind. Erstelle ein Programm, das zu Beginn die Anzahl der Personen und der Pizzastücke erfragt und berechnet, wie viele Pizzastücke jede Person erhält und wie viele Pizzastücke am Ende noch übrig bleiben. </li>\n",
    "</ol>"
   ]
  },
  {
   "cell_type": "code",
   "execution_count": null,
   "metadata": {},
   "outputs": [],
   "source": [
    "\"\"\"Aufgabe b\"\"\""
   ]
  },
  {
   "cell_type": "markdown",
   "metadata": {},
   "source": [
    "<ol type=\"a\" start=\"3\">\n",
    "    <li><em> Für Schnelle</em>: In dieser Aufgabe wurde ein Timer erstellt, der in 1-Sekunden-Schritten immer eine Zahl hochzählt. Der Timer beginnt bei einer Zufallszahl. Ergänze das Programm so, dass damit die Uhrzeit angezeigt wird. Die Zahl 0 der Zahl bedeutet dabei 0:00 Uhr.\n",
    "    (Für besondere Ästheten: ein String str lässt sich mit str.zfill(2) mit führenden 0en schreiben.) </li>\n",
    "</ol>"
   ]
  },
  {
   "cell_type": "code",
   "execution_count": null,
   "metadata": {},
   "outputs": [],
   "source": [
    "\"\"\"Aufgabe c\"\"\"\n",
    "\n",
    "import time\n",
    "import random\n",
    "from IPython.display import clear_output\n",
    "\n",
    "# Anzahl Sekunden des Tags\n",
    "TAG_SEKUNDEN = 86400  # z.B. 24 Stunden = 86400 Sekunden\n",
    "\n",
    "# Zufallszahl zwischen 0 und Anzahl Sekunden des Tags\n",
    "zufallszahl = random.randint(0, TAG_SEKUNDEN)\n",
    "\n",
    "# Schleife, die jede Sekunde läuft\n",
    "while True:\n",
    "    # Ausgabe in der Zelle löschen\n",
    "    clear_output(wait=True)\n",
    "\n",
    "    # Ausgabe der Zufallszahl zur Kontrolle\n",
    "    print(f\"zufallszahl = {zufallszahl}\")\n",
    "\n",
    "    \"\"\" Hier kommt dein Code hin\"\"\"\n",
    "\n",
    "    # Zufallszahl erhöhen\n",
    "    zufallszahl += 1\n",
    "    # 1 Sekunde pausieren\n",
    "    time.sleep(1)"
   ]
  }
 ],
 "metadata": {
  "kernelspec": {
   "display_name": "Python 3",
   "language": "python",
   "name": "python3"
  },
  "language_info": {
   "codemirror_mode": {
    "name": "ipython",
    "version": 3
   },
   "file_extension": ".py",
   "mimetype": "text/x-python",
   "name": "python",
   "nbconvert_exporter": "python",
   "pygments_lexer": "ipython3",
   "version": "3.10.1"
  },
  "vscode": {
   "interpreter": {
    "hash": "aee8b7b246df8f9039afb4144a1f6fd8d2ca17a180786b69acc140d282b71a49"
   }
  }
 },
 "nbformat": 4,
 "nbformat_minor": 2
}
