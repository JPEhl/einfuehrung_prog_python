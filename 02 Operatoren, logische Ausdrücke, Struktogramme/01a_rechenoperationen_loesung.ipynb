{
 "cells": [
  {
   "cell_type": "markdown",
   "metadata": {},
   "source": [
    "<h1 style=\"color:gray\"> 02 Operatoren, logische Ausdrücke, Struktogramme </h1>"
   ]
  },
  {
   "attachments": {},
   "cell_type": "markdown",
   "metadata": {},
   "source": [
    "<h2 style=\"color:gray\"> 01 Rechenoperationen (Lösung) </h2>\n",
    "\n",
    "<p>Um mit Zahlen rechnen zu können, stellt Python (wie auch andere Programmiersprachen in ähnlicher Art und Weise) einige Rechenoperatoren zur Verfügung:</p>\n",
    "\n",
    "<table style=\"margin: auto;\">\n",
    "  <tr>\n",
    "    <th>Operator</th>\n",
    "    <th>Beschreibung</th>\n",
    "    <th>Beispiel</th>\n",
    "    <th>Ergebnis</th>\n",
    "  </tr>\n",
    "  <tr>\n",
    "    <td>+</td>\n",
    "    <td>Addition</td>\n",
    "    <td>5 + 3</td>\n",
    "    <td>8</td>\n",
    "  </tr>\n",
    "  <tr>\n",
    "    <td>-</td>\n",
    "    <td>Subtraktion</td>\n",
    "    <td>5 - 3</td>\n",
    "    <td>2</td>\n",
    "  </tr>\n",
    "  <tr>\n",
    "    <td>*</td>\n",
    "    <td>Multiplikation</td>\n",
    "    <td>5 * 3</td>\n",
    "    <td>15</td>\n",
    "  </tr>\n",
    "  <tr>\n",
    "    <td>/</td>\n",
    "    <td>Gleitkommadivision</td>\n",
    "    <td>5 / 3</td>\n",
    "    <td>1.6666666666666667</td>\n",
    "  </tr>\n",
    "  <tr>\n",
    "    <td>//</td>\n",
    "    <td>Ganzzahldivision</td>\n",
    "    <td>5 // 3</td>\n",
    "    <td>1</td>\n",
    "  </tr>\n",
    "  <tr>\n",
    "    <td>%</td>\n",
    "    <td>Modulo (Rest bei Division)</td>\n",
    "    <td>5 % 3</td>\n",
    "    <td>2</td>\n",
    "  </tr>\n",
    "  <tr>\n",
    "    <td>**</td>\n",
    "    <td>Potenzierung</td>\n",
    "    <td>5 ** 3</td>\n",
    "    <td>125</td>\n",
    "  </tr>\n",
    "</table>\n",
    "\n",
    "<p>Hier ein Beispiel:</p>"
   ]
  },
  {
   "cell_type": "code",
   "execution_count": 1,
   "metadata": {},
   "outputs": [
    {
     "name": "stdout",
     "output_type": "stream",
     "text": [
      "Die Summe von 11 und 3 wird in Python mit 11+3 berechnet. Das Ergebnis ist 14.\n",
      "Die Differenz von 11 und 3 wird in Python mit 11-3 berechnet. Das Ergebnis ist 8.\n",
      "Das Produkt von 11 und 3 wird in Python mit 11*3 berechnet. Das Ergebnis ist 33.\n",
      "Der Quotient von 11 und 3 wird in Python mit 11/3 berechnet. Das Ergebnis ist 3.6666666666666665.\n",
      "Der ganzzahlige Quotient von 11 und 3 wird in Python mit 11//3 berechnet. Das Ergebnis ist 3.\n",
      "Der Rest der Ganzzahldivision von 11 und 3 wird in Python mit 11%3 berechnet. Das Ergebnis ist 2.\n",
      "Die Potenz 11 hoch 3 wird in Python mit 11**3 berechnet. Das Ergebnis ist 1331.\n"
     ]
    }
   ],
   "source": [
    "a = 11\n",
    "b = 3\n",
    "\n",
    "# Ausgabe\n",
    "print(f\"Die Summe von {a} und {b} wird in Python mit {a}+{b} berechnet. Das Ergebnis ist {a+b}.\")\n",
    "print(f\"Die Differenz von {a} und {b} wird in Python mit {a}-{b} berechnet. Das Ergebnis ist {a-b}.\")\n",
    "print(f\"Das Produkt von {a} und {b} wird in Python mit {a}*{b} berechnet. Das Ergebnis ist {a*b}.\")\n",
    "print(f\"Der Quotient von {a} und {b} wird in Python mit {a}/{b} berechnet. Das Ergebnis ist {a/b}.\")\n",
    "print(f\"Der ganzzahlige Quotient von {a} und {b} wird in Python mit {a}//{b} berechnet. Das Ergebnis ist {a//b}.\")\n",
    "print(f\"Der Rest der Ganzzahldivision von {a} und {b} wird in Python mit {a}%{b} berechnet. Das Ergebnis ist {a%b}.\")\n",
    "print(f\"Die Potenz {a} hoch {b} wird in Python mit {a}**{b} berechnet. Das Ergebnis ist {a**b}.\")"
   ]
  },
  {
   "attachments": {},
   "cell_type": "markdown",
   "metadata": {},
   "source": [
    "<h3 style=\"color:gray\"> Klammern </h3>\n",
    "\n",
    "<p> Auch in der Programmierung gibt es eine \"Hierarchie der Rechenoperatoren. Beispielsweise gilt \"Punkt vor Strich\". Daher kann man mit runden Klammern () Rechenausdrücke anpassen."
   ]
  },
  {
   "cell_type": "code",
   "execution_count": 2,
   "metadata": {},
   "outputs": [
    {
     "name": "stdout",
     "output_type": "stream",
     "text": [
      "5+6*7 = 5 + 42 = 47\n",
      "(5+6)*7 = 11 * 7 = 77\n"
     ]
    }
   ],
   "source": [
    "a = 5\n",
    "b = 6\n",
    "c = 7\n",
    "\n",
    "print(f\"{a}+{b}*{c} = {a} + {b*c} = {a+b*c}\")\n",
    "print(f\"({a}+{b})*{c} = {a+b} * {c} = {(a+b)*c}\")"
   ]
  },
  {
   "attachments": {},
   "cell_type": "markdown",
   "metadata": {},
   "source": [
    "<h3 style=\"color:gray\"> Aufgaben </h3>\n",
    "\n",
    "<ol type=\"a\" start=\"1\">\n",
    "    <li>Der FC Sparsheim möchte ein neues Fußballfeld anlegen und berechnen, wie teuer die Anschaffung wird. Ein Quadratmeter Rasen kostet 20€. Ein Tor kostet 1400€. Mehr Kosten sollen zunächst nicht berücksichtigt werden. Schreibe ein Programm, das nach der Länge und Breite des Feldes fragt und die Gesamtkosten für das Fußballfeld nennt. </li>\n",
    "</ol>"
   ]
  },
  {
   "cell_type": "code",
   "execution_count": 3,
   "metadata": {},
   "outputs": [
    {
     "name": "stdout",
     "output_type": "stream",
     "text": [
      "Ein Feld, das 100m lang und 50m breit ist kostet inklusive der beiden Tore 102800 Euro.\n"
     ]
    }
   ],
   "source": [
    "\"\"\"Aufgabe a\"\"\"\n",
    "\n",
    "# Eingaben zur Feldgröße\n",
    "laenge = int(input(\"Länge des Fußballfelds in Metern: \"))\n",
    "breite = int(input(\"Breite des Fußballfelds in Metern: \"))\n",
    "\n",
    "# Berechnung der Fläche in qm\n",
    "flaeche = laenge * breite\n",
    "\n",
    "# Berechnung der Kosten inkl. Kosten für 2 Tore\n",
    "kosten = flaeche * 20 + 2 * 1400\n",
    "\n",
    "# Ausgabe\n",
    "print(f\"Ein Feld, das {laenge}m lang und {breite}m breit ist kostet inklusive der beiden Tore {kosten} Euro.\")"
   ]
  },
  {
   "attachments": {},
   "cell_type": "markdown",
   "metadata": {},
   "source": [
    "<ol type=\"a\" start=\"2\">\n",
    "    <li>Auf einer Party wurden Pizzen bestellt. Da so viele Leute da sind, werden einfach reihum Pizzastücke ausgeteilt, bis für eine neue Austeilrunde nicht mehr genügend Pizzastücke übrig sind. Erstelle ein Programm, das zu Beginn die Anzahl der Personen und der Pizzastücke erfragt und berechnet, wie viele Pizzastücke jede Person erhält und wie viele Pizzastücke am Ende noch übrig bleiben. </li>\n",
    "</ol>"
   ]
  },
  {
   "cell_type": "code",
   "execution_count": 5,
   "metadata": {},
   "outputs": [
    {
     "name": "stdout",
     "output_type": "stream",
     "text": [
      "Auf der Party sind 15 Personen.\n",
      "Es wurden 87 Stücke Pizza bestellt.\n",
      "Jede Person erhält 5 Stücke Pizza.\n",
      "Nach dem Verteilen der Stücke bleiben 12 Stücke Pizza übrig.\n"
     ]
    }
   ],
   "source": [
    "\"\"\"Aufgabe b\"\"\"\n",
    "\n",
    "# Eingaben\n",
    "anzahl_personen = int(input(\"Wie viele Leute sind auf der Party? \"))\n",
    "anzahl_pizzastuecke = int(input(\"Wie viele Pizzastücke wurden bestellt? \"))\n",
    "\n",
    "# Berechnung der Stücke pro Person\n",
    "# Hier hilft die Ganzzahldivision, die nur ganze Stücke berechnet.\n",
    "stuecke_pro_person = anzahl_pizzastuecke // anzahl_personen\n",
    "\n",
    "# Berechnung der übrigen Stücke\n",
    "# Mit dem Modulo-Operator wird der Rest der Pizzastücke leicht berechnet.\n",
    "uebrige_pizzastuecke = anzahl_pizzastuecke % anzahl_personen\n",
    "\n",
    "# Ausgabe\n",
    "print(f\"Auf der Party sind {anzahl_personen} Personen.\")\n",
    "print(f\"Es wurden {anzahl_pizzastuecke} Stücke Pizza bestellt.\")\n",
    "print(f\"Jede Person erhält {stuecke_pro_person} Stücke Pizza.\")\n",
    "print(f\"Nach dem Verteilen der Stücke bleiben {uebrige_pizzastuecke} Stücke Pizza übrig.\")"
   ]
  },
  {
   "attachments": {},
   "cell_type": "markdown",
   "metadata": {},
   "source": [
    "<ol type=\"a\" start=\"3\">\n",
    "    <li><em> Für Schnelle</em>: In dieser Aufgabe wurde ein Timer erstellt, der in 1-Sekunden-Schritten immer eine Zahl hochzählt. Der Timer beginnt bei einer Zufallszahl. Ergänze das Programm so, dass damit die Uhrzeit angezeigt wird. Die Zahl 0 der Zahl bedeutet dabei 0:00 Uhr.\n",
    "    (Für besondere Ästheten: ein String str lässt sich mit str.zfill(2) mit führenden 0en schreiben.) </li>\n",
    "</ol>"
   ]
  },
  {
   "cell_type": "code",
   "execution_count": null,
   "metadata": {},
   "outputs": [],
   "source": [
    "\"\"\"Aufgabe c\"\"\"\n",
    "\n",
    "import time\n",
    "import random\n",
    "from IPython.display import clear_output\n",
    "\n",
    "# Anzahl Sekunden des Tags\n",
    "TAG_SEKUNDEN = 86400  # z.B. 24 Stunden = 86400 Sekunden\n",
    "\n",
    "# Zufallszahl zwischen 0 und Anzahl Sekunden des Tags\n",
    "zufallszahl = random.randint(0, TAG_SEKUNDEN)\n",
    "\n",
    "# Schleife, die jede Sekunde läuft\n",
    "while True:\n",
    "    # Ausgabe in der Zelle löschen\n",
    "    clear_output(wait=True)\n",
    "\n",
    "    # Ausgabe der Zufallszahl zur Kontrolle\n",
    "    print(f\"zufallszahl = {zufallszahl}\")\n",
    "\n",
    "    \"\"\" Hier kommt dein Code hin\"\"\"\n",
    "    # Berechnung der Sekunden, Minuten und Stunden\n",
    "    sekunden = zufallszahl % 60\n",
    "    minuten = (zufallszahl // 60) % 60\n",
    "    stunden = (zufallszahl // 3600) % 24\n",
    "\n",
    "    # Formattierung für schöne Ausgabe\n",
    "    sekunden = str(sekunden).zfill(2)\n",
    "    minuten = str(minuten).zfill(2)\n",
    "    stunden = str(stunden).zfill(2)\n",
    "\n",
    "    print(f\"Timer: {stunden}:{minuten}:{sekunden}\")\n",
    "\n",
    "    # Zufallszahl erhöhen\n",
    "    zufallszahl += 1\n",
    "    # 1 Sekunde pausieren\n",
    "    time.sleep(1)"
   ]
  }
 ],
 "metadata": {
  "kernelspec": {
   "display_name": "Python 3",
   "language": "python",
   "name": "python3"
  },
  "language_info": {
   "codemirror_mode": {
    "name": "ipython",
    "version": 3
   },
   "file_extension": ".py",
   "mimetype": "text/x-python",
   "name": "python",
   "nbconvert_exporter": "python",
   "pygments_lexer": "ipython3",
   "version": "3.10.1"
  },
  "vscode": {
   "interpreter": {
    "hash": "aee8b7b246df8f9039afb4144a1f6fd8d2ca17a180786b69acc140d282b71a49"
   }
  }
 },
 "nbformat": 4,
 "nbformat_minor": 2
}
