{
 "cells": [
  {
   "attachments": {},
   "cell_type": "markdown",
   "metadata": {},
   "source": [
    "<h1 style=\"color:gray\"> 02 Operatoren, logische Ausdrücke, Struktogramme </h1>"
   ]
  },
  {
   "attachments": {},
   "cell_type": "markdown",
   "metadata": {},
   "source": [
    "<h2 style=\"color:gray\"> 04 Übung (Lösung) </h2>\n",
    "\n",
    "<p> <strong>Arbeitsauftrag</strong>: Sammle mindestens 5 &#9733 durch die Bearbeitung der folgenden Aufgaben. </p>"
   ]
  },
  {
   "attachments": {},
   "cell_type": "markdown",
   "metadata": {},
   "source": [
    "<h3> Aufgabe 1 (&#9733 ) </h3>\n",
    "\n",
    "<p>Gib für jede Kombnation aus <code>True</code> und <code>False</code> von <code>a</code> und <code>b</code> den Wahrheitswert des folgenden Ausdrucks an. </p>\n",
    "<pre>\n",
    "    <code>\n",
    "    (a and b) or ((not b) and a)\n",
    "    </code>\n",
    "</pre>"
   ]
  },
  {
   "attachments": {},
   "cell_type": "markdown",
   "metadata": {},
   "source": [
    "_Lösung_: \n",
    "\n",
    "a = True; b = True --> <code>(True and True) or ((not True) and True) == True or (False and True) == True or False == True </code>\n",
    "\n",
    "a = True; b = False --> <code>(True and False) or ((not False) and True) == False or (True and True) == False or True == True </code>\n",
    "\n",
    "a = False; b = True --> <code>(False and True) or ((not True) and False) == False or (True and False) == False or False == False </code>\n",
    "\n",
    "a = False; b = False --> <code>(False and False) or ((not False) and False) == False or (True and False) == False or False == False </code>"
   ]
  },
  {
   "attachments": {},
   "cell_type": "markdown",
   "metadata": {},
   "source": [
    "<h3> Aufgabe 2 (&#9733 ) </h3>\n",
    "\n",
    "<p> Eine Bäckerei verkauft Brötchen für 75 Cent, Puddingteilchen für 1,40 Euro und Brote für 3,40 Euro. Implementiere ein Programm, das je nach eingekaufter Menge der drei Produkte die Gesamtrechnung berechnet.   </p>"
   ]
  },
  {
   "cell_type": "code",
   "execution_count": null,
   "metadata": {},
   "outputs": [],
   "source": [
    "# Eingaben\n",
    "anz_broetchen = int(input(\"Wie viele Brötchen wurden verkauft? \"))\n",
    "anz_puddingteilchen = int(input(\"Wie viele Puddingteilchen wurden verkauft? \"))\n",
    "anz_brot = int(input(\"Wie viele Brote wurden verkauft? \"))\n",
    "\n",
    "# Preise werden extra abgespeichert, so könnten sie bei Preisänderungen schnell geändert werden\n",
    "preis_broetchen = 0.75\n",
    "preis_puddingteilchen = 1.40\n",
    "preis_brot = 3.40\n",
    "\n",
    "# Berechnung des Gesamtpreises\n",
    "gesamtpreis = anz_broetchen * preis_broetchen + anz_puddingteilchen * preis_puddingteilchen + anz_brot * preis_brot\n",
    "\n",
    "# Ausgabe\n",
    "print(f\"Die {anz_broetchen} Brötchen, {anz_puddingteilchen} Puddingteilchen und {anz_brot} Brote kosten zusammen {gesamtpreis} Euro.\")"
   ]
  },
  {
   "attachments": {},
   "cell_type": "markdown",
   "metadata": {},
   "source": [
    "<h3> Aufgabe 3 (&#9733 ) </h3>\n",
    "\n",
    "<p> Implementiere ein Programm, das die beiden Längen der beiden Katheten eines rechtwinkligen Dreiecks erhält und die Länge der Hypothenuse berechnet. </p>\n",
    "\n",
    "<details>\n",
    "  <summary>Tipp 1</summary>\n",
    "\n",
    "  <p> Satz des Pythagoras. </p>\n",
    "</details>\n",
    "\n",
    "<details>\n",
    "  <summary>Tipp 2</summary>\n",
    "\n",
    "  $ a^2 + b^2 = c^2 $\n",
    "</details>\n",
    "\n",
    "<details>\n",
    "  <summary>Tipp 3</summary>\n",
    "\n",
    "  $c = \\sqrt{a^2+b^2} = \\left( a^2 + b^2 \\right)^{\\frac12}$\n",
    "</details>"
   ]
  },
  {
   "cell_type": "code",
   "execution_count": null,
   "metadata": {},
   "outputs": [],
   "source": [
    "# Länge der beiden Kathen\n",
    "len_kathete_1 = float(input(\"Wie lang ist die erste Kathete? \"))\n",
    "len_kathete_2 = float(input(\"Wie lang ist die zweite Kathete? \"))\n",
    "\n",
    "# Berechnung der Länge der Hypothenuse\n",
    "len_hypothenuse = (len_kathete_1**2 + len_kathete_2**2)**(1/2)\n",
    "\n",
    "# Ausgabe\n",
    "print(f\"Die Hypothenuse eines rechtwinkligen Dreiecks, dessen Katheten die Längen {len_kathete_1} und {len_kathete_2} haben, hat die Länge {len_hypothenuse}.\")"
   ]
  },
  {
   "attachments": {},
   "cell_type": "markdown",
   "metadata": {},
   "source": [
    "<h3> Aufgabe 4 (&#9733 &#9733) </h3>\n",
    "\n",
    "Implemetiere ein Programm, das die Ecken eines regelmäßigen Polygons (Dreieck, Viereck, Fünfeck, ...) als Eingabe erhält, und die Summe aller Innenwinkel des Polygons berechnet.\n",
    "\n",
    "<details>\n",
    "  <summary>Tipp</summary>\n",
    "\n",
    "  <p> Die Formel lässt sich recherchieren. </p>\n",
    "</details>"
   ]
  },
  {
   "cell_type": "code",
   "execution_count": null,
   "metadata": {},
   "outputs": [],
   "source": [
    "# Eingabe\n",
    "anz_ecken = int(input(\"Wie viele Seiten hat das Polygon? \"))\n",
    "\n",
    "# Berechnung der Summe der Innenwinkel\n",
    "sum_innenwinkel = (anz_ecken - 2) * 180\n",
    "\n",
    "# Ausgabe\n",
    "print(f\"Die Summe aller Innenwinkel eines {anz_ecken}-Ecks beträgt {sum_innenwinkel} Grad.\")"
   ]
  },
  {
   "attachments": {},
   "cell_type": "markdown",
   "metadata": {},
   "source": [
    "<h3> Aufgabe 5 (&#9733 &#9733) </h3>\n",
    "\n",
    "<p> Ein Hund ist ein Tier, das entweder knurrt oder hechelt und stets knuddelig aussieht. Implementiere ein Programm, das danach fragt, ob eine Sache ein Tier ist, knurrt, hechelt und/oder knuddelig aussieht (man soll 0 eingeben, wenn nein und 1 wenn ja) und True ausgibt, wenn es sich dabei um einen Hund handelt. </p>"
   ]
  },
  {
   "cell_type": "code",
   "execution_count": null,
   "metadata": {},
   "outputs": [],
   "source": [
    "# Eingaben\n",
    "tier = bool(int(input(\"Ist das Ding ein Tier? (0 für nein, 1 für ja) \")))\n",
    "knurrt = bool(int(input(\"Knurrt das Ding? (0 für nein, 1 für ja) \")))\n",
    "hechelt = bool(int(input(\"Hechelt das Ding? (0 für nein, 1 für ja) \")))\n",
    "knuddelig = bool(int(input(\"Sieht das Ding zum Knuddeln aus? (0 für nein, 1 für ja) \")))\n",
    "\n",
    "# Berechnung, ob das Ding ein Hund ist\n",
    "ist_hund = tier and ((knurrt and not hechelt) or (hechelt and not knurrt)) and knuddelig\n",
    "\n",
    "# Ausgabe\n",
    "print(f\"Tier: {tier}\")\n",
    "print(f\"Knurrt: {knurrt}\")\n",
    "print(f\"Hechelt: {hechelt}\")\n",
    "print(f\"Knuddelig: {knuddelig}\")\n",
    "print()\n",
    "print(f\"Hund: {ist_hund}\")"
   ]
  },
  {
   "attachments": {},
   "cell_type": "markdown",
   "metadata": {},
   "source": [
    "<h3> Aufgabe 6 (&#9733 &#9733) </h3>\n",
    "\n",
    "Der Wurf eines Basketballs kann mit der quadratischen Funktion $f(x) = -0,12x^2 + x + 2$ modelliert werden, wobei $x$ die horizontale Entfernung vom Abwurf und $f(x)$ die Höhe des Balls in Metern darstellen.\n",
    "\n",
    "Implementiere ein Programm, dass die horizontale Entfernung des Balls als Eingabe erhält und damit die Höhe des Balls bestimmt. \n",
    "Gib außerdem aus, ob der Ball an der gegebenen Position sein kann oder nicht."
   ]
  },
  {
   "cell_type": "code",
   "execution_count": null,
   "metadata": {},
   "outputs": [],
   "source": [
    "# Eingabe der horizontalen Entfernung\n",
    "hor_entf = float(input(\"Welche horizontale Entfernung zum Abwurf hat der Ball? \"))\n",
    "\n",
    "# Berechnung der Höhe\n",
    "hoehe = -0.12 * hor_entf**2 + hor_entf + 2\n",
    "\n",
    "# Der Ball ist an einer legitimen Position, wenn er eine positive horizontale Enfernung hat und über der Erde ist\n",
    "pos_legit = (hor_entf >= 0) and (hoehe >= 0)\n",
    "\n",
    "# Ausgabe\n",
    "print(f\"Der Ball hat bei einer horizontalen Entfernung von {hor_entf} Metern eine Höhe von {hoehe} Metern.\")\n",
    "print(f\"Die Position des Balls ist legitim: {pos_legit}.\")"
   ]
  },
  {
   "attachments": {},
   "cell_type": "markdown",
   "metadata": {},
   "source": [
    "<h3> Aufgabe 7 (&#9733 &#9733 &#9733) </h3>\n",
    "\n",
    "<p> Die de-Morgan'schen Regeln sind wichtige Regeln in der Logik. Sie besagen folgendes:  </p>\n",
    "<ol>\n",
    "    <li>Das Gegenteil davon, dass zwei Aussagen gleichzeitig wahr sind, ist identisch mit der Aussage, dass das Gegenteil der einen oder das Gegenteil der anderen Aussage wahr sind (oder das Gegenteil beider Aussagen).</li>\n",
    "    <li>Das Gegenteil davon, dass eine Aussage oder eine andere Aussage (oder beide) wahr sind, ist identisch mit der Aussage, dass das Gegenteil der einen und das Gegenteil der anderen Aussage wahr sind.</li>\n",
    "</ol>\n",
    "<p> Stelle die de-Morgan'schen Regeln in Python dar und prüfe sie für alle 4 Kombinationen von Wahrheitswerten für die beiden benötigten Aussagen.  </p>\n",
    "\n",
    "<details>\n",
    "  <summary>Tipp 1</summary>\n",
    "\n",
    "  <p> Du benötigst z.B. für die 1. Regel eine Variable <code>de_morgan_1 = </code> 1. de-Morgan'sche Regel. </p>\n",
    "</details>\n",
    "\n",
    "<details>\n",
    "  <summary>Tipp 2</summary>\n",
    "\n",
    "  <p> Auf der rechten Seite der Gleichung steht die de-Morgan'sche Regel, die in der Mitte einen Gleichheitsoperator <code>==</code> benötigt. </p>\n",
    "</details>"
   ]
  },
  {
   "cell_type": "code",
   "execution_count": null,
   "metadata": {},
   "outputs": [],
   "source": [
    "aussage_1 = False\n",
    "aussage_2 = False\n",
    "\n",
    "# 1. de-Morgan'sche Regel\n",
    "de_morgan_1 = (not (aussage_1 and aussage_2)) == ((not aussage_1) or (not aussage_2))\n",
    "\n",
    "# 2. de-Morgan'sche Regel\n",
    "de_morgan_2 = (not (aussage_1 or aussage_2)) == ((not aussage_1) and (not aussage_2))\n",
    "\n",
    "# Ausgabe (diese sollte immer True ausgeben, dann ist die Regel richtig)\n",
    "print(f\"Die 1. de-Morgan'sche Regeln ist {de_morgan_1}.\")\n",
    "print(f\"Die 2. de-Morgan'sche Regeln ist {de_morgan_2}.\")"
   ]
  }
 ],
 "metadata": {
  "kernelspec": {
   "display_name": "Python 3",
   "language": "python",
   "name": "python3"
  },
  "language_info": {
   "codemirror_mode": {
    "name": "ipython",
    "version": 3
   },
   "file_extension": ".py",
   "mimetype": "text/x-python",
   "name": "python",
   "nbconvert_exporter": "python",
   "pygments_lexer": "ipython3",
   "version": "3.10.1"
  },
  "vscode": {
   "interpreter": {
    "hash": "aee8b7b246df8f9039afb4144a1f6fd8d2ca17a180786b69acc140d282b71a49"
   }
  }
 },
 "nbformat": 4,
 "nbformat_minor": 2
}
