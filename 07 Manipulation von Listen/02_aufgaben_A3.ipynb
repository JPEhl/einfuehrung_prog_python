{
 "cells": [
  {
   "cell_type": "markdown",
   "metadata": {},
   "source": [
    "<h1 style=\"color:gray\"> 07 Manipulation von Listen </h1>"
   ]
  },
  {
   "attachments": {},
   "cell_type": "markdown",
   "metadata": {},
   "source": [
    "<h2 style=\"color:gray\"> 02 Aufgaben A3 </h2>"
   ]
  },
  {
   "attachments": {},
   "cell_type": "markdown",
   "metadata": {},
   "source": [
    "<h3 style=\"color:gray\"> 1. Aufgabe </h3>\n",
    "\n",
    "<p>Der Bücherladen besteht nicht nur aus einem sondern aus mehreren Bücherstapeln. \n",
    "Implementiere einen kleinen Buchladen.</p>\n",
    "\n",
    "<ul>\n",
    "    <li>Lege dazu zu Beginn das Inventar des Buchladens an, der ein paar Bücherstapel enthält.</li>\n",
    "    <li>Der/die User/in soll gefragt werden, ob er/sie ein Buch ausleihen oder zurückgeben möchte. Anschließend soll der gewünschte Vorgang ausgeführt werden.</li>\n",
    "    <li>Fange Laufzeitfehler rechtzeitig ab.</li>\n",
    "</ul>\n",
    "\n",
    "\n"
   ]
  },
  {
   "attachments": {},
   "cell_type": "markdown",
   "metadata": {},
   "source": [
    "<h3 style=\"color:gray\"> 2. Aufgabe (für Schnelle) </h3>\n",
    "\n",
    "<p>Überlege dir Erweiterungen für den Bücherladen. Beispielsweise könnten die Bücherstapel Bücher unterschiedlicher Genres enthalten, die entsprechend richtig einsortiert werden müssen.</p>"
   ]
  },
  {
   "cell_type": "code",
   "execution_count": null,
   "metadata": {
    "vscode": {
     "languageId": "plaintext"
    }
   },
   "outputs": [],
   "source": []
  }
 ],
 "metadata": {
  "kernelspec": {
   "display_name": "Python 3",
   "language": "python",
   "name": "python3"
  },
  "language_info": {
   "codemirror_mode": {
    "name": "ipython",
    "version": 3
   },
   "file_extension": ".py",
   "mimetype": "text/x-python",
   "name": "python",
   "nbconvert_exporter": "python",
   "pygments_lexer": "ipython3",
   "version": "3.10.1"
  },
  "vscode": {
   "interpreter": {
    "hash": "aee8b7b246df8f9039afb4144a1f6fd8d2ca17a180786b69acc140d282b71a49"
   }
  }
 },
 "nbformat": 4,
 "nbformat_minor": 2
}
