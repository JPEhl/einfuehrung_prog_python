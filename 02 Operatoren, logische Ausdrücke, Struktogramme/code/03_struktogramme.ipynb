{
 "cells": [
  {
   "cell_type": "markdown",
   "metadata": {},
   "source": [
    "<h1 style=\"color:gray\"> 02 Operatoren, logische Ausdrücke, Struktogramme </h1>"
   ]
  },
  {
   "attachments": {},
   "cell_type": "markdown",
   "metadata": {},
   "source": [
    "<h2 style=\"color:gray\"> 03 Struktogramme </h2>"
   ]
  },
  {
   "attachments": {},
   "cell_type": "markdown",
   "metadata": {},
   "source": [
    "<p>Die Programme, welche du später schreiben wirst, werden immer komplizierter. Man kann dabei schnell die Übersicht über den eigentlichen Algorithmus verlieren. Damit du dich voll auf die Erstellung konzentrieren und auch die Strukturen besser erkennen kannst, nutzen wir <em>Struktogramme</em>. Diese sind eine blockartige Darstellung von Algorithmen. Der Struktogrammeditor ist ein Tool des Lehrstuhls für Didaktik der Informatik der TU Dresden (DDI), mit dem solche Struktogramme erstellt werden können.</p>"
   ]
  },
  {
   "attachments": {},
   "cell_type": "markdown",
   "metadata": {},
   "source": [
    "<h3 style=\"color:gray\"> Aufgaben </h3>\n",
    "\n",
    "<p>Mache dich eigenständig mit dem Tool zur Erstellung von Struktogrammen auf der Seite der TU Dresden vertraut und erstelle für mindestens zwei deiner hier erstellten Programme ein Struktogramm. Speichere das Struktogramm anschließend im Informatik-Ordner ab.</p>\n",
    "\n",
    "<p>Du benötigst zunächst nur das <em>Eingabe-Feld</em>, das <em>Ausgabe-Feld</em> und die <em>Anweisung</em>.</p>\n",
    "\n",
    "<a href=\"https://dditools.inf.tu-dresden.de/dev/struktog/\" target=\"_top\">Seite der TU Dresden</a>"
   ]
  }
 ],
 "metadata": {
  "kernelspec": {
   "display_name": "Python 3",
   "language": "python",
   "name": "python3"
  },
  "language_info": {
   "codemirror_mode": {
    "name": "ipython",
    "version": 3
   },
   "file_extension": ".py",
   "mimetype": "text/x-python",
   "name": "python",
   "nbconvert_exporter": "python",
   "pygments_lexer": "ipython3",
   "version": "3.10.1"
  },
  "vscode": {
   "interpreter": {
    "hash": "aee8b7b246df8f9039afb4144a1f6fd8d2ca17a180786b69acc140d282b71a49"
   }
  }
 },
 "nbformat": 4,
 "nbformat_minor": 2
}
