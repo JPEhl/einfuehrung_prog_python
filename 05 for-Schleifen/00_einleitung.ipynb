{
 "cells": [
  {
   "attachments": {},
   "cell_type": "markdown",
   "metadata": {},
   "source": [
    "<h1 style=\"color:gray\"> 05 <code>for</code>-Schleifen </h1>"
   ]
  },
  {
   "attachments": {},
   "cell_type": "markdown",
   "metadata": {},
   "source": [
    "<h2 style=\"color:gray\"> 00 Problemstellung </h2>\n",
    "\n",
    "<figure style=\"margin: 0 2rem 1rem 2rem; width:10rem\">\n",
    "  <img src=\"img/wetter.jpg\" alt=\"Wetter\" >\n",
    "</figure>\n",
    "\n",
    "<p> Für eine Wetter-App wurde die Temperaturvorsage der nächsten Tage in einer Liste gespeichert.\n",
    "Der Listenanfang steht für den aktuellen Tag. </br>\n",
    "Anschließend soll die Temperaturvorhersage ausgegeben werden. </br>\n",
    "Hier ist ein Beispiel-Code, um dies zu bewerkstelligen:</p>"
   ]
  },
  {
   "cell_type": "code",
   "execution_count": 2,
   "metadata": {},
   "outputs": [
    {
     "name": "stdout",
     "output_type": "stream",
     "text": [
      "Tag 0: 16 Grad.\n",
      "Tag 1: 14 Grad.\n",
      "Tag 2: 12 Grad.\n",
      "Tag 3: 8 Grad.\n",
      "Tag 4: 9 Grad.\n",
      "Tag 5: 12 Grad.\n",
      "Tag 6: 13 Grad.\n",
      "Tag 7: 17 Grad.\n"
     ]
    }
   ],
   "source": [
    "# Temperaturdaten\n",
    "temperatur = [16, 14, 12, 8, 9, 12, 13, 17]\n",
    "\n",
    "# Ausgabe der Wetterdaten\n",
    "print(f\"Tag 0: {temperatur[0]} Grad.\")\n",
    "print(f\"Tag 1: {temperatur[1]} Grad.\")\n",
    "print(f\"Tag 2: {temperatur[2]} Grad.\")\n",
    "print(f\"Tag 3: {temperatur[3]} Grad.\")\n",
    "print(f\"Tag 4: {temperatur[4]} Grad.\")\n",
    "print(f\"Tag 5: {temperatur[5]} Grad.\")\n",
    "print(f\"Tag 6: {temperatur[6]} Grad.\")\n",
    "print(f\"Tag 7: {temperatur[7]} Grad.\")"
   ]
  },
  {
   "attachments": {},
   "cell_type": "markdown",
   "metadata": {},
   "source": [
    "<h3 style=\"color:gray\"> Arbeitsauftrag </h3>\n",
    "<ol>\n",
    "    <li> Überlege <em>zunächst alleine</em>, welche Nachteile eine solche Implementierung hat. </li>\n",
    "    <li> Tauscht euch anschließend zu zweit aus und erklärt euch gegenseitig eure Ideen. </li>\n",
    "</ol>"
   ]
  }
 ],
 "metadata": {
  "kernelspec": {
   "display_name": "Python 3",
   "language": "python",
   "name": "python3"
  },
  "language_info": {
   "codemirror_mode": {
    "name": "ipython",
    "version": 3
   },
   "file_extension": ".py",
   "mimetype": "text/x-python",
   "name": "python",
   "nbconvert_exporter": "python",
   "pygments_lexer": "ipython3",
   "version": "3.10.1"
  },
  "vscode": {
   "interpreter": {
    "hash": "aee8b7b246df8f9039afb4144a1f6fd8d2ca17a180786b69acc140d282b71a49"
   }
  }
 },
 "nbformat": 4,
 "nbformat_minor": 2
}
