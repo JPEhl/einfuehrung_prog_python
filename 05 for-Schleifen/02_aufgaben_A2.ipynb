{
 "cells": [
  {
   "cell_type": "markdown",
   "metadata": {},
   "source": [
    "<h1 style=\"color:gray\"> 05 <code>for</code>-Schleifen </h1>"
   ]
  },
  {
   "attachments": {},
   "cell_type": "markdown",
   "metadata": {},
   "source": [
    "<h2 style=\"color:gray\"> 02 Aufgaben A1 </h2>"
   ]
  },
  {
   "attachments": {},
   "cell_type": "markdown",
   "metadata": {},
   "source": [
    "<h3 style=\"color:gray\"> 1. Aufgabe </h3>\n",
    "\n",
    "<p>Im unten stehenden Code findest du erneut den Code zur Erzeugung der Temperaturübersicht aus dem Eingangsbeispiel. </br>\n",
    "Implemetiere den Code durch Verwendung einer <code>for</code>-Schleife so, dass er mit lediglich einem <code>print</code>-Befehl auskommt.</p>\n",
    "\n",
    "<p>Solltest du nicht weiterkommen, nutze die Tipps.</p>\n",
    "\n",
    "<details>\n",
    "  <summary>Tipp 1</summary>\n",
    "  <p> Um die Temperaturdaten auszulesen, musst du in jedem Schleifendurchlauf auf das jeweilige Listenelement zugreifen. </p>\n",
    "</details>\n",
    "\n",
    "<details>\n",
    "  <summary>Tipp 2</summary>\n",
    "  <p> Ist <code>i</code> gegeben, greifst du mit <code>temperatur[i]</code> auf das <code>i</code>-te Listenelement zu.</p>\n",
    "</details>"
   ]
  },
  {
   "attachments": {},
   "cell_type": "markdown",
   "metadata": {},
   "source": [
    "<h3 style=\"color:gray\"> 2. Aufgabe </h3>\n",
    "\n",
    "<p> Der Befehl <code>len(list)</code> gibt die Länge einer Liste <code>list</code> zurück. </br>\n",
    "Implementiere deinen Code aus Aufgabe 1 so, dass stets alle Elemente der Liste <code>temperatur</code> in der <code>for</code>-Schleife ausgegeben werden, egal wie viele Elemente in der Liste sind. </br>\n",
    "Prüfe deine Implementierung mit unterschiedlich langen Listen. </br>"
   ]
  },
  {
   "attachments": {},
   "cell_type": "markdown",
   "metadata": {},
   "source": [
    "<h3 style=\"color:gray\"> 3. Aufgabe (Für Schnelle) </h3>\n",
    "\n",
    "<p> Implementiere zusätzlich Code, sodass dein Programm auch die maximale Temperatur in der Liste ausgibt. </br>\n",
    "\n",
    "<p>Solltest du nicht weiterkommen, nutze die Tipps.</p>\n",
    "\n",
    "<details>\n",
    "  <summary>Tipp 1</summary>\n",
    "  <p> Hilfsvariable, die vor der <code>for</code>-Schleife deklariert wird. </p>\n",
    "</details>\n",
    "\n",
    "<details>\n",
    "  <summary>Tipp 2</summary>\n",
    "  <p> Die Hilfsvariable speichert immer ab, welche maximale Temperatur bisher in der Schleife gefunden wurde. </p>\n",
    "</details>\n",
    "\n",
    "<details>\n",
    "  <summary>Tipp 3</summary>\n",
    "  <p> Die Hilfsvariable sollte bei der Deklaration einen sehr kleinen Wert haben, der auf jeden Fall überschritten wird. </br>\n",
    "  Siehe auch hier: <a href=\"https://www.codingem.com/python-max-and-min-values-for-integers/\"> https://www.codingem.com/python-max-and-min-values-for-integers/</a></p>\n",
    "</details>"
   ]
  },
  {
   "cell_type": "code",
   "execution_count": null,
   "metadata": {},
   "outputs": [],
   "source": [
    "# Temperaturdaten\n",
    "temperatur = [16, 14, 12, 8, 9, 12, 13, 17]\n",
    "\n",
    "# Ausgabe der Wetterdaten --> DIESEN CODE ABÄNDERN\n",
    "print(f\"Tag 0: {temperatur[0]} Grad.\")\n",
    "print(f\"Tag 1: {temperatur[1]} Grad.\")\n",
    "print(f\"Tag 2: {temperatur[2]} Grad.\")\n",
    "print(f\"Tag 3: {temperatur[3]} Grad.\")\n",
    "print(f\"Tag 4: {temperatur[4]} Grad.\")\n",
    "print(f\"Tag 5: {temperatur[5]} Grad.\")\n",
    "print(f\"Tag 6: {temperatur[6]} Grad.\")\n",
    "print(f\"Tag 7: {temperatur[7]} Grad.\")"
   ]
  }
 ],
 "metadata": {
  "kernelspec": {
   "display_name": "Python 3",
   "language": "python",
   "name": "python3"
  },
  "language_info": {
   "codemirror_mode": {
    "name": "ipython",
    "version": 3
   },
   "file_extension": ".py",
   "mimetype": "text/x-python",
   "name": "python",
   "nbconvert_exporter": "python",
   "pygments_lexer": "ipython3",
   "version": "3.10.1"
  },
  "vscode": {
   "interpreter": {
    "hash": "aee8b7b246df8f9039afb4144a1f6fd8d2ca17a180786b69acc140d282b71a49"
   }
  }
 },
 "nbformat": 4,
 "nbformat_minor": 2
}
