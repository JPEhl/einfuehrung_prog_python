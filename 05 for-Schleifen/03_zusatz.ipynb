{
 "cells": [
  {
   "cell_type": "markdown",
   "metadata": {},
   "source": [
    "<h1 style=\"color:gray\"> 05 <code>for</code>-Schleifen </h1>"
   ]
  },
  {
   "attachments": {},
   "cell_type": "markdown",
   "metadata": {},
   "source": [
    "<h2 style=\"color:gray\"> 03 Zusatz </h2>"
   ]
  },
  {
   "attachments": {},
   "cell_type": "markdown",
   "metadata": {},
   "source": [
    "<h3 style=\"color:gray\"> Arbeitsauftrag (ca. 20 Minuten) </h3>"
   ]
  },
  {
   "attachments": {},
   "cell_type": "markdown",
   "metadata": {},
   "source": [
    "<p> Lies dir die folgenden weiteren Informationen durch.</p>\n",
    "\n",
    "<p> Bearbeite anschließend die die Übungen.</p>"
   ]
  },
  {
   "attachments": {},
   "cell_type": "markdown",
   "metadata": {},
   "source": [
    "<h3 style=\"color:gray\"> <code>for</code>-Schleifen allgemein </h3>\n",
    "\n",
    "<p><code>for</code>-Schleifen in Python sind eigentlich sogar etwas allgeimener definiert und entsprechen eher aus anderern Programmiersprachen geläufigen <code>foreach</code>-Schleifen.</p>\n",
    "\n",
    "<p>Die allgemeine Syntax von <code>for</code>-Schleifen in Python sieht folgendermaßen aus:</p>\n",
    "\n",
    "<pre>\n",
    "    <code>\n",
    "    for elem in sequenz:\n",
    "        Anweisung 1\n",
    "        Anweisung 2\n",
    "        #...weitere Anweisungen, falls nötig\n",
    "    </code>\n",
    "</pre>\n",
    "\n",
    "<ul>\n",
    "<li>Dabei ist <code>sequenz</code> ein sequenzieller Datentyp, also z.B. eine Liste. Aber auch String sind im Grunde Sequenzen einzelner Zeichen und können hier verwendet werden.</li>\n",
    "<li>Der nach der <code>for</code>-Anweisung eingerückte Code wird für jedes Element <code>elem</code> in der Sequenz ein Mal ausgeführt</li>\n",
    "</ul>"
   ]
  },
  {
   "cell_type": "code",
   "execution_count": 1,
   "metadata": {},
   "outputs": [
    {
     "name": "stdout",
     "output_type": "stream",
     "text": [
      "Element: 3\n",
      "Element: Voldemort\n",
      "Element: False\n"
     ]
    }
   ],
   "source": [
    "list = [3, \"Voldemort\", False]\n",
    "\n",
    "for elem in list:\n",
    "    print(f\"Element: {elem}\")"
   ]
  },
  {
   "attachments": {},
   "cell_type": "markdown",
   "metadata": {},
   "source": [
    "<h4 style=\"color:gray\"> Struktogramm-Darstellung </h4>\n",
    "\n",
    "<p>Bei <code>for</code>-Schleifen handelt es sich um sogenannte <em>kopfgesteuerte</em> Schleifen, im Fall der Verwendung des <code>range</code>-Befehls imitiert Python aus anderen Programmiersprachen bekannte  <code>Zählschleifen</code>. Die Darstellung als Struktogramm ist die selbt und wie folgt:</p>"
   ]
  },
  {
   "attachments": {},
   "cell_type": "markdown",
   "metadata": {},
   "source": [
    "<figure style=\"display:flex; flex-direction:column; justify-content:center; align-items:center; width: 90%\">\n",
    "  <img src=\"img/struktogramm.png\" alt=\"Bildbeschreibung\">\n",
    "</figure>"
   ]
  },
  {
   "attachments": {},
   "cell_type": "markdown",
   "metadata": {},
   "source": [
    "<h4 style=\"color:gray\"> Der <code>range</code>-Befehl allgemein </h4>\n",
    "\n",
    "<p>Der <code>range</code>-Befehl erzeugt ein Objekt vom Typ </em>range</em>, das beim ausgeben noch keine tieferen Einblicke liefert.</p>"
   ]
  },
  {
   "cell_type": "code",
   "execution_count": 2,
   "metadata": {},
   "outputs": [
    {
     "name": "stdout",
     "output_type": "stream",
     "text": [
      "range(0, 10)\n"
     ]
    }
   ],
   "source": [
    "r = range(10)\n",
    "\n",
    "print(r)"
   ]
  },
  {
   "attachments": {},
   "cell_type": "markdown",
   "metadata": {},
   "source": [
    "<p> Um sich die Elemente des Objekts anschauen zu können, ist es sinnvoll, dass wir das Objekt in eine Liste umwandeln:</p>"
   ]
  },
  {
   "cell_type": "code",
   "execution_count": 4,
   "metadata": {},
   "outputs": [
    {
     "name": "stdout",
     "output_type": "stream",
     "text": [
      "[0, 1, 2, 3, 4, 5, 6, 7, 8, 9]\n"
     ]
    }
   ],
   "source": [
    "r = range(10)\n",
    "liste = list(r)\n",
    "print(liste)"
   ]
  },
  {
   "attachments": {},
   "cell_type": "markdown",
   "metadata": {},
   "source": [
    "<p>Also alles wie vermutet. Der Befehl <code>range(n)</code> enthält die Zahlen <code>0</code> bis <code>n-1</code>.</p>"
   ]
  },
  {
   "attachments": {},
   "cell_type": "markdown",
   "metadata": {},
   "source": [
    "<p>Aber der <code>range</code>-Befehl kann noch mehr und hat allgemein die Form\n",
    "\n",
    "<pre>\n",
    "    <code>\n",
    "    range(begin, end, steps)\n",
    "    </code>\n",
    "</pre>\n",
    "\n",
    "wobei die Parameter <code>begin</code> und </code>steps</code> optional sind.</p>\n",
    "\n",
    "<p>Mit <code>begin</code> kann eingestellt werden, mit welchem Wert das <code>range</code>-Objekt beginnt. Wird auf <code>begin</code> verzichtet, bedeutet dies, dass <code>begin</code> auf den Wert <code>0</code> gesetzt ist.</p>\n",
    "\n",
    "<p>Mit <code>steps</code> kann eingestellt werden, mit welcher Schrittweite die Zahlen im <code>range</code>-Objekt angelegt werden. Wird auf <code>steps</code> verzichtet, ist die Schrittweite gleich <code>1</code>.</p>\n",
    "\n",
    "<p>Hier einige Beispiele:</p>"
   ]
  },
  {
   "cell_type": "code",
   "execution_count": 6,
   "metadata": {},
   "outputs": [
    {
     "name": "stdout",
     "output_type": "stream",
     "text": [
      "[5, 6, 7, 8, 9]\n"
     ]
    }
   ],
   "source": [
    "r_1 = range(5, 10)\n",
    "liste = list(r_1)\n",
    "print(liste)"
   ]
  },
  {
   "cell_type": "code",
   "execution_count": 13,
   "metadata": {},
   "outputs": [
    {
     "name": "stdout",
     "output_type": "stream",
     "text": [
      "[-10, -9, -8, -7, -6, -5, -4, -3, -2, -1, 0, 1, 2, 3, 4]\n"
     ]
    }
   ],
   "source": [
    "r_2 = range(-10, 5)\n",
    "liste = list(r_2)\n",
    "print(liste)"
   ]
  },
  {
   "cell_type": "code",
   "execution_count": 16,
   "metadata": {},
   "outputs": [
    {
     "name": "stdout",
     "output_type": "stream",
     "text": [
      "[10, 15, 20, 25]\n"
     ]
    }
   ],
   "source": [
    "r_3 = range(10, 30, 5)\n",
    "liste = list(r_3)\n",
    "print(liste)"
   ]
  },
  {
   "cell_type": "code",
   "execution_count": 19,
   "metadata": {},
   "outputs": [
    {
     "name": "stdout",
     "output_type": "stream",
     "text": [
      "[60, 56, 52, 48, 44, 40, 36, 32, 28, 24, 20, 16, 12, 8, 4, 0]\n"
     ]
    }
   ],
   "source": [
    "r_4 = range(60, -1, -4)\n",
    "liste = list(r_4)\n",
    "print(liste)"
   ]
  }
 ],
 "metadata": {
  "kernelspec": {
   "display_name": "Python 3",
   "language": "python",
   "name": "python3"
  },
  "language_info": {
   "codemirror_mode": {
    "name": "ipython",
    "version": 3
   },
   "file_extension": ".py",
   "mimetype": "text/x-python",
   "name": "python",
   "nbconvert_exporter": "python",
   "pygments_lexer": "ipython3",
   "version": "3.10.1"
  },
  "vscode": {
   "interpreter": {
    "hash": "aee8b7b246df8f9039afb4144a1f6fd8d2ca17a180786b69acc140d282b71a49"
   }
  }
 },
 "nbformat": 4,
 "nbformat_minor": 2
}
