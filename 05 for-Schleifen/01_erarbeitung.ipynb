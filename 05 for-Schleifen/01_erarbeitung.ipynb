{
 "cells": [
  {
   "cell_type": "markdown",
   "metadata": {},
   "source": [
    "<h1 style=\"color:gray\"> 05 <code>for</code>-Schleifen </h1>"
   ]
  },
  {
   "attachments": {},
   "cell_type": "markdown",
   "metadata": {},
   "source": [
    "<h2 style=\"color:gray\"> 01 Erarbeitung </h2>"
   ]
  },
  {
   "attachments": {},
   "cell_type": "markdown",
   "metadata": {},
   "source": [
    "<h3 style=\"color:gray\"> Arbeitsauftrag (ca. 20 Minuten) </h3>"
   ]
  },
  {
   "attachments": {},
   "cell_type": "markdown",
   "metadata": {},
   "source": [
    "<p> Lies dir die folgenden Informationen zu <em> <code>for</code>-Schleifen </em> in Python durch.</p>\n",
    "\n",
    "<p> Bearbeite anschließend die zugehörigen Aufgaben und <strong> entscheide dich dabei selbstständig für ein Anforderungsniveau</strong>:</p>\n",
    "\n",
    "<ol>\n",
    "    <li> <strong>Anforderungsnivau A1</strong>: Du hast noch keine/kaum Erfahrung mit Schleifen in der Programmierung.</li>\n",
    "    <li> <strong>Anforderungsnivau A2</strong>: Du kennst dich bereits ein Stück weit mit Schleifen in der Programmierung aus. </li>\n",
    "    <li> <strong>Anforderungsnivau A3</strong>: Du kennst dich bereits sehr gut Schleifen in der Programmierung aus. </li>\n",
    "</ol>\n",
    "\n",
    "\n",
    "\n"
   ]
  },
  {
   "attachments": {},
   "cell_type": "markdown",
   "metadata": {},
   "source": [
    "<h3 style=\"color:gray\"> <code>for</code>-Schleifen </h3>\n",
    "\n",
    "<figure style=\"float: right; margin: 0 2rem 1rem 2rem; width:13rem\">\n",
    "  <img src=\"img/wetterapp.jpg\" alt=\"Wetter-App\" >\n",
    "</figure>\n",
    "\n",
    "<p>Das einzelne, zeilenweise Ausgeben von Wetterdaten birgt einige Nachteile, z.B.:</p>\n",
    "\n",
    "<ul>\n",
    "  <li>Der Code wird unnötig lang und unübersichtlich.</li>\n",
    "  <li>Möchte man mehr Wetterdaten ausgeben, muss für jeden Tag ein neuer Befehl angelegt werden (nervig und fehleranfällig).</li>\n",
    "  <li>Für riesige Listen schlichtweg unpraktikabel.</li>\n",
    "</ul>\n",
    "\n",
    "<p>Ein bessere Variante ist es, die Wetterdaten mithilfe einer <code>for</code>-Schleife auszulesen.</p>\n",
    "\n",
    "<p>Die von uns zunächst betrachteten <code>for</code>-Schleifen in Python haben die folgende Syntax:</p>\n",
    "\n",
    "<pre>\n",
    "    <code>\n",
    "    for i in range(n):\n",
    "        Anweisung 1\n",
    "        Anweisung 2\n",
    "        #...weitere Anweisungen, falls nötig\n",
    "    </code>\n",
    "</pre>\n",
    "\n",
    "<ul>\n",
    "<li><em>range</em> ist englisch für <em>Bereich</em>.</li>\n",
    "<li>Dabei ist <code>n</code> eine postive ganze Zahl (<code>1</code>, <code>2</code>, <code>3</code>, ...).</li>\n",
    "<li>Der nach der <code>for</code>-Anweisung eingerückte Code wird <code>n</code> Mal hintereinander ausgeführt</li>\n",
    "<li>Die Variable <code>i</code> heißt <strong>Laufvariable</strong> der Schleife. </br> \n",
    "    Als Laufvariablennamen wählt man häufig die Buchstaben <code>i</code>, <code>j</code>, <code>k</code>, ...</li>\n",
    "<li>Die Laufvariable <code>i</code> hat im ersten Schleifendurchlauf den Wert <code>0</code>, im zweiten den Wert <code>1</code>, ..., im letzten Durchlauf den Wert <code>n-1</code>.</li>\n",
    "</ul>"
   ]
  },
  {
   "cell_type": "code",
   "execution_count": 2,
   "metadata": {},
   "outputs": [
    {
     "name": "stdout",
     "output_type": "stream",
     "text": [
      "Wert von i in diesem Durchlauf: 0\n",
      "Wert von i in diesem Durchlauf: 1\n",
      "Wert von i in diesem Durchlauf: 2\n",
      "Wert von i in diesem Durchlauf: 3\n",
      "Wert von i in diesem Durchlauf: 4\n",
      "Wert von i in diesem Durchlauf: 5\n",
      "Wert von i in diesem Durchlauf: 6\n",
      "Wert von i in diesem Durchlauf: 7\n",
      "Wert von i in diesem Durchlauf: 8\n",
      "Wert von i in diesem Durchlauf: 9\n"
     ]
    }
   ],
   "source": [
    "for i in range(10):\n",
    "    print(f\"Wert von i in diesem Durchlauf: {i}\")"
   ]
  },
  {
   "attachments": {},
   "cell_type": "markdown",
   "metadata": {},
   "source": [
    "<h4 style=\"color:gray\"> Struktogramm-Darstellung </h4>"
   ]
  },
  {
   "attachments": {},
   "cell_type": "markdown",
   "metadata": {},
   "source": [
    "<figure style=\"display:flex; flex-direction:column; justify-content:center; align-items:center; width: 90%\">\n",
    "  <img src=\"img/struktogramm.png\" alt=\"Bildbeschreibung\">\n",
    "</figure>"
   ]
  }
 ],
 "metadata": {
  "kernelspec": {
   "display_name": "Python 3",
   "language": "python",
   "name": "python3"
  },
  "language_info": {
   "codemirror_mode": {
    "name": "ipython",
    "version": 3
   },
   "file_extension": ".py",
   "mimetype": "text/x-python",
   "name": "python",
   "nbconvert_exporter": "python",
   "pygments_lexer": "ipython3",
   "version": "3.10.1"
  },
  "vscode": {
   "interpreter": {
    "hash": "aee8b7b246df8f9039afb4144a1f6fd8d2ca17a180786b69acc140d282b71a49"
   }
  }
 },
 "nbformat": 4,
 "nbformat_minor": 2
}
