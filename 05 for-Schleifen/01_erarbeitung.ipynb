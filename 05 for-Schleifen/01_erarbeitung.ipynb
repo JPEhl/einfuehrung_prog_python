{
 "cells": [
  {
   "cell_type": "markdown",
   "metadata": {},
   "source": [
    "<h1 style=\"color:gray\"> 05 <code>for</code>-Schleifen </h1>"
   ]
  },
  {
   "attachments": {},
   "cell_type": "markdown",
   "metadata": {},
   "source": [
    "<h2 style=\"color:gray\"> 01 Erarbeitung </h2>"
   ]
  },
  {
   "attachments": {},
   "cell_type": "markdown",
   "metadata": {},
   "source": [
    "<h3 style=\"color:gray\"> Arbeitsauftrag (ca. 20 Minuten) </h3>"
   ]
  },
  {
   "attachments": {},
   "cell_type": "markdown",
   "metadata": {},
   "source": [
    "<p> Lies dir die folgenden Informationen zu <em> <code>for</code>-Schleifen </em> in Python durch.</p>\n",
    "\n",
    "<p> Bearbeite anschließend die zugehörigen Aufgaben und <strong> entscheide dich dabei selbstständig für ein Anforderungsniveau</strong>:</p>\n",
    "\n",
    "<ol>\n",
    "    <li> <strong>Anforderungsnivau A1</strong>: Du hast noch keine/kaum Erfahrung mit Schleifen in der Programmierung.</li>\n",
    "    <li> <strong>Anforderungsnivau A2</strong>: Du kennst dich bereits ein Stück weit mit Schleifen in der Programmierung aus. </li>\n",
    "    <li> <strong>Anforderungsnivau A3</strong>: Du kennst dich bereits sehr gut Schleifen in der Programmierung aus. </li>\n",
    "</ol>\n",
    "\n",
    "\n",
    "\n"
   ]
  },
  {
   "attachments": {},
   "cell_type": "markdown",
   "metadata": {},
   "source": [
    "<h3 style=\"color:gray\"> <code>for</code>-Schleifen </h3>\n",
    "\n",
    "<figure style=\"float: right; margin: 0 2rem 1rem 2rem; width:13rem\">\n",
    "  <img src=\"img/wetterapp.jpg\" alt=\"Wetter-App\" >\n",
    "</figure>\n",
    "\n",
    "<p>Das einzelne, zeilenweise Ausgeben von Wetterdaten birgt einige Nachteile, z.B.:</p>\n",
    "\n",
    "<ul>\n",
    "  <li>Der Code wird unnötig lang und unübersichtlich.</li>\n",
    "  <li>Möchte man mehr Wetterdaten ausgeben, muss für jeden Tag ein neuer Befehl angelegt werden (nervig und fehleranfällig).</li>\n",
    "  <li>Für riesige Listen schlichtweg unpraktikabel.</li>\n",
    "</ul>\n",
    "\n",
    "<p>Ein bessere Variante ist es, die Wetterdaten mithilfe einer <code>for</code>-Schleife auszulesen.</p>\n",
    "\n",
    "<p>Eine <code>for</code>-Schleife in Python entspricht dabei eher einer <code>foreach</code>-Schleife in anderen Programmiersprachen wie Java und hat die folgende Syntax:</p>\n",
    "\n",
    "<pre>\n",
    "    <code>\n",
    "    for variable in sequenz:\n",
    "        Anweisung 1\n",
    "        Anweisung 2\n",
    "        #...weitere Anweisungen, falls nötig\n",
    "    </code>\n",
    "</pre>\n",
    "\n",
    "<p>Dabei ist <code>sequenz</code> ein sequenzieller Datentyp. Der nach der <code>for</code>-Anweisung eingerückte Code wird für jeden Eintrag von <code>sequenz</code> je ein Mal durchlaufen. Bei einem Durchlauf besitzt die Variable <code>variable</code> den Wert des aktuellen Eintrags.</p>\n",
    "\n",
    "Mit folgendem Code lässt sich somit eine Wetterübersicht erzeugen:"
   ]
  },
  {
   "cell_type": "code",
   "execution_count": 1,
   "metadata": {},
   "outputs": [
    {
     "name": "stdout",
     "output_type": "stream",
     "text": [
      "Wetter: sonnig\n",
      "Wetter: wolkig\n",
      "Wetter: regnerisch\n",
      "Wetter: wolkig\n",
      "Wetter: sonnig\n",
      "Wetter: regnerisch\n",
      "Wetter: sonnig\n"
     ]
    }
   ],
   "source": [
    "# Wetterdaten\n",
    "wetterdaten = [\"sonnig\", \"wolkig\", \"regnerisch\", \"wolkig\",\n",
    "          \"sonnig\", \"regnerisch\", \"sonnig\"]\n",
    "\n",
    "# Ausgabe der Wetterdaten\n",
    "for wetter in wetterdaten:\n",
    "    print(f\"Wetter: {wetter}\")"
   ]
  },
  {
   "attachments": {},
   "cell_type": "markdown",
   "metadata": {},
   "source": [
    "<h4 style=\"color:gray\"> Struktogramm-Darstellung </h4>"
   ]
  },
  {
   "attachments": {},
   "cell_type": "markdown",
   "metadata": {},
   "source": [
    "<figure style=\"display:flex; flex-direction:column; justify-content:center; align-items:center; width: 90%\">\n",
    "  <img src=\"img/struktogramm.png\" alt=\"Bildbeschreibung\">\n",
    "</figure>"
   ]
  },
  {
   "cell_type": "markdown",
   "metadata": {},
   "source": [
    "<h4 style=\"color:gray\"> Die <code>range()</code>-Funktion </h4>"
   ]
  },
  {
   "attachments": {},
   "cell_type": "markdown",
   "metadata": {},
   "source": [
    "<p> Was noch fehlt ist die Angabe des Tages (als Nummer). Hier hilft uns die (häufig in <code>for</code>-Schleifen verwendete) <code>range()</code>-Funktion weiter.</p>\n",
    "\n",
    "<p>Der Befehl <code>range()</code> erzeugt einen sogenannten Iterator, der Zahlen in einem bestimmten Bereich (englisch: <em>range</em>) liefern kann, die man dann beispielsweise in einer <code>for</code>-Schleife benutzen kann.</p>\n",
    "\n",
    "<p> In <code>for</code>-Schleifen muss man diesen Iterator nicht mehr in eine Liste umwandeln. Zur folgenden Darstellung ist dies aber hilfreich.</p>"
   ]
  },
  {
   "cell_type": "code",
   "execution_count": 5,
   "metadata": {},
   "outputs": [
    {
     "name": "stdout",
     "output_type": "stream",
     "text": [
      "range(0, 10)\n",
      "[0, 1, 2, 3, 4, 5, 6, 7, 8, 9]\n"
     ]
    }
   ],
   "source": [
    "print(range(10))\n",
    "print(list(range(10)))"
   ]
  },
  {
   "attachments": {},
   "cell_type": "markdown",
   "metadata": {},
   "source": [
    "<p> Man erkennt: Die Funktion <code>range()</code> erzeugt, wenn man sie mit einem Argument aufruft, einen Iterator, der die Zahlen <code>0</code> (inklusive) bis zu diesem Wert (exklusive) erzeugt.</p>\n",
    "\n",
    "<p> <code>range()</code> kann auch zwei Argumente erhalten:</p>\n",
    "\n",
    "<pre>\n",
    "    <code>\n",
    "    range(begin, end)\n",
    "    </code>\n",
    "</pre>\n",
    "\n",
    "<p> In diesem Fall wird ein Iterator mit den Zahlen von <code>begin</code> (einschließlich) bis <code>end</code> (ausschließlich) erzeugt.</p>"
   ]
  },
  {
   "cell_type": "code",
   "execution_count": 6,
   "metadata": {},
   "outputs": [
    {
     "name": "stdout",
     "output_type": "stream",
     "text": [
      "range(3, 8)\n",
      "[3, 4, 5, 6, 7]\n"
     ]
    }
   ],
   "source": [
    "print(range(3,8))\n",
    "print(list(range(3,8)))"
   ]
  },
  {
   "attachments": {},
   "cell_type": "markdown",
   "metadata": {},
   "source": [
    "<p> Mit einem dritten Argrument lässt sich auch die Schrittweite von <code>range()</code> ändern:</p>\n",
    "\n",
    "<pre>\n",
    "    <code>\n",
    "    range(begin, end, steps)\n",
    "    </code>\n",
    "</pre>"
   ]
  },
  {
   "cell_type": "code",
   "execution_count": 7,
   "metadata": {},
   "outputs": [
    {
     "name": "stdout",
     "output_type": "stream",
     "text": [
      "range(4, 20, 3)\n",
      "[4, 7, 10, 13, 16, 19]\n"
     ]
    }
   ],
   "source": [
    "print(range(4,20,3))\n",
    "print(list(range(4,20,3)))"
   ]
  },
  {
   "cell_type": "code",
   "execution_count": 9,
   "metadata": {},
   "outputs": [
    {
     "name": "stdout",
     "output_type": "stream",
     "text": [
      "range(50, -20, -3)\n",
      "[50, 40, 30, 20, 10, 0, -10]\n"
     ]
    }
   ],
   "source": [
    "print(range(50, -20, -3))\n",
    "print(list(range(50, -20, -10)))"
   ]
  },
  {
   "attachments": {},
   "cell_type": "markdown",
   "metadata": {},
   "source": [
    "<p> In <code>for</code>-Schleifen lässt sich <code>range()</code> dann wie folgt verwenden:</p>"
   ]
  },
  {
   "cell_type": "code",
   "execution_count": 10,
   "metadata": {},
   "outputs": [
    {
     "name": "stdout",
     "output_type": "stream",
     "text": [
      "0\n",
      "1\n",
      "2\n",
      "3\n",
      "4\n",
      "5\n",
      "6\n",
      "7\n",
      "8\n",
      "9\n",
      "10\n"
     ]
    }
   ],
   "source": [
    "for i in range(11):\n",
    "    print(i)"
   ]
  },
  {
   "attachments": {},
   "cell_type": "markdown",
   "metadata": {},
   "source": [
    "<p>Um nun die Wetterübersicht inklusive der Tage (als Nummern) anzuzeigen, verwenden wir eine Kombination aus <code>range()</code> und <code>len()</code> (was die Länge einer Liste berechnet)."
   ]
  },
  {
   "cell_type": "code",
   "execution_count": 11,
   "metadata": {},
   "outputs": [
    {
     "name": "stdout",
     "output_type": "stream",
     "text": [
      "An Tag 0 ist es sonnig.\n",
      "An Tag 1 ist es wolkig.\n",
      "An Tag 2 ist es regnerisch.\n",
      "An Tag 3 ist es wolkig.\n",
      "An Tag 4 ist es sonnig.\n",
      "An Tag 5 ist es regnerisch.\n",
      "An Tag 6 ist es sonnig.\n"
     ]
    }
   ],
   "source": [
    "# Wetterdaten\n",
    "wetterdaten = [\"sonnig\", \"wolkig\", \"regnerisch\", \"wolkig\",\n",
    "          \"sonnig\", \"regnerisch\", \"sonnig\"]\n",
    "\n",
    "# Ausgabe der Wetterdaten\n",
    "for i in range(len(wetterdaten)):\n",
    "    print(f\"An Tag {i} ist es {wetterdaten[i]}.\")"
   ]
  }
 ],
 "metadata": {
  "kernelspec": {
   "display_name": "Python 3",
   "language": "python",
   "name": "python3"
  },
  "language_info": {
   "codemirror_mode": {
    "name": "ipython",
    "version": 3
   },
   "file_extension": ".py",
   "mimetype": "text/x-python",
   "name": "python",
   "nbconvert_exporter": "python",
   "pygments_lexer": "ipython3",
   "version": "3.10.1"
  },
  "vscode": {
   "interpreter": {
    "hash": "aee8b7b246df8f9039afb4144a1f6fd8d2ca17a180786b69acc140d282b71a49"
   }
  }
 },
 "nbformat": 4,
 "nbformat_minor": 2
}
