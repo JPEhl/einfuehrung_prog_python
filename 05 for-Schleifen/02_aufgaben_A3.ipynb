{
 "cells": [
  {
   "cell_type": "markdown",
   "metadata": {},
   "source": [
    "<h1 style=\"color:gray\"> 05 <code>for</code>-Schleifen </h1>"
   ]
  },
  {
   "attachments": {},
   "cell_type": "markdown",
   "metadata": {},
   "source": [
    "<h2 style=\"color:gray\"> 02 Aufgaben A3 </h2>"
   ]
  },
  {
   "attachments": {},
   "cell_type": "markdown",
   "metadata": {},
   "source": [
    "<p>Gib deine Lösung am Ende der Stunde per Teams ab (Per Nachricht).</p>"
   ]
  },
  {
   "attachments": {},
   "cell_type": "markdown",
   "metadata": {},
   "source": [
    "<h3 style=\"color:gray\"> 1. Aufgabe </h3>\n",
    "\n",
    "<p>Im unten stehenden Code wurden 10 Städtenamen in einer Liste gespeichert. </br> \n",
    "Die Liste <code>temperatur</code> speichert (der Einfachheit halber zufällig) die Temperatur der nächsten 14 Tage für alle 10 Städte.</p>\n",
    "\n",
    "<p> Beschreibe kurz die Datenstruktur, die in der Variable <code>temperatur</code> gespeichert wird, indem du sie einmal printest und dir die Ausgabe anschaust.</p>"
   ]
  },
  {
   "attachments": {},
   "cell_type": "markdown",
   "metadata": {},
   "source": [
    "<h3 style=\"color:gray\"> 2. Aufgabe </h3>\n",
    "\n",
    "<p>Implementiere mit Hilfe von <code>for</code>-Schleifen (ohne List Comprehensions) eine übersichtliche Wetterübersicht der Städte für die nächsten Tage. </p>\n",
    "\n",
    "<p> Dabei darfst du <strong>nicht</strong> einfach Listen printen! </p>\n"
   ]
  },
  {
   "attachments": {},
   "cell_type": "markdown",
   "metadata": {},
   "source": [
    "<h3 style=\"color:gray\"> 3. Aufgabe (für Schnelle) </h3>\n",
    "\n",
    "<p> Implemetiere das Programm weiter, sodass pro Stadt zusätzlich die Minimal- und die Maximaltemperatur angezeigt werden.</p>\n"
   ]
  },
  {
   "attachments": {},
   "cell_type": "markdown",
   "metadata": {},
   "source": [
    "<h3 style=\"color:gray\"> 4. Aufgabe (für Schnelle) </h3>\n",
    "\n",
    "<p> Implementiere das Programm weiter, sodass pro Stadt zusätzlich die Durchschnittstemperatur angezeigt werden.</p>\n"
   ]
  },
  {
   "attachments": {},
   "cell_type": "markdown",
   "metadata": {},
   "source": [
    "<h3 style=\"color:gray\"> 5. Aufgabe (für Schnelle) </h3>\n",
    "\n",
    "<p> Implemtiere weitere sinnvolle Eigenschaften wie beispielsweise das Wetter inklusive Anzeige der Regentage in den kommenden 14 Tagen oder Ähnliches..</p>\n"
   ]
  },
  {
   "cell_type": "code",
   "execution_count": 1,
   "metadata": {},
   "outputs": [],
   "source": [
    "import random\n",
    "\n",
    "staedte = [\"Wiesbaden\", \"Mainz\", \"Berlin\", \"Hamburg\", \"Koeln\", \"Muenchen\", \"Dortmund\", \"Frankfurt am Main\", \"Leipzig\", \"Düsseldorf\"]\n",
    "ANZ_TAGE = 14\n",
    "\n",
    "temperatur = [[0 for i in range(ANZ_TAGE)] for j in range(len(staedte))]\n",
    "\n",
    "for i in range(len(staedte)):\n",
    "    temperatur[i][0] = random.randint(10, 20)\n",
    "    for j in range(1, ANZ_TAGE):\n",
    "        temperatur[i][j] = random.randint(temperatur[i][j-1] - 3, temperatur[i][j-1] + 3)\n"
   ]
  }
 ],
 "metadata": {
  "kernelspec": {
   "display_name": "Python 3",
   "language": "python",
   "name": "python3"
  },
  "language_info": {
   "codemirror_mode": {
    "name": "ipython",
    "version": 3
   },
   "file_extension": ".py",
   "mimetype": "text/x-python",
   "name": "python",
   "nbconvert_exporter": "python",
   "pygments_lexer": "ipython3",
   "version": "3.10.1"
  },
  "vscode": {
   "interpreter": {
    "hash": "aee8b7b246df8f9039afb4144a1f6fd8d2ca17a180786b69acc140d282b71a49"
   }
  }
 },
 "nbformat": 4,
 "nbformat_minor": 2
}
