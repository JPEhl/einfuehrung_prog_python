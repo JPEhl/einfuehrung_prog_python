{
 "cells": [
  {
   "cell_type": "markdown",
   "metadata": {},
   "source": [
    "<h1 style=\"color:gray\"> 05 <code>for</code>-Schleifen </h1>"
   ]
  },
  {
   "attachments": {},
   "cell_type": "markdown",
   "metadata": {},
   "source": [
    "<h2 style=\"color:gray\"> 04 Übung (Lösung) </h2>\n",
    "\n",
    "<p> <strong>Arbeitsauftrag</strong>: Sammle mindestens 5 &#9733 durch die Bearbeitung der folgenden Aufgaben. </p>"
   ]
  },
  {
   "attachments": {},
   "cell_type": "markdown",
   "metadata": {},
   "source": [
    "<h3> Aufgabe 1 (&#9733 ) </h3>\n",
    "\n",
    "<p>Für ein Videoportal wurden die 10 beliebtesten Filme in einer Liste abgespeichert.</p>\n",
    "\n",
    "<p> Für unterschiedliche Zwecke </p>\n",
    "\n",
    "<ul>\n",
    "    <li>sollen die Filme komplett ausgegeben werden,</li>\n",
    "    <li>die ersten fünf Filme mit Nummerierung ausgegeben werden.</li>\n",
    "</ul>\n",
    "\n",
    "<p>Implementiere ein Programm, dass diese Aufgabe ausführt.\n"
   ]
  },
  {
   "cell_type": "code",
   "execution_count": 4,
   "metadata": {},
   "outputs": [
    {
     "name": "stdout",
     "output_type": "stream",
     "text": [
      "Liste aller Filme:\n",
      "Die Verurteilten\n",
      "Der Pate\n",
      "The Dark Knight\n",
      "Der Pate 2\n",
      "Die zwölf Geschworenen\n",
      "Schindlers Liste\n",
      "Der Herr der Ringe: Die Rückkehr des Königs\n",
      "Pulp Fiction\n",
      "Der Herr der Ringe: Die Gefährten\n",
      "Zwei glorreiche Halunken\n",
      "\n",
      "Die 5 beliebtesten Filme:\n",
      "1. Film: Die Verurteilten\n",
      "2. Film: Der Pate\n",
      "3. Film: The Dark Knight\n",
      "4. Film: Der Pate 2\n",
      "5. Film: Die zwölf Geschworenen\n"
     ]
    }
   ],
   "source": [
    "filme = [\"Die Verurteilten\",\n",
    "         \"Der Pate\",\n",
    "         \"The Dark Knight\",\n",
    "         \"Der Pate 2\",\n",
    "         \"Die zwölf Geschworenen\",\n",
    "         \"Schindlers Liste\",\n",
    "         \"Der Herr der Ringe: Die Rückkehr des Königs\",\n",
    "         \"Pulp Fiction\",\n",
    "         \"Der Herr der Ringe: Die Gefährten\",\n",
    "         \"Zwei glorreiche Halunken\"]\n",
    "\n",
    "# Ausgabe aller Filme\n",
    "print(\"Liste aller Filme:\")\n",
    "for film in filme:\n",
    "    print(film)\n",
    "\n",
    "# Leerzeile für die Übersicht\n",
    "print()\n",
    "\n",
    "# Ausgabe der ersten 5 Filme\n",
    "print(\"Die 5 beliebtesten Filme:\")\n",
    "for i in range(5):\n",
    "    print(f\"{i+1}. Film: {filme[i]}\")"
   ]
  },
  {
   "attachments": {},
   "cell_type": "markdown",
   "metadata": {},
   "source": [
    "<h3> Aufgabe 2 (&#9733) </h3>\n",
    "\n",
    "<p>Gib an, wie oft der <code>print</code>-Befehl im folgenden Code ausgeführt wird. </p>\n",
    "\n",
    "<pre>\n",
    "    <code>\n",
    "    for i in range(10):\n",
    "        for j in range(4):\n",
    "            print(i, j)\n",
    "    </code>\n",
    "</pre>"
   ]
  },
  {
   "attachments": {},
   "cell_type": "markdown",
   "metadata": {},
   "source": [
    "_Antwort (Hier doppelklicken und durch Häkchen bestätigen):_ Die äußere Schleife wird 10 Mal durchlaufen. In jedem der 10 Durchläufe wird die innere Schleife 4 Mal durchlaufen. Also wird der <code>print</code>-Befehl insgesamt 40 Mal ausgeführt."
   ]
  },
  {
   "attachments": {},
   "cell_type": "markdown",
   "metadata": {},
   "source": [
    "<h3> Aufgabe 3 (&#9733 ) </h3>\n",
    "\n",
    "<p>Mit den eckigen Klammern [] kann man nicht nur auf Listenelemente, sondern auch auf die Zeichen in einem String. </p>\n",
    "\n",
    "Gib mithilfe von <code>for</code>-Schleifen folgende Nachricht auf der Konsole aus.\n",
    "\n",
    "<ol>\n",
    "    <li>\"Herr\"</li>\n",
    "    <li>\"von Ribbeck\"</li>\n",
    "    <li>\"Havelland\"</li>\n",
    "</ol>\n",
    "\n",
    "<details>\n",
    "  <summary>Tipp</summary>\n",
    "\n",
    "  <p> Um den voreingestellen Zeilensprung beim ausgeben zu verhindern, verwende <code>print(..., end=\"\")</code></p>\n",
    "</details>"
   ]
  },
  {
   "cell_type": "code",
   "execution_count": 5,
   "metadata": {},
   "outputs": [
    {
     "name": "stdout",
     "output_type": "stream",
     "text": [
      "Herr\n",
      "von Ribbeck\n",
      "Havelland\n"
     ]
    }
   ],
   "source": [
    "ribbeck = \"Herr von Ribbeck auf Ribbeck im Havelland\"\n",
    "\n",
    "# Herr\n",
    "for i in range(4):\n",
    "    print(ribbeck[i], end=\"\")\n",
    "print() \n",
    "\n",
    "# von Ribbeck\n",
    "for i in range(5, 16):\n",
    "    print(ribbeck[i], end=\"\")\n",
    "print()\n",
    "\n",
    "# von Havelland\n",
    "for i in range(len(ribbeck) - 9, len(ribbeck)):\n",
    "    print(ribbeck[i], end=\"\")\n",
    "print()"
   ]
  },
  {
   "attachments": {},
   "cell_type": "markdown",
   "metadata": {},
   "source": [
    "<h3> Aufgabe 4 (&#9733 &#9733) </h3>\n",
    "\n",
    "<p>Implementiere ein Programm, das einen Text und ein Textzeichen als Eingabe erhält und alle Positionen ausgibt, an denen der Text dieses Zeichen enthält. </p>"
   ]
  },
  {
   "cell_type": "code",
   "execution_count": 8,
   "metadata": {},
   "outputs": [
    {
     "name": "stdout",
     "output_type": "stream",
     "text": [
      "Text: Luke, ich bin dein Vater!\n",
      "Zeichen: e\n",
      "e befindet sich im Text an Position 3.\n",
      "e befindet sich im Text an Position 15.\n",
      "e befindet sich im Text an Position 22.\n"
     ]
    }
   ],
   "source": [
    "text = input(\"Text eingeben\")\n",
    "zeichen = input(\"Zeichen eingeben\")\n",
    "\n",
    "print(f\"Text: {text}\")\n",
    "print(f\"Zeichen: {zeichen}\")\n",
    "\n",
    "for i in range(len(text)):\n",
    "    if text[i] == zeichen:\n",
    "        print(f\"{zeichen} befindet sich im Text an Position {i}.\")\n"
   ]
  },
  {
   "attachments": {},
   "cell_type": "markdown",
   "metadata": {},
   "source": [
    "<h3> Aufgabe 5 (&#9733 &#9733) </h3>\n",
    "\n",
    "<p>Implementiere ein Programm, eine Zahl <code>n</code> als Eingabe erhält und die Summe <code>1+2+3+4+...n</code> berechnet. </br>\n",
    "Zum Beispiel sollt bei Eingabe <code>10</code> das Ergebnis <code>55</code> ausgegeben werden, da <code>1+2+3+4+5+6+7+8+9+10 = 55</code>.</p>"
   ]
  },
  {
   "cell_type": "code",
   "execution_count": 12,
   "metadata": {},
   "outputs": [
    {
     "name": "stdout",
     "output_type": "stream",
     "text": [
      "Eingabe: 50000\n",
      "Ergebnis: 1250025000\n"
     ]
    }
   ],
   "source": [
    "zahl = int(input(\"Bis zu welcher Zahl soll aufsummiert werden?\"))\n",
    "\n",
    "print(f\"Eingabe: {zahl}\")\n",
    "\n",
    "# Das Ergebnis wird in der Variable ergebnis gespeichert\n",
    "ergebnis = 0\n",
    "\n",
    "for i in range(zahl + 1):\n",
    "    ergebnis += i\n",
    "\n",
    "print(f\"Ergebnis: {ergebnis}\")"
   ]
  },
  {
   "attachments": {},
   "cell_type": "markdown",
   "metadata": {},
   "source": [
    "<h3> Aufgabe 6 (&#9733 &#9733) </h3>\n",
    "\n",
    "<p>Implementiere ein Programm, eine Zahl als Eingabe erhält und das folgende Muster ausgibt (am Beispiel der Eingabe <code>5</code>): </p>\n",
    "\n",
    "<pre>\n",
    "    <code>\n",
    "    1\n",
    "    1 2\n",
    "    1 2 3\n",
    "    1 2 3 4\n",
    "    1 2 3 4 5\n",
    "    </code>\n",
    "</pre>\n",
    "\n",
    "<details>\n",
    "  <summary>Tipp</summary>\n",
    "\n",
    "  <p> Um den voreingestellen Zeilensprung beim Ausgeben zu verhindern und durch ein Leerzeichen zu ersetzen, verwende <code>print(..., end=\" \")</code></p>\n",
    "</details>"
   ]
  },
  {
   "cell_type": "code",
   "execution_count": 16,
   "metadata": {},
   "outputs": [
    {
     "name": "stdout",
     "output_type": "stream",
     "text": [
      "\n",
      "1 \n",
      "1 2 \n",
      "1 2 3 \n",
      "1 2 3 4 \n",
      "1 2 3 4 5 \n"
     ]
    }
   ],
   "source": [
    "zahl = int(input(\"Bitte eine Zahl eingeben\"))\n",
    "\n",
    "for i in range(zahl + 1):\n",
    "    for j in range(i):\n",
    "        print(j + 1, end=\" \")\n",
    "    print()"
   ]
  },
  {
   "attachments": {},
   "cell_type": "markdown",
   "metadata": {},
   "source": [
    "<h3> Aufgabe 7 (&#9733 &#9733) </h3>\n",
    "\n",
    "<p>Implementiere ein Programm, eine Zahl als Eingabe erhält und das folgende Muster ausgibt (am Beispiel der Eingabe <code>5</code>): </p>\n",
    "\n",
    "<pre>\n",
    "    <code>\n",
    "    5 4 3 2 1\n",
    "    4 3 2 1\n",
    "    3 2 1\n",
    "    2 1\n",
    "    1\n",
    "    </code>\n",
    "</pre>\n",
    "\n",
    "<details>\n",
    "  <summary>Tipp</summary>\n",
    "\n",
    "  <p> Um den voreingestellen Zeilensprung beim Ausgeben zu verhindern und durch ein Leerzeichen zu ersetzen, verwende <code>print(..., end=\" \")</code></p>\n",
    "</details>"
   ]
  },
  {
   "cell_type": "code",
   "execution_count": 20,
   "metadata": {},
   "outputs": [
    {
     "name": "stdout",
     "output_type": "stream",
     "text": [
      "5 4 3 2 1 \n",
      "4 3 2 1 \n",
      "3 2 1 \n",
      "2 1 \n",
      "1 \n"
     ]
    }
   ],
   "source": [
    "zahl = int(input(\"Bitte eine Zahl eingeben\"))\n",
    "\n",
    "for i in range(zahl, 0, -1):\n",
    "    for j in range(i, 0, -1):\n",
    "        print(j, end=\" \")\n",
    "    print()"
   ]
  },
  {
   "attachments": {},
   "cell_type": "markdown",
   "metadata": {},
   "source": [
    "<h3> Aufgabe 8 (&#9733 &#9733 &#9733) </h3>\n",
    "\n",
    "<p>Implementiere ein Programm, einen Text als Eingabe erhält und ihn spiegelverkehrt wieder ausgibt. </p>\n",
    "\n",
    "<details>\n",
    "  <summary>Tipp</summary>\n",
    "\n",
    "  <p> Um den voreingestellen Zeilensprung beim ausgeben zu verhindern, verwende <code>print(..., end=\"\")</code></p>\n",
    "</details>"
   ]
  },
  {
   "cell_type": "code",
   "execution_count": 21,
   "metadata": {},
   "outputs": [
    {
     "name": "stdout",
     "output_type": "stream",
     "text": [
      "Eingegebener Text: Herr von Ribbeck auf Ribbeck im Havelland.\n",
      "Spiegelverkehrter Text: .dnallevaH mi kcebbiR fua kcebbiR nov rreH"
     ]
    }
   ],
   "source": [
    "text = input(\"Text eingeben\")\n",
    "\n",
    "print(f\"Eingegebener Text: {text}\")\n",
    "\n",
    "print(\"Spiegelverkehrter Text:\", end= \" \")\n",
    "for i in range(len(text) - 1, -1, -1):\n",
    "    print(text[i], end=\"\")"
   ]
  },
  {
   "cell_type": "markdown",
   "metadata": {},
   "source": [
    "<h3> Aufgabe 9 (&#9733 &#9733 &#9733) </h3>\n",
    "\n",
    "<p>Implementiere ein Programm, das eine Zahl als Eingabe erhält, und alle Primzahlen bis zu dieser Grenze ausgibt </p>\n",
    "\n",
    "<details>\n",
    "  <summary>Tipp</summary>\n",
    "\n",
    "  <p> Mit dem Befehl <code>n % d == 0</code> kann überprüft werden, ob die Zahl <code>d</code> die Zahl <code>n</code> teilt.</p>\n",
    "</details>"
   ]
  },
  {
   "cell_type": "code",
   "execution_count": 30,
   "metadata": {},
   "outputs": [
    {
     "name": "stdout",
     "output_type": "stream",
     "text": [
      "Die Primzahlen bis zur Grenze 1000 lauten: \n",
      "2 3 5 7 11 13 17 19 23 29 31 37 41 43 47 53 59 61 67 71 73 79 83 89 97 101 103 107 109 113 127 131 137 139 149 151 157 163 167 173 179 181 191 193 197 199 211 223 227 229 233 239 241 251 257 263 269 271 277 281 283 293 307 311 313 317 331 337 347 349 353 359 367 373 379 383 389 397 401 409 419 421 431 433 439 443 449 457 461 463 467 479 487 491 499 503 509 521 523 541 547 557 563 569 571 577 587 593 599 601 607 613 617 619 631 641 643 647 653 659 661 673 677 683 691 701 709 719 727 733 739 743 751 757 761 769 773 787 797 809 811 821 823 827 829 839 853 857 859 863 877 881 883 887 907 911 919 929 937 941 947 953 967 971 977 983 991 997 "
     ]
    }
   ],
   "source": [
    "grenze = int(input(\"Bitte eine Zahl eingeben, bis zu welcher alle Primzahlen ausgegeben werden.\"))\n",
    "\n",
    "print(f\"Die Primzahlen bis zur Grenze {grenze} lauten: \")\n",
    "\n",
    "# Da 1 keine Primzahl ist, fängt die Schleife erst bei 2 an.\n",
    "for n in range(2, grenze + 1):\n",
    "    # ist_prim wird für jede Zahl neu auf True gesetzt.\n",
    "    # Wird ein Teiler gefunden, wird ist_prim auf False gesetzt\n",
    "    ist_prim = True\n",
    "    # Die Suche nach Teilern d muss nur bis zur Hälfte der Zahl n durchgeführt werden\n",
    "    for d in range(2, n//2 + 1):\n",
    "        if n % d == 0:\n",
    "            ist_prim = False\n",
    "    if ist_prim:\n",
    "        print(n, end = \" \")\n"
   ]
  }
 ],
 "metadata": {
  "kernelspec": {
   "display_name": "Python 3",
   "language": "python",
   "name": "python3"
  },
  "language_info": {
   "codemirror_mode": {
    "name": "ipython",
    "version": 3
   },
   "file_extension": ".py",
   "mimetype": "text/x-python",
   "name": "python",
   "nbconvert_exporter": "python",
   "pygments_lexer": "ipython3",
   "version": "3.10.1"
  },
  "vscode": {
   "interpreter": {
    "hash": "aee8b7b246df8f9039afb4144a1f6fd8d2ca17a180786b69acc140d282b71a49"
   }
  }
 },
 "nbformat": 4,
 "nbformat_minor": 2
}
