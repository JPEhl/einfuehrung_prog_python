{
 "cells": [
  {
   "attachments": {},
   "cell_type": "markdown",
   "metadata": {},
   "source": [
    "<h1 style=\"color:gray\"> 06 <code>while</code>-Schleifen </h1>"
   ]
  },
  {
   "attachments": {},
   "cell_type": "markdown",
   "metadata": {},
   "source": [
    "<h2 style=\"color:gray\"> 01 Erarbeitung </h2>"
   ]
  },
  {
   "attachments": {},
   "cell_type": "markdown",
   "metadata": {},
   "source": [
    "<h3 style=\"color:gray\"> Arbeitsauftrag (ca. 20 Minuten) </h3>"
   ]
  },
  {
   "attachments": {},
   "cell_type": "markdown",
   "metadata": {},
   "source": [
    "<p> Lies dir die folgenden Informationen zu <em> <code>while</code>-Schleifen </em> in Python durch.</p>\n",
    "\n",
    "<p> Bearbeite anschließend die zugehörigen Aufgaben und <strong> entscheide dich dabei selbstständig für ein Anforderungsniveau</strong>:</p>\n",
    "\n",
    "<ol>\n",
    "    <li> <strong>Anforderungsnivau A1</strong>: Du hast noch keine/kaum Erfahrung mit Schleifen in der Programmierung.</li>\n",
    "    <li> <strong>Anforderungsnivau A2</strong>: Du kennst dich bereits ein Stück weit mit Schleifen in der Programmierung aus. </li>\n",
    "    <li> <strong>Anforderungsnivau A3</strong>: Du kennst dich bereits sehr gut Schleifen in der Programmierung aus. </li>\n",
    "</ol>\n",
    "\n",
    "\n",
    "\n"
   ]
  },
  {
   "attachments": {},
   "cell_type": "markdown",
   "metadata": {},
   "source": [
    "<h3 style=\"color:gray\"> <code>while</code>-Schleifen </h3>\n",
    "\n",
    "<figure style=\"float: right; margin: 0 2rem 1rem 2rem; width:13rem\">\n",
    "  <img src=\"img/wetterapp.jpg\" alt=\"Wetter-App\" >\n",
    "</figure>\n",
    "\n",
    "<p>Beim Programmieren möchte man häufig Code solange ausführen, solange eine bestimmte Bedingung erfüllt ist.</p>\n",
    "\n",
    "<p>Eine <code>while</code>-Schleife löst genau dieses Problem. In Python hat die <code>while</code>-Schleife folgende Syntax:</p>\n",
    "\n",
    "<pre>\n",
    "    <code>\n",
    "    while bedingung:\n",
    "        Anweisung 1\n",
    "        Anweisung 2\n",
    "        #...weitere Anweisungen, falls nötig\n",
    "    </code>\n",
    "</pre>\n",
    "\n",
    "<p>Dabei werden die Anweisungen in der Schleife ausgeführt, wenn die Bedingung wahr ist. Nach dem Durchlauf springt das Programm wieder zum Schleifen-Kopf und prüft die Bedingung erneut.\n",
    "Erst wenn die Bedingung falsch ist, wird die Schleife verlassen und der nachfolgende Code ausgeführt:</p>\n",
    "\n",
    "<figure style=\"margin: 0 2rem 1rem 2rem; width:30rem\">\n",
    "  <img src=\"img/while.png\" alt=\"Wetter-App\" >\n",
    "</figure>"
   ]
  },
  {
   "attachments": {},
   "cell_type": "markdown",
   "metadata": {},
   "source": [
    "<p> So lässt sich beispielsweise zählen, wie viele Tage es inklusive heute sonnig sein wird, bis ein nicht sonniger Tag kommt: </p>"
   ]
  },
  {
   "cell_type": "code",
   "execution_count": 1,
   "metadata": {},
   "outputs": [
    {
     "name": "stdout",
     "output_type": "stream",
     "text": [
      "In den nächsten 3 Tagen wird es sonnig.\n"
     ]
    }
   ],
   "source": [
    "# Wetterdaten\n",
    "wetterdaten = [\"sonnig\", \"sonnig\", \"sonnig\", \"regnerisch\", \"wolkig\",\n",
    "               \"sonnig\", \"regnerisch\", \"sonnig\", \"sonnig\"]\n",
    "\n",
    "# Begonnen wird am Anfang der Liste, also beim Index 0\n",
    "i = 0\n",
    "\n",
    "# Solange es sonnig ist, wird ein weiterer Tag gezählt\n",
    "while wetterdaten[i] == \"sonnig\":\n",
    "    i = i+1\n",
    "\n",
    "print(f\"In den nächsten {i} Tagen wird es sonnig.\")"
   ]
  },
  {
   "attachments": {},
   "cell_type": "markdown",
   "metadata": {},
   "source": [
    "<h4 style=\"color:gray\"> Struktogramm-Darstellung </h4>"
   ]
  },
  {
   "attachments": {},
   "cell_type": "markdown",
   "metadata": {},
   "source": [
    "<figure style=\"display:flex; flex-direction:column; justify-content:center; align-items:center; width: 90%\">\n",
    "  <img src=\"img/struktogramm_while.png\" alt=\"Bildbeschreibung\">\n",
    "</figure>"
   ]
  }
 ],
 "metadata": {
  "kernelspec": {
   "display_name": "Python 3",
   "language": "python",
   "name": "python3"
  },
  "language_info": {
   "codemirror_mode": {
    "name": "ipython",
    "version": 3
   },
   "file_extension": ".py",
   "mimetype": "text/x-python",
   "name": "python",
   "nbconvert_exporter": "python",
   "pygments_lexer": "ipython3",
   "version": "3.10.1"
  },
  "vscode": {
   "interpreter": {
    "hash": "aee8b7b246df8f9039afb4144a1f6fd8d2ca17a180786b69acc140d282b71a49"
   }
  }
 },
 "nbformat": 4,
 "nbformat_minor": 2
}
