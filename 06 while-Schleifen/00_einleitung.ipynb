{
 "cells": [
  {
   "attachments": {},
   "cell_type": "markdown",
   "metadata": {},
   "source": [
    "<h1 style=\"color:gray\"> 06 <code>while</code>-Schleifen </h1>"
   ]
  },
  {
   "attachments": {},
   "cell_type": "markdown",
   "metadata": {},
   "source": [
    "<h2 style=\"color:gray\"> 00 Problemstellung </h2>\n",
    "\n",
    "<figure style=\"margin: 0 2rem 1rem 2rem; width:10rem\">\n",
    "  <img src=\"img/wetter.jpg\" alt=\"Wetter\" >\n",
    "</figure>\n",
    "\n",
    "<p> Für eine Wetter-App soll wurde die Wettervorhersage der nächsten Tage in einer Liste gespeichert. </p>\n",
    "<p> Damit die/der User/in weiß, wann das nächste Mal der Regenschirm benötigt wird, soll angezeigt werden, in wie vielen Tagen es da nächste Mal regnet.</p>\n",
    "<p> Hier ist eine Beispiel-Liste von Wetterdaten:</p>"
   ]
  },
  {
   "cell_type": "code",
   "execution_count": 1,
   "metadata": {},
   "outputs": [],
   "source": [
    "# Wetterdaten\n",
    "wetterdaten = [\"sonnig\", \"sonnig\", \"sonnig\", \"regnerisch\", \"wolkig\",\n",
    "               \"sonnig\", \"regnerisch\", \"sonnig\", \"sonnig\"]"
   ]
  },
  {
   "attachments": {},
   "cell_type": "markdown",
   "metadata": {},
   "source": [
    "<h3 style=\"color:gray\"> Arbeitsauftrag </h3>\n",
    "<ol>\n",
    "    <li> Überlege <em>zunächst alleine</em>, wie ein solches Programm arbeiten müsste, um die Aufgabe zu bewerkstelligen. </li>\n",
    "    <li> Tauscht euch anschließend zu zweit aus und erklärt euch eure Ideen. </li>\n",
    "</ol>"
   ]
  }
 ],
 "metadata": {
  "kernelspec": {
   "display_name": "Python 3",
   "language": "python",
   "name": "python3"
  },
  "language_info": {
   "codemirror_mode": {
    "name": "ipython",
    "version": 3
   },
   "file_extension": ".py",
   "mimetype": "text/x-python",
   "name": "python",
   "nbconvert_exporter": "python",
   "pygments_lexer": "ipython3",
   "version": "3.10.1"
  },
  "vscode": {
   "interpreter": {
    "hash": "aee8b7b246df8f9039afb4144a1f6fd8d2ca17a180786b69acc140d282b71a49"
   }
  }
 },
 "nbformat": 4,
 "nbformat_minor": 2
}
