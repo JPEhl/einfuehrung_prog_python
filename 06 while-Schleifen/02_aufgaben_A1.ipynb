{
 "cells": [
  {
   "attachments": {},
   "cell_type": "markdown",
   "metadata": {},
   "source": [
    "<h1 style=\"color:gray\"> 06 <code>while</code>-Schleifen </h1>"
   ]
  },
  {
   "attachments": {},
   "cell_type": "markdown",
   "metadata": {},
   "source": [
    "<h2 style=\"color:gray\"> 02 Aufgaben A1 </h2>\n",
    "\n",
    "<p> Zurück zur Ausgangsfrage: Gegeben ist eine Liste von Wetterdaten. In wie vielen Tag sollte das nächste Mal ein Regenschirm eingepackt werden? </p>\n",
    "<p> Das Programm startet folgendermaßen: </p>"
   ]
  },
  {
   "cell_type": "code",
   "execution_count": null,
   "metadata": {},
   "outputs": [],
   "source": [
    "# Wetterdaten\n",
    "wetterdaten = [\"sonnig\", \"sonnig\", \"sonnig\", \"regnerisch\", \"wolkig\",\n",
    "               \"sonnig\", \"regnerisch\", \"sonnig\", \"sonnig\"]"
   ]
  },
  {
   "attachments": {},
   "cell_type": "markdown",
   "metadata": {},
   "source": [
    "<h3 style=\"color:gray\"> 1. Aufgabe </h3>\n",
    "\n",
    "<p> Gehe auf die Internetseite <a href=\"https://dditools.inf.tu-dresden.de/dev/struktog/\" target=\"_top\">https://dditools.inf.tu-dresden.de/dev/struktog/</a> der TU Dresden. </br>\n",
    "Erstelle ein Struktogramm für ein Programm, das die Ausgangsfrage löst.</p>"
   ]
  },
  {
   "attachments": {},
   "cell_type": "markdown",
   "metadata": {},
   "source": [
    "<h3 style=\"color:gray\"> 2. Aufgabe </h3>\n",
    "\n",
    "Implementiere das Programm in Python.\n"
   ]
  },
  {
   "cell_type": "code",
   "execution_count": null,
   "metadata": {},
   "outputs": [],
   "source": []
  }
 ],
 "metadata": {
  "kernelspec": {
   "display_name": "Python 3",
   "language": "python",
   "name": "python3"
  },
  "language_info": {
   "codemirror_mode": {
    "name": "ipython",
    "version": 3
   },
   "file_extension": ".py",
   "mimetype": "text/x-python",
   "name": "python",
   "nbconvert_exporter": "python",
   "pygments_lexer": "ipython3",
   "version": "3.10.1"
  },
  "vscode": {
   "interpreter": {
    "hash": "aee8b7b246df8f9039afb4144a1f6fd8d2ca17a180786b69acc140d282b71a49"
   }
  }
 },
 "nbformat": 4,
 "nbformat_minor": 2
}
