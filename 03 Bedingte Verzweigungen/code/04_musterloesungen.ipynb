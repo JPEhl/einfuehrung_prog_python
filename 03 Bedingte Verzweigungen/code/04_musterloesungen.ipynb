{
 "cells": [
  {
   "attachments": {},
   "cell_type": "markdown",
   "metadata": {},
   "source": [
    "<h1 style=\"color:gray\"> 03 Bedingte Verzweigungen </h1>"
   ]
  },
  {
   "attachments": {},
   "cell_type": "markdown",
   "metadata": {},
   "source": [
    "<h2 style=\"color:gray\"> 04 Musterlösungen </h2>"
   ]
  },
  {
   "attachments": {},
   "cell_type": "markdown",
   "metadata": {},
   "source": [
    "<h3> Aufgabe 1 (&#9733 ) </h3>\n",
    "\n",
    "<p>Gib für folgenden Code an, was das Programm für die Eingaben 3, 5, 9 und 10 von a jeweils ausgibt. </p>\n",
    "<pre>\n",
    "    <code>\n",
    "    if (a > 5 and a <= 10):\n",
    "        print(\"Hallo\")\n",
    "    else:\n",
    "        print(\"Tschüss\")\n",
    "    </code>\n",
    "</pre>"
   ]
  },
  {
   "attachments": {},
   "cell_type": "markdown",
   "metadata": {},
   "source": [
    "_Lösung_:\n",
    "\n",
    "<table>\n",
    "  <tr>\n",
    "    <th>Fall</th>\n",
    "    <th>Ausgabe</th>\n",
    "  </tr>\n",
    "  <tr>\n",
    "    <td><code>a = 3</code></td>\n",
    "    <td>Tschüss</td>\n",
    "  </tr>\n",
    "  <tr>\n",
    "    <td><code>a = 5</code></td>\n",
    "    <td>Tschüss</td>\n",
    "  </tr>\n",
    "  <tr>\n",
    "    <td><code>a = 9</code></td>\n",
    "    <td>Hallo</td>\n",
    "  </tr>\n",
    "  <tr>\n",
    "    <td><code>a = 10</code></td>\n",
    "    <td>Hallo</td>\n",
    "  </tr>\n",
    "\n",
    "</table>"
   ]
  },
  {
   "attachments": {},
   "cell_type": "markdown",
   "metadata": {},
   "source": [
    "<h3> Aufgabe 2 (&#9733 ) </h3>\n",
    "\n",
    "<p>Implementiere ein Programm, das dich nach deinem Alter fragt und ausgibt, ob du schon den Führerschein machen darfst oder nicht. </p>"
   ]
  },
  {
   "cell_type": "code",
   "execution_count": null,
   "metadata": {},
   "outputs": [],
   "source": [
    "alter = int(input(\"Wie alt bist du?\"))\n",
    "\n",
    "if alter >= 18:\n",
    "    print(\"Du darfst den Führerschein machen.\")\n",
    "else:\n",
    "    print(\"Du bist noch zu jung.\")"
   ]
  },
  {
   "attachments": {},
   "cell_type": "markdown",
   "metadata": {},
   "source": [
    "<h3> Aufgabe 3 (&#9733 ) </h3>\n",
    "\n",
    "<p>Implementiere ein Programm, das die Wassertemperatur als Eingabe erhält und angibt, ob das Wasser fest, flüssig oder gasförmig ist. </p>"
   ]
  },
  {
   "cell_type": "code",
   "execution_count": null,
   "metadata": {},
   "outputs": [],
   "source": [
    "temperatur = float(input(\"Welche Temperatur hat das Wasser?\"))\n",
    "\n",
    "if temperatur < 0:\n",
    "    print(\"Das Wasser ist fest.\")\n",
    "elif temperatur >= 100:\n",
    "    print(\"Das Wasser ist gasförmig.\")\n",
    "else:\n",
    "    print(\"Das Wasser ist flüssig.\")"
   ]
  },
  {
   "attachments": {},
   "cell_type": "markdown",
   "metadata": {},
   "source": [
    "<h3> Aufgabe 4 (&#9733 &#9733) </h3>\n",
    "\n",
    "<p>Ein Jahr ist genau dann ein Schaltjahr, wenn es durch 4 teilbar ist, aber nicht durch 100, es sei denn, es ist durch 400 teilbar. Implementiere ein Programm, das ein Jahr als Eingabe erhält und ausgibt, ob es sich bei diesem Jahr um ein Schaltjahr handelt oder nicht. </p>\n",
    "\n",
    "<details>\n",
    "  <summary>Tipp 1</summary>\n",
    "\n",
    "  <p> Verwende den Modulo-Operator (<code>%</code>) zur Überprüfung, ob eine Zahl durch eine andere Zahl teilbar ist.</p>\n",
    "</details>\n",
    "\n",
    "<details>\n",
    "  <summary>Tipp 2</summary>\n",
    "\n",
    "  <p> Mit <code>jahr % 4 == 0</code> kannst du überprüfen, ob <code>jahr</code> durch 4 teilbar ist.</p>\n",
    "</details>"
   ]
  },
  {
   "cell_type": "code",
   "execution_count": null,
   "metadata": {},
   "outputs": [],
   "source": [
    "jahr = int(input(\"Um welches Jahr handelt es sich?\"))\n",
    "\n",
    "if jahr % 4 == 0 and (not jahr % 100 == 0 or jahr % 400 == 0):\n",
    "    print(f\"{jahr} ist ein Schaltjahr.\")\n",
    "else:\n",
    "    print(f\"{jahr} ist kein Schaltjahr.\")"
   ]
  },
  {
   "attachments": {},
   "cell_type": "markdown",
   "metadata": {},
   "source": [
    "<h3> Aufgabe 5 (&#9733 &#9733) </h3>\n",
    "\n",
    "<p>Schreibe ein Programm, das angibt, ob eine von User eingegebene Zahl durch 2, durch 3 oder durch beide Zahlen teilbar ist. </p>"
   ]
  },
  {
   "cell_type": "code",
   "execution_count": null,
   "metadata": {},
   "outputs": [],
   "source": [
    "zahl = int(input(\"Gib eine Zahl ein.\"))\n",
    "\n",
    "if zahl % 2 and zahl % 3:\n",
    "    print(f\"{zahl} ist durch 2 und 3 teilbar.\")\n",
    "elif zahl % 2:\n",
    "    print(f\"{zahl} ist durch 2 aber nicht durch 3 teilbar.\")\n",
    "elif zahl % 3:\n",
    "    print(f\"{zahl} ist durch 3 aber nicht durch 2 teilbar.\")\n",
    "else:\n",
    "   print(f\"{zahl} ist weder durch 2 noch durch 2 teilbar.\") "
   ]
  },
  {
   "attachments": {},
   "cell_type": "markdown",
   "metadata": {},
   "source": [
    "<h3> Aufgabe 6 (&#9733 &#9733) </h3>\n",
    "\n",
    "<p>Implementiere ein Programm, das als Eingabe erhält, wie viel Prozent der Aufgaben ein/e Schüler*in in einer Klausur richtig beantwortet hat und anschließend die Note zurückgibt nach dem folgenden Schlüssel: </p>\n",
    "<ul>\n",
    "    <li> sehr gut: ab 85% </li>\n",
    "    <li> gut: ab 70% </li>\n",
    "    <li> befriedigend: ab 55% </li>\n",
    "    <li> ausreichend: ab 45% </li>\n",
    "    <li> mangelhaft: ab 20% </li>\n",
    "    <li> ungenügend: ab 0% </li>\n",
    "</ul>"
   ]
  },
  {
   "cell_type": "code",
   "execution_count": null,
   "metadata": {},
   "outputs": [],
   "source": [
    "prozent = int(input(\"Wie viel Prozent der Aufgaben hast du in der Klausur richtig beantwortet?\"))\n",
    "\n",
    "if prozent >= 85:\n",
    "    print(\"sehr gut\")\n",
    "elif prozent >= 70:\n",
    "    print(\"gut\")\n",
    "elif prozent >= 55:\n",
    "    print(\"befriedigend\")\n",
    "elif prozent >= 45:\n",
    "    print(\"ausreichend\")\n",
    "elif prozent >= 20:\n",
    "    print(\"mangelhaft\")\n",
    "else:\n",
    "    print(\"ungenügend\")"
   ]
  },
  {
   "cell_type": "markdown",
   "metadata": {},
   "source": [
    "<h3> Aufgabe 7 (&#9733 &#9733) </h3>\n",
    "\n",
    "<p>Eine Firma hat entschieden, ihren Mitarbeiter*innen einen Bonus auszuzahlen, je nachdem, wie lange sie schon bei der Firma arbeiten. </p>\n",
    "<ul>\n",
    "    <li> Mehr als 10 Jahre: 10% Bonus, </li>\n",
    "    <li> mindestens 6 Jahre, aber maximal 10 Jahre: 8% Bonus, </li>\n",
    "    <li> weniger als 6 Jahre, aber mehr als 2 Jahre: 5% Bonus, </li>\n",
    "    <li> maximal 2 Jahre: kein Bonus. </li>\n",
    "</ul>\n",
    "<p>Implementiere ein Programm, das einen spezifischen Lohn und die Firmenzugehörigkeit erhält und die Höhe des Bonus ausgibt."
   ]
  },
  {
   "cell_type": "code",
   "execution_count": null,
   "metadata": {},
   "outputs": [],
   "source": [
    "lohn = float(input(\"Welchen Lohn erhältst du?\"))\n",
    "jahre_firma = int(input(\"Wie lange arbeitest du schon bei der Firma?\"))\n",
    "bonus = 0 # Bonus wird in der Verzweigung berechnet\n",
    "\n",
    "if jahre_firma > 10:\n",
    "    bonus = lohn * 0.1\n",
    "elif jahre_firma >= 6:\n",
    "    bonus = lohn * 0.08\n",
    "elif jahre_firma > 2:\n",
    "    bonus = lohn * 0.05\n",
    "\n",
    "print(f\"Dein Bonus beträgt {bonus} Euro.\")"
   ]
  },
  {
   "attachments": {},
   "cell_type": "markdown",
   "metadata": {},
   "source": [
    "<h3> Aufgabe 8 (&#9733 &#9733 &#9733) </h3>\n",
    "\n",
    "<p>Schreibe ein Programm, das 3 Zahlen als Eingabe erhält und ausgibt, welche dieser Zahlen die größte ist. </p>"
   ]
  },
  {
   "cell_type": "code",
   "execution_count": null,
   "metadata": {},
   "outputs": [],
   "source": [
    "zahl_1 = float(input(\"Wie lautet die erste Zahl?\"))\n",
    "zahl_2 = float(input(\"Wie lautet die zweite Zahl?\"))\n",
    "zahl_3 = float(input(\"Wie lautet die dritte Zahl?\"))\n",
    "\n",
    "if zahl_1 >= zahl_2 and zahl_1 >= zahl_3:\n",
    "    print(f\"{zahl_1} ist die größte der drei Zahlen.\")\n",
    "elif zahl_2 >= zahl_3:\n",
    "    print(f\"{zahl_2} ist die größte der drei Zahlen.\")\n",
    "else:\n",
    "    print(f\"{zahl_3} ist die größte der drei Zahlen.\")"
   ]
  },
  {
   "attachments": {},
   "cell_type": "markdown",
   "metadata": {},
   "source": [
    "<h3> Aufgabe 9 (&#9733 &#9733 &#9733) </h3>\n",
    "\n",
    "<p>Mithilfe des Schlüsselworts <code>in</code> lässt sich in Python überprüfen, ob ein Buchstabe in einem String vorkommt oder nicht.</p>\n",
    "<p>Schreibe ein Programm, das einen Buchstaben als Eingabe erhält und ausgibt, ob es sich dabei um einen Vokal handelt oder nicht (Umlaute (ä, ö, ü, Ä, Ö, Ü) könnt ihr ignorieren). </p>\n",
    "\n",
    "<details>\n",
    "  <summary>Tipp 1</summary>\n",
    "\n",
    "  <p> Für beispielsweise <code>ch = \"a\"</code> und <code>str = \"abc\"</code> gibt <code>ch in str</code> True aus, da \"a\" in \"abc\" enthalten ist. </p>\n",
    "</details>\n",
    "\n",
    "<details>\n",
    "  <summary>Tipp 2</summary>\n",
    "\n",
    "  <p> Definiere dir einen String <code>vokale</code> der alle Vokale enthält. </p>\n",
    "</details>\n",
    "\n",
    "<details>\n",
    "  <summary>Tipp 3</summary>\n",
    "\n",
    "  <p> Überprüfe, ob dein Buchstabe in <code>vokale</code> liegt oder nicht. </p>\n",
    "</details>"
   ]
  },
  {
   "cell_type": "code",
   "execution_count": null,
   "metadata": {},
   "outputs": [],
   "source": [
    "buchstabe = input(\"Gib einen Buchstaben ein.\")\n",
    "vokale = \"aeiouAEIOU\"\n",
    "\n",
    "if buchstabe in vokale:\n",
    "    print(f\"{buchstabe} ist ein Vokal.\")\n",
    "else:\n",
    "    print(f\"{buchstabe} ist kein Vokal.\")"
   ]
  },
  {
   "attachments": {},
   "cell_type": "markdown",
   "metadata": {},
   "source": [
    "<h3> Aufgabe 10 (&#9733 &#9733 &#9733) </h3>\n",
    "\n",
    "<p>Ein Dreieck ist gleichseitig, wenn alle seine Seitenlängen gleich lang sind und gleichschenklig, wenn genau zwei seiner Seiten gleich lang sind. </p>\n",
    "<p>Implementiere ein Programm, das die drei Seitenlängen eines Dreiecks als Eingabe erhält und ausgibt, ob das Dreieck gleichseitig, gleichschenklig, keins von beidem ist oder gar kein Dreieck sein kann. </p>\n",
    "\n",
    "<details>\n",
    "  <summary>Tipp</summary>\n",
    "\n",
    "  <p> Beginne mit der Überprüfung, ob das Dreieck überhaupt existieren kann. Überlege dir dazu, wie lang eine Seite im Vergleich zu den anderen beiden Seiten maximal sein darf. </p>\n",
    "</details>"
   ]
  },
  {
   "cell_type": "code",
   "execution_count": null,
   "metadata": {},
   "outputs": [],
   "source": [
    "seite_1 = float(input(\"Wie lang ist die erste Seite des Dreiecks?\"))\n",
    "seite_2 = float(input(\"Wie lang ist die zweite Seite des Dreiecks?\"))\n",
    "seite_3 = float(input(\"Wie lang ist die dritte Seite des Dreiecks?\"))\n",
    "\n",
    "# Ist eine Seite länger als die Summe der beiden anderen Seiten oder gleich lang, kann kein Dreieck gebildet werden.\n",
    "if (seite_1 + seite_2 <= seite_3) or (seite_1 + seite_3 <= seite_2) or (seite_2 + seite_3 <= seite_1):\n",
    "    print(\"Kein Dreieck!\")\n",
    "# Prüfe zuerst auf Gleichseitigkeit, damit die Prüfung auf Gleichschenkligkeit einfacher ist\n",
    "elif seite_1 == seite_2 == seite_3:\n",
    "    print(\"Das Dreieck ist gleichseitig.\")\n",
    "# Da bereits auf Gleichseitigkeit geprüft wurde, reicht der Vergleich zweier Seiten\n",
    "elif (seite_1 == seite_2) or (seite_1 == seite_3) or (seite_2 == seite_3):\n",
    "    print(\"Das Dreieck ist gleichschenklig.\")\n",
    "else:\n",
    "    print(\"Das Dreieck ist weder gleichseitig noch gleichschenklig.\")\n"
   ]
  },
  {
   "attachments": {},
   "cell_type": "markdown",
   "metadata": {},
   "source": [
    "<h3> Aufgabe 11 (&#9733 &#9733 &#9733) </h3>\n",
    "\n",
    "<p>Implementiere ein Programm, das zwei Zahlen und einen mathematischen Operator als Eingabe erhält und das Ergebnis der Rechenoperation berechnet. \n",
    "</p>\n",
    "<p>Beispiel:</p>\n",
    "<pre>\n",
    "  Erste Zahl: 6\n",
    "  Zweite Zahl: 8\n",
    "  Operator: +\n",
    "  Ausgabe: 14\n",
    "</pre>\n"
   ]
  },
  {
   "cell_type": "code",
   "execution_count": null,
   "metadata": {},
   "outputs": [],
   "source": [
    "zahl_1 = float(input(\"Wie lautet die erste Zahl?\"))\n",
    "zahl_2 = float(input(\"Wie lautet die zweite Zahl?\"))\n",
    "operator = input(\"Welche Rechenoperation möchtest du anwenden?\")\n",
    "\n",
    "if operator == \"+\":\n",
    "    ergebnis = zahl_1 + zahl_2\n",
    "elif operator == \"-\":\n",
    "    ergebnis = zahl_1 - zahl_2\n",
    "elif operator == \"*\":\n",
    "    ergebnis = zahl_1 * zahl_2\n",
    "elif operator == \"/\":\n",
    "    ergebnis = zahl_1 / zahl_2\n",
    "elif operator == \"//\":\n",
    "    ergebnis = zahl_1 // zahl_2\n",
    "elif operator == \"%\":\n",
    "    ergebnis = zahl_1 % zahl_2\n",
    "elif operator == \"**\":\n",
    "    ergebnis = zahl_1 ** zahl_2\n",
    "\n",
    "print(f\"Es gilt {zahl_1} {operator} {zahl_2} = {ergebnis}.\")"
   ]
  }
 ],
 "metadata": {
  "kernelspec": {
   "display_name": "Python 3",
   "language": "python",
   "name": "python3"
  },
  "language_info": {
   "codemirror_mode": {
    "name": "ipython",
    "version": 3
   },
   "file_extension": ".py",
   "mimetype": "text/x-python",
   "name": "python",
   "nbconvert_exporter": "python",
   "pygments_lexer": "ipython3",
   "version": "3.10.1"
  },
  "vscode": {
   "interpreter": {
    "hash": "aee8b7b246df8f9039afb4144a1f6fd8d2ca17a180786b69acc140d282b71a49"
   }
  }
 },
 "nbformat": 4,
 "nbformat_minor": 2
}
