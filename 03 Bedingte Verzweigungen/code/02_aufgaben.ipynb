{
 "cells": [
  {
   "attachments": {},
   "cell_type": "markdown",
   "metadata": {},
   "source": [
    "<h1 style=\"color:gray\"> 03 Bedingte Verzweigungen </h1>"
   ]
  },
  {
   "attachments": {},
   "cell_type": "markdown",
   "metadata": {},
   "source": [
    "<h2 style=\"color:gray\"> 02 Aufgaben </h2>"
   ]
  },
  {
   "attachments": {},
   "cell_type": "markdown",
   "metadata": {},
   "source": [
    "<h3 style=\"color:gray\"> Aufgabe 1 </h3>"
   ]
  },
  {
   "attachments": {},
   "cell_type": "markdown",
   "metadata": {},
   "source": [
    "<p> Bearbeite nun <strong>zunächst nur</strong> Aufgabe 1."
   ]
  },
  {
   "attachments": {},
   "cell_type": "markdown",
   "metadata": {},
   "source": [
    "<ol type=\"a\" start=\"1\">\n",
    "    <li>Erkläre in eigenen Worten, wofür bedingte Anweisungen in der Programmierung verwendet werden. Beschreibe zusätzlich in eigenen Worten den Vorteil der <code>elif</code>-Anweisung gegenüber mehrerer <code>if</code>-Anweisungen.</li>\n",
    "</ol>"
   ]
  },
  {
   "attachments": {},
   "cell_type": "markdown",
   "metadata": {},
   "source": [
    "_Lösung_:"
   ]
  },
  {
   "attachments": {},
   "cell_type": "markdown",
   "metadata": {},
   "source": [
    "<ol type=\"a\" start=\"2\">\n",
    "<li>Bestimme ohne das Erstellen von Code, was das folgende Programm für die Werte <code>a = 0</code>, <code>a = 5</code> und <code>a = 10</code> ausgibt. Begründe kurz deine Antwort.\n",
    "    <pre>\n",
    "    <code>\n",
    "    if a < 5:\n",
    "        print(\"Hallo\")\n",
    "    elif a < 10:\n",
    "        print(\"Bin da\")\n",
    "    else:\n",
    "        print(\"Tschau\")\n",
    "    </code>\n",
    "</pre> </li>\n",
    "</ol>"
   ]
  },
  {
   "attachments": {},
   "cell_type": "markdown",
   "metadata": {},
   "source": [
    "_Lösung_:"
   ]
  },
  {
   "attachments": {},
   "cell_type": "markdown",
   "metadata": {},
   "source": [
    "<ol type=\"a\" start=\"3\">\n",
    "<li><em>(Für Schnelle)</em> <code>If</code>-Anweisungen können auch innerhalb anderer <code>If</code>-Anweisungen stehen. Gib ohne das Erstellen von Code an, was das folgende Programm für die Werte <code>a = 1 </code>, <code>a = 4 </code> und <code>a = 10 </code> ausgibt. Begründe kurz deine Antwort.\n",
    "    <pre>\n",
    "    <code>\n",
    "    if (a < 5):\n",
    "        if (a <= 3):\n",
    "            print(\"Ausgabe 1\")\n",
    "        else:\n",
    "            print(\"Ausgabe 2\")\n",
    "    else:\n",
    "        if (a < 4):\n",
    "            print(\"Ausgabe 3\")\n",
    "        else:\n",
    "            print(\"Ausgabe 4\")\n",
    "    </code>\n",
    "</pre>\n",
    "\n",
    "Gib begründet an, für welche <code>a</code> \"Ausgabe 3\" ausgegeben wird.\n",
    "</li>\n",
    "</ol>"
   ]
  },
  {
   "attachments": {},
   "cell_type": "markdown",
   "metadata": {},
   "source": [
    "_Lösung_:"
   ]
  },
  {
   "attachments": {},
   "cell_type": "markdown",
   "metadata": {},
   "source": [
    "<h3 style=\"color:gray\"> Aufgabe 2 </h3>"
   ]
  },
  {
   "attachments": {},
   "cell_type": "markdown",
   "metadata": {},
   "source": [
    "<ol type=\"a\">\n",
    "    <li> Implementiere das Programm a so weiter, dass es eine Glatteiswarnung ausgibt, wenn es zu kalt ist. </li>\n",
    "</ol>\n",
    "\n",
    "<details>\n",
    "  <summary>Tipp 1</summary>\n",
    "\n",
    "  <p> Verwende den <code><=</code>-Operator, um zu überprüfen, ob die Temperatur unter 0 Grad liegt. </p>\n",
    "</details>\n",
    "\n",
    "<details>\n",
    "  <summary>Tipp 2</summary>\n",
    "\n",
    "  <p> <code>temperatur_celsius <= 0</code> sollte als Bedingung verwendet werden. </p>\n",
    "</details>\n",
    "\n",
    "<details>\n",
    "  <summary>Tipp 3</summary>\n",
    "\n",
    "  <p>Beginne mit <code>if temperatur_celsius <= 0:</code> </p>\n",
    "</details>"
   ]
  },
  {
   "cell_type": "code",
   "execution_count": null,
   "metadata": {},
   "outputs": [],
   "source": [
    "\"\"\"Aufgabe a\"\"\"\n",
    "\n",
    "temperatur_celsius = int(input(\"Wie viel Grad sind es aktuell: \"))\n",
    "\n",
    "# Dein Code:"
   ]
  },
  {
   "attachments": {},
   "cell_type": "markdown",
   "metadata": {},
   "source": [
    "<ol type=\"a\", start=\"2\">\n",
    "    <li> Erweitere das Programm so, dass der User auch dann eine passende Nachricht erhält, wenn keine Gefahr besteht. </li>\n",
    "</ol>\n",
    "\n",
    "<details>\n",
    "  <summary>Tipp 1</summary>\n",
    "\n",
    "  <p> <code>else:</code> </p>\n",
    "</details>\n"
   ]
  },
  {
   "cell_type": "code",
   "execution_count": null,
   "metadata": {},
   "outputs": [],
   "source": [
    "\"\"\"Aufgabe b\"\"\"\n",
    "\n",
    "temperatur_celsius = int(input(\"Wie viel Grad sind es aktuell: \"))\n",
    "\n",
    "# Dein Code:"
   ]
  },
  {
   "attachments": {},
   "cell_type": "markdown",
   "metadata": {},
   "source": [
    "<ol type=\"a\", start=\"3\">\n",
    "    <li> Erweitere das Programm aus b. so, dass der User zusätzlich vor zu großer Hitze (ab 34 Grad) gewarnt wird. </li>\n",
    "</ol>\n",
    "\n",
    "<details>\n",
    "  <summary>Tipp 1</summary>\n",
    "\n",
    "  <p> <code>elif:</code> </p>\n",
    "</details>"
   ]
  },
  {
   "cell_type": "code",
   "execution_count": null,
   "metadata": {},
   "outputs": [],
   "source": [
    "\"\"\"Aufgabe c\"\"\"\n",
    "\n",
    "temperatur_celsius = int(input(\"Wie viel Grad sind es aktuell: \"))\n",
    "\n",
    "# Dein Code:"
   ]
  },
  {
   "attachments": {},
   "cell_type": "markdown",
   "metadata": {},
   "source": [
    "<ol type=\"a\", start=\"4\">\n",
    "     <li> <em>(Für Schnelle)</em> Zusätzlich erhält das Programm nun auch noch die Eingabe, ob es an diesem Tag regnet oder nicht. Implementiere ein Programm, das zusätzlich zum letzten Punkt bei niedrigen Temperaturen und Regen vor Eisregen warnt. </li>\n",
    "</ol>"
   ]
  },
  {
   "cell_type": "code",
   "execution_count": null,
   "metadata": {},
   "outputs": [],
   "source": [
    "\"\"\"Aufgabe d\"\"\"\n",
    "\n",
    "temperatur_celsius = int(input(\"Wie viel Grad sind es aktuell?\"))\n",
    "regen = bool(int(input(\"Regnet es heute? (1 für ja und 0 für nein)\")))\n",
    "\n",
    "# Dein Code:"
   ]
  },
  {
   "attachments": {},
   "cell_type": "markdown",
   "metadata": {},
   "source": [
    "<ol type=\"a\", start=\"5\">\n",
    "     <li> <em>(Für Schnelle)</em> Überlege dir weitere Warnungen und/oder Eingaben, die in der Ausgabe berücksichtigt werden und implementiere diese. </li>\n",
    "</ol>"
   ]
  },
  {
   "cell_type": "code",
   "execution_count": null,
   "metadata": {},
   "outputs": [],
   "source": [
    "\"\"\"Aufgabe e\"\"\"\n",
    "\n",
    "temperatur_celsius = int(input(\"Wie viel Grad sind es aktuell?\"))\n",
    "regen = bool(int(input(\"Regnet es heute? (1 für ja und 0 für nein)\")))\n",
    "\n",
    "# Dein Code:"
   ]
  }
 ],
 "metadata": {
  "kernelspec": {
   "display_name": "Python 3",
   "language": "python",
   "name": "python3"
  },
  "language_info": {
   "codemirror_mode": {
    "name": "ipython",
    "version": 3
   },
   "file_extension": ".py",
   "mimetype": "text/x-python",
   "name": "python",
   "nbconvert_exporter": "python",
   "pygments_lexer": "ipython3",
   "version": "3.10.1"
  },
  "vscode": {
   "interpreter": {
    "hash": "aee8b7b246df8f9039afb4144a1f6fd8d2ca17a180786b69acc140d282b71a49"
   }
  }
 },
 "nbformat": 4,
 "nbformat_minor": 2
}
