{
 "cells": [
  {
   "attachments": {},
   "cell_type": "markdown",
   "metadata": {},
   "source": [
    "<h1 style=\"color:gray\"> 03 Bedingte Verzweigungen </h1>"
   ]
  },
  {
   "attachments": {},
   "cell_type": "markdown",
   "metadata": {},
   "source": [
    "<h2 style=\"color:gray\"> 01 Erarbeitung </h2>"
   ]
  },
  {
   "attachments": {},
   "cell_type": "markdown",
   "metadata": {},
   "source": [
    "<h3 style=\"color:gray\"> Arbeitsauftrag (20 Minuten) </h3>"
   ]
  },
  {
   "attachments": {},
   "cell_type": "markdown",
   "metadata": {},
   "source": [
    "<p> Lies dir die folgenden Informationen zu <em> bedingten Anweisungen </em> durch und beantworte anschließend die Aufgaben (02_aufgaben)."
   ]
  },
  {
   "attachments": {},
   "cell_type": "markdown",
   "metadata": {},
   "source": [
    "<h4 style=\"color:gray\"> Bedingte Anweisungen </h4>\n",
    "\n",
    "<h5> Ohne Entscheidungen geht es häufig nicht</h5>\n",
    "<figure style=\"float: right; margin: 0 2rem 1rem 2rem; width:13rem\">\n",
    "  <img src=\"img/gleise.jpg\" alt=\"Gleise\" >\n",
    "</figure>\n",
    "<p>Bis zum jetzigen Zeitpunkt sind wir nur in der Lage, Programme zu schreiben, die jeden Befehl Zeile für Zeile vom Anfang bis zum Ende des Programms ausführen.</p>\n",
    "<p>In sogut wie jedem realen Programm kommt es aber dazu, dass das Programm &quot;entscheiden&quot; soll, wie es weiterarbeiten wird. Wenn beispielsweise die rechte Maustaste gedrückt wird, soll der Computer etwas anderes machen als wenn die linke Maustaste gedrückt wird. </p>\n",
    "<p>In einer Programmiersprache nennt man das Konzept, dass diese Art von Entscheidungsmöglichkeit bereitstellt eine <strong>bedingte Anweisung</strong>, auch <strong>Verzweigung</strong> genannt. </p>\n",
    "<p>Eine Verzweigung legt fest, welche von zwei (oder auch mehr) Programmteilen in Abhängigkeit von einer (oder mehreren) Bedingungen ausgeführt wird.</p>\n",
    "<p>Verzweigungen gehören zu den sogenannten <strong>Kontrollstrukturen</strong>, von denen ihr im Laufe der Reihe noch mehr kennenlernen werdet. </p>"
   ]
  },
  {
   "attachments": {},
   "cell_type": "markdown",
   "metadata": {},
   "source": [
    "<h5> Die If-Anweisung </h5>\n",
    "\n",
    "<p>Mithilfe der <code>if</code><strong>-Anweisung</strong> wird der Programmablauf in Python (und den allermeisten Programmiersprachen) gesteuert. </p>\n",
    "\n",
    "<p> Die einfachste Form der <code>if</code>-Anweisung in einem Python-Programm sieht folgendermaßen aus:\n",
    "\n",
    "<pre>\n",
    "    <code>\n",
    "    if bedingung:\n",
    "        anweisung\n",
    "        anweisung\n",
    "        #...weitere Anweisungen, falls nötig\n",
    "    </code>\n",
    "</pre>\n",
    "\n",
    "<p> Nach dem Schlüsselwort <code>if</code> folgt eine Bedingung, gefolgt von einem Doppelpunkt. Nur, wenn die Bedingung wahr ist (also den Wahrheitswert <code>True</code> besitzt), werden die eingerückten Anweisungen ausgeführt. Mindestens eine Anweisung ist Pflicht, sonst kommt es zu einem Fehler. Die Anweisungen selbst können auch wieder Kontrollstrukturen, also auch weitere <code>if</code>-Anweisungen, sein.</p>\n",
    "\n",
    "<p>Probiere es selbst am folgenden Beispiel einmal an drei verschiedenen Beispielen aus.</p>\n",
    "<p>Verwendet werden hierbei die Vergleichsoperatoren <code>>=</code> (größer gleich) und <code><=</code>, die True ausgeben, wenn die Bedingung wahr ist. Durch den Operator <code>and</code> müssen die erste <strong>und</strong> die zweite Bedingung wahr sein, damit die Gesamtaussage wahr ist. </p>"
   ]
  },
  {
   "cell_type": "code",
   "execution_count": null,
   "metadata": {},
   "outputs": [],
   "source": [
    "geburtsjahr = int(input(\"In welchem Jahr bist du geboren?\"))\n",
    "if geburtsjahr >= 2001:\n",
    "    print(\"Du bist im 21. Jahrhundert geboren.\")"
   ]
  },
  {
   "attachments": {},
   "cell_type": "markdown",
   "metadata": {},
   "source": [
    "<h5> elif und else </h5>\n",
    "\n",
    "<p>Obiges Skript lässt sich leicht erweitern, dass auch Personen, die vor 2001 geboren wurden, eine Nachricht erhalten:</p>"
   ]
  },
  {
   "cell_type": "code",
   "execution_count": null,
   "metadata": {},
   "outputs": [],
   "source": [
    "geburtsjahr = int(input(\"Wann bist du geboren?\"))\n",
    "\n",
    "if geburtsjahr >= 2001:\n",
    "    print(\"Du bist im 21. Jahrhundert geboren.\")\n",
    "if geburtsjahr < 2001:\n",
    "    print(\"Du bist nicht im 21. Jahrhundert geboren.\")"
   ]
  },
  {
   "attachments": {},
   "cell_type": "markdown",
   "metadata": {},
   "source": [
    "<p> Dieses Skript hat allerdings einen Nachteil: Angenommen, eine Person gibt 2005 für das Geburtsjahr ein. Dann wird ihr mitgeteilt, dass sie im 21. Jahrhundert geboren wurde. Allerdings läuft das Programm danach weiter und überprüft - unnötigerweise - ob die Person vorher geboren wurde.</p>\n",
    "\n",
    "<p> Mithilfe der <code>else</code>-Anweisung (Kurz für <em> else if </em>) wird dieses Problem verhindert. Diese wird genau dann ausgeführt, wenn die vorherige Bedingung der <code>if</code>-Anweisung fehlgeschlagen ist."
   ]
  },
  {
   "cell_type": "code",
   "execution_count": null,
   "metadata": {},
   "outputs": [],
   "source": [
    "geburtsjahr = int(input(\"Wann bist du geboren?\"))\n",
    "\n",
    "if geburtsjahr >= 2001:\n",
    "    print(\"Du bist im 21. Jahrhundert geboren.\")\n",
    "else:\n",
    "    print(\"Du bist nicht im 21. Jahrhundert geboren.\")"
   ]
  },
  {
   "attachments": {},
   "cell_type": "markdown",
   "metadata": {},
   "source": [
    "<p>Insgesamt</p>\n",
    "<ul>\n",
    "    <li> <em>muss</em> es immer genau einen <code>if</code>-Zweig zu Beginn und</li>\n",
    "    <li> <em>kann</em> es maximal einen <code>else</code>-Zweig am Ende geben. </li>\n",
    "</ul>"
   ]
  }
 ],
 "metadata": {
  "kernelspec": {
   "display_name": "Python 3",
   "language": "python",
   "name": "python3"
  },
  "language_info": {
   "codemirror_mode": {
    "name": "ipython",
    "version": 3
   },
   "file_extension": ".py",
   "mimetype": "text/x-python",
   "name": "python",
   "nbconvert_exporter": "python",
   "pygments_lexer": "ipython3",
   "version": "3.10.1"
  },
  "vscode": {
   "interpreter": {
    "hash": "aee8b7b246df8f9039afb4144a1f6fd8d2ca17a180786b69acc140d282b71a49"
   }
  }
 },
 "nbformat": 4,
 "nbformat_minor": 2
}
