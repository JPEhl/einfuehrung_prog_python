{
 "cells": [
  {
   "attachments": {},
   "cell_type": "markdown",
   "metadata": {},
   "source": [
    "<h1 style=\"color:gray\"> 03 Bedingte Verzweigungen </h1>"
   ]
  },
  {
   "attachments": {},
   "cell_type": "markdown",
   "metadata": {},
   "source": [
    "<h2 style=\"color:gray\"> 02 Aufgaben </h2>"
   ]
  },
  {
   "attachments": {},
   "cell_type": "markdown",
   "metadata": {},
   "source": [
    "<h3 style=\"color:gray\"> Aufgabe</h3>"
   ]
  },
  {
   "attachments": {},
   "cell_type": "markdown",
   "metadata": {},
   "source": [
    "<ol type=\"a\" start=\"1\">\n",
    "    <li>Erklärt euch in Partnerarbeit gegenseitig in eigenen Worten die Funktionsweise von Verzweigungen in der Programmierung.</li>\n",
    "</ol>"
   ]
  },
  {
   "attachments": {},
   "cell_type": "markdown",
   "metadata": {},
   "source": [
    "_Lösung_:"
   ]
  },
  {
   "attachments": {},
   "cell_type": "markdown",
   "metadata": {},
   "source": [
    "<ol type=\"a\", start=\"2\">\n",
    "    <li> Nun soll Programm erstellt werden, das eine Glatteiswarnung ausgibt, wenn es zu kalt ist, und ansonsten angibt, dass keine Gefahr besteht. Stelle den Programmverlauf mithilfe eines Struktogramms grafisch dar. Nutze dafür die Internetseite <a href=\"https://dditools.inf.tu-dresden.de/dev/struktog/\" target=\"_top\">https://dditools.inf.tu-dresden.de/dev/struktog/</a> der TU Dresden. </br>\n",
    "    <em>(Du musst zuerst auf den gewünschten Block klicken und dann auf das <img src=\"img/einfuegen.png\" alt=\"\" style=\"width:2%;height:auto;\">-Symbol an der gewünschten Stelle.)</em>\n",
    "    <details>\n",
    "        <summary>Tipp 1</summary>\n",
    "        <p> Du benötigst die Blöcke <em>Eingabe</em>, <em>Verzweigung</em> und <em>Ausgabe</em>. </p>\n",
    "    </details>\n",
    "    <details>\n",
    "        <summary>Tipp 2</summary>\n",
    "        <p> Orientiere dich am Beispiel des Geburtsjahres in der Erarbeitung. </p>\n",
    "    </details>\n",
    "    </li>\n",
    "</ol>\n",
    "\n"
   ]
  },
  {
   "attachments": {},
   "cell_type": "markdown",
   "metadata": {},
   "source": [
    "<ol type=\"a\", start=\"3\">\n",
    "    <li> Implementiere ein Programm, das eine Glatteiswarnung ausgibt, wenn es zu kalt ist und ansonsten ausgibt, dass keine Gefahr besteht. </br> (sollte es beim Ausführen von Code in dieser Datei zu Problemen kommen, verwende die Datei <em>02_wetterwarnung.py</em> für deine Lösung)\n",
    "    <details>\n",
    "  <summary>Tipp 1</summary>\n",
    "  <p> Verwende den <code><=</code>-Operator, um zu überprüfen, ob die Temperatur unter 0 Grad liegt. </p>\n",
    "</details>\n",
    "\n",
    "<details>\n",
    "  <summary>Tipp 2</summary>\n",
    "  <p> <code>temperatur_celsius <= 0</code> sollte als Bedingung verwendet werden. </p>\n",
    "</details>\n",
    "</li>\n",
    "</ol>\n",
    "\n"
   ]
  },
  {
   "cell_type": "code",
   "execution_count": null,
   "metadata": {},
   "outputs": [],
   "source": [
    "\"\"\"Aufgabe c\"\"\"\n",
    "\n",
    "temperatur = int(input(\"Wie viel Grad sind es aktuell: \"))\n",
    "\n",
    "# Dein Code:"
   ]
  },
  {
   "attachments": {},
   "cell_type": "markdown",
   "metadata": {},
   "source": [
    "<h3 style=\"color:gray\"> Zusatzaufgaben für Schnelle</h3>"
   ]
  },
  {
   "attachments": {},
   "cell_type": "markdown",
   "metadata": {},
   "source": [
    "<ol type=\"a\" start=\"1\">\n",
    "<li>Bestimme ohne das Erstellen von Code, was das folgende Programm für die Werte <code>a = 0</code>, <code>a = 5</code> und <code>a = 10</code> ausgibt. Begründe kurz deine Antwort.\n",
    "    <pre>\n",
    "    <code>\n",
    "    if a < 5:\n",
    "        print(\"Hallo\")\n",
    "    else:\n",
    "        if a < 10:\n",
    "            print(\"Bin da\")\n",
    "        else:\n",
    "            print(\"Tschau\")\n",
    "    </code>\n",
    "</pre> </li>\n",
    "</ol>"
   ]
  },
  {
   "attachments": {},
   "cell_type": "markdown",
   "metadata": {},
   "source": [
    "_Lösung_:"
   ]
  },
  {
   "attachments": {},
   "cell_type": "markdown",
   "metadata": {},
   "source": [
    "<ol type=\"a\" start=\"2\">\n",
    "<li><em>(Für Schnelle)</em> <code>If</code>-Anweisungen können auch innerhalb anderer <code>If</code>-Anweisungen stehen. Dies nennen wir auch <strong>verschachtelte</strong> Verzweigungen. Gib ohne das Erstellen von Code an, was das folgende Programm für die Werte <code>a = 1 </code>, <code>a = 4 </code> und <code>a = 10 </code> ausgibt. Begründe kurz deine Antwort.\n",
    "    <pre>\n",
    "    <code>\n",
    "    if (a < 5):\n",
    "        if (a <= 3):\n",
    "            print(\"Ausgabe 1\")\n",
    "        else:\n",
    "            print(\"Ausgabe 2\")\n",
    "    else:\n",
    "        if (a < 4):\n",
    "            print(\"Ausgabe 3\")\n",
    "        else:\n",
    "            print(\"Ausgabe 4\")\n",
    "    </code>\n",
    "</pre>\n",
    "\n",
    "Gib begründet an, für welche <code>a</code> \"Ausgabe 3\" ausgegeben wird.\n",
    "</li>\n",
    "</ol>"
   ]
  },
  {
   "attachments": {},
   "cell_type": "markdown",
   "metadata": {},
   "source": [
    "_Lösung_:"
   ]
  },
  {
   "attachments": {},
   "cell_type": "markdown",
   "metadata": {},
   "source": [
    "<ol type=\"a\", start=\"3\">\n",
    "    <li> Erweitere das Programm der Haupt-Aufgabe so, dass der User zusätzlich vor zu großer Hitze (ab 34 Grad) gewarnt wird. \n",
    "    <details>\n",
    "  <summary>Tipp 1</summary>\n",
    "\n",
    "  <p> <code>Verschachtelte Verzweigungen</code> </p>\n",
    "</details>\n",
    "    </li>\n",
    "</ol>"
   ]
  },
  {
   "cell_type": "code",
   "execution_count": null,
   "metadata": {},
   "outputs": [],
   "source": [
    "\"\"\"Aufgabe c\"\"\"\n",
    "\n",
    "temperatur = int(input(\"Wie viel Grad sind es aktuell: \"))\n",
    "\n",
    "# Dein Code:"
   ]
  },
  {
   "attachments": {},
   "cell_type": "markdown",
   "metadata": {},
   "source": [
    "<ol type=\"a\", start=\"4\">\n",
    "     <li> Zusätzlich erhält das Programm nun auch noch die Eingabe, ob es an diesem Tag regnet oder nicht. Implementiere ein Programm, das zusätzlich zum letzten Punkt bei niedrigen Temperaturen und Regen vor Eisregen warnt. </li>\n",
    "</ol>"
   ]
  },
  {
   "cell_type": "code",
   "execution_count": null,
   "metadata": {},
   "outputs": [],
   "source": [
    "\"\"\"Aufgabe d\"\"\"\n",
    "\n",
    "temperatur = int(input(\"Wie viel Grad sind es aktuell?\"))\n",
    "regen = bool(int(input(\"Regnet es heute? (1 für ja und 0 für nein)\")))\n",
    "\n",
    "# Dein Code:"
   ]
  },
  {
   "attachments": {},
   "cell_type": "markdown",
   "metadata": {},
   "source": [
    "<ol type=\"a\", start=\"5\">\n",
    "     <li> Überlege dir weitere Warnungen und/oder Eingaben, die in der Ausgabe berücksichtigt werden und implementiere diese. </li>\n",
    "</ol>"
   ]
  },
  {
   "cell_type": "code",
   "execution_count": null,
   "metadata": {},
   "outputs": [],
   "source": [
    "\"\"\"Aufgabe e\"\"\"\n",
    "\n",
    "temperatur = int(input(\"Wie viel Grad sind es aktuell?\"))\n",
    "regen = bool(int(input(\"Regnet es heute? (1 für ja und 0 für nein)\")))\n",
    "\n",
    "# Dein Code:"
   ]
  }
 ],
 "metadata": {
  "kernelspec": {
   "display_name": "Python 3",
   "language": "python",
   "name": "python3"
  },
  "language_info": {
   "codemirror_mode": {
    "name": "ipython",
    "version": 3
   },
   "file_extension": ".py",
   "mimetype": "text/x-python",
   "name": "python",
   "nbconvert_exporter": "python",
   "pygments_lexer": "ipython3",
   "version": "3.10.1"
  },
  "vscode": {
   "interpreter": {
    "hash": "aee8b7b246df8f9039afb4144a1f6fd8d2ca17a180786b69acc140d282b71a49"
   }
  }
 },
 "nbformat": 4,
 "nbformat_minor": 2
}
