{
 "cells": [
  {
   "attachments": {},
   "cell_type": "markdown",
   "metadata": {},
   "source": [
    "<h1 style=\"color:gray\"> 03 Bedingte Verzweigungen </h1>"
   ]
  },
  {
   "attachments": {},
   "cell_type": "markdown",
   "metadata": {},
   "source": [
    "<h2 style=\"color:gray\"> 01 Erarbeitung </h2>"
   ]
  },
  {
   "attachments": {},
   "cell_type": "markdown",
   "metadata": {},
   "source": [
    "<h3 style=\"color:gray\"> Arbeitsauftrag (10 Minuten) </h3>"
   ]
  },
  {
   "attachments": {},
   "cell_type": "markdown",
   "metadata": {},
   "source": [
    "<p> Lies dir die folgenden Informationen zu <em> bedingten Anweisungen </em> durch. Besprecht anschließend jeweils zu zweit den Aufabenteil a (02_aufgaben)."
   ]
  },
  {
   "attachments": {},
   "cell_type": "markdown",
   "metadata": {},
   "source": [
    "<h4 style=\"color:gray\"> Bedingte Anweisungen </h4>\n",
    "\n",
    "<h5> Ohne Entscheidungen geht es häufig nicht</h5>\n",
    "<figure style=\"float: right; margin: 0 2rem 1rem 2rem; width:13rem\">\n",
    "  <img src=\"img/gleise.jpg\" alt=\"Gleise\" >\n",
    "</figure>\n",
    "<p>Bis zum jetzigen Zeitpunkt sind wir nur in der Lage, Programme zu schreiben, die jeden Befehl Zeile für Zeile vom Anfang bis zum Ende des Programms ausführen.</p>\n",
    "<p>In sogut wie jedem realen Programm kommt es aber dazu, dass das Programm &quot;entscheiden&quot; soll, wie es weiterarbeiten wird. Wenn beispielsweise die rechte Maustaste gedrückt wird, soll der Computer etwas anderes machen als wenn die linke Maustaste gedrückt wird. </p>\n",
    "<p>In einer Programmiersprache nennt man das Konzept, dass diese Art von Entscheidungsmöglichkeit bereitstellt eine <strong>bedingte Anweisung</strong>, auch <strong>Verzweigung</strong> genannt. </p>\n",
    "<p>Eine Verzweigung legt fest, welche von zwei (oder auch mehr) Programmteilen in Abhängigkeit von einer (oder mehreren) Bedingungen ausgeführt wird.</p>\n",
    "<p>Verzweigungen gehören zu den sogenannten <strong>Kontrollstrukturen</strong>, von denen ihr im Laufe der Reihe noch mehr kennenlernen werdet. </p>"
   ]
  },
  {
   "attachments": {},
   "cell_type": "markdown",
   "metadata": {},
   "source": [
    "<h5> Verzweigungen und Struktogramme </h5>\n",
    "\n",
    "Angenommen, du willst ein Programm schreiben, das dich nach deinem Geburtsjahr fragt und ausgeben soll, ob du im 21. Jahrhundert geboren bist oder nicht. In diesem Fall benötogst du eine <strong>Verzweigung</strong>, die je nach Geburtsjahr unterschiedliche Nachrichten ausgibt.\n",
    "\n",
    "Ein solches Programm lässt sich gut mithilfe eines Struktogramms beschreiben, das von oben nach unten gelesen wird:\n",
    "\n",
    "<figure style=\"display:flex; flex-direction:column; justify-content:center; align-items:center; width: 90%\">\n",
    "  <img src=\"img/struktogramm.png\" alt=\"Bildbeschreibung\">\n",
    "</figure>\n",
    "\n"
   ]
  },
  {
   "cell_type": "markdown",
   "metadata": {},
   "source": [
    "<h5> Die If-Anweisung </h5>\n",
    "\n",
    "<p>Mithilfe der <code>if</code><strong>-Anweisung</strong> wird der Programmablauf in Python (und den allermeisten Programmiersprachen) gesteuert. </p>\n",
    "\n",
    "<p> Die einfachste Form der <code>if</code>-Anweisung in einem Python-Programm sieht folgendermaßen aus:\n",
    "\n",
    "<pre>\n",
    "    <code>\n",
    "    if bedingung:\n",
    "        anweisung\n",
    "        anweisung\n",
    "        #...weitere Anweisungen, falls nötig\n",
    "    </code>\n",
    "</pre>\n",
    "\n",
    "<p> Nach dem Schlüsselwort <code>if</code> folgt eine Bedingung, gefolgt von einem Doppelpunkt. Nur, wenn die Bedingung wahr ist (also den Wahrheitswert <code>True</code> besitzt), werden die eingerückten Anweisungen ausgeführt. Mindestens eine Anweisung ist Pflicht, sonst kommt es zu einem Fehler. Die Anweisungen selbst können auch wieder Kontrollstrukturen, also auch weitere <code>if</code>-Anweisungen, sein.</p>\n",
    "\n",
    "<p>Hier ein Beispiel:</p>"
   ]
  },
  {
   "cell_type": "code",
   "execution_count": 2,
   "metadata": {},
   "outputs": [
    {
     "name": "stdout",
     "output_type": "stream",
     "text": [
      "Geburtsjahr: 2005\n",
      "Du bist im 21. Jahrhundert geboren.\n"
     ]
    }
   ],
   "source": [
    "# Abfrage des Geburtsjahres\n",
    "geburtsjahr = int(input(\"In welchem Jahr bist du geboren?\"))\n",
    "\n",
    "# Ausgabe des Geburtsjahres zur Überprüfung der anschließenden Anweisung\n",
    "print(f\"Geburtsjahr: {geburtsjahr}\")\n",
    "\n",
    "# Überprüfung, ob das Geburtsjahr im 21. Jahrhundert liegt\n",
    "if geburtsjahr >= 2001:\n",
    "    print(\"Du bist im 21. Jahrhundert geboren.\")"
   ]
  },
  {
   "attachments": {},
   "cell_type": "markdown",
   "metadata": {},
   "source": [
    "<h5> else </h5>"
   ]
  },
  {
   "attachments": {},
   "cell_type": "markdown",
   "metadata": {},
   "source": [
    "<p> Das Programm soll nun auch eine Nachricht ausgeben, wenn das Geburtsjahr nicht im 21. Jahrhundert liegt. Dies kann mithilfe der Anweisung <code>else</code> erreicht werden, die genau dann ausgeführt wird, wenn die vorherige Bedingung den Wert <code>False</code> geliefert hat."
   ]
  },
  {
   "cell_type": "code",
   "execution_count": 4,
   "metadata": {},
   "outputs": [
    {
     "name": "stdout",
     "output_type": "stream",
     "text": [
      "Geburtsjahr: 1978\n",
      "Du bist nicht im 21. Jahrhundert geboren.\n"
     ]
    }
   ],
   "source": [
    "# Abfrage des Geburtsjahres\n",
    "geburtsjahr = int(input(\"Wann bist du geboren?\"))\n",
    "\n",
    "# Ausgabe des Geburtsjahres zur Überprüfung der anschließenden Anweisung\n",
    "print(f\"Geburtsjahr: {geburtsjahr}\")\n",
    "\n",
    "# Überprüfung, ob das Geburtsjahr im 21. Jahrhundert liegt oder nicht\n",
    "if geburtsjahr >= 2001:\n",
    "    print(\"Du bist im 21. Jahrhundert geboren.\")\n",
    "else:\n",
    "    print(\"Du bist nicht im 21. Jahrhundert geboren.\")"
   ]
  },
  {
   "attachments": {},
   "cell_type": "markdown",
   "metadata": {},
   "source": [
    "<p>Insgesamt</p>\n",
    "<ul>\n",
    "    <li> <strong>muss</strong> eine bedingte Verzweigung immer genau einen <code>if</code>-Zweig zu Beginn und</li>\n",
    "    <li> <strong>kann</strong> eine bedingte Verzweigung maximal einen <code>else</code>-Zweig am Ende enthalten. </li>\n",
    "</ul>"
   ]
  }
 ],
 "metadata": {
  "kernelspec": {
   "display_name": "Python 3",
   "language": "python",
   "name": "python3"
  },
  "language_info": {
   "codemirror_mode": {
    "name": "ipython",
    "version": 3
   },
   "file_extension": ".py",
   "mimetype": "text/x-python",
   "name": "python",
   "nbconvert_exporter": "python",
   "pygments_lexer": "ipython3",
   "version": "3.10.1"
  },
  "vscode": {
   "interpreter": {
    "hash": "aee8b7b246df8f9039afb4144a1f6fd8d2ca17a180786b69acc140d282b71a49"
   }
  }
 },
 "nbformat": 4,
 "nbformat_minor": 2
}
