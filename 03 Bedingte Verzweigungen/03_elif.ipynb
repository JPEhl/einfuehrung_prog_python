{
 "cells": [
  {
   "attachments": {},
   "cell_type": "markdown",
   "metadata": {},
   "source": [
    "<h1 style=\"color:gray\"> 03 Bedingte Verzweigungen </h1>"
   ]
  },
  {
   "attachments": {},
   "cell_type": "markdown",
   "metadata": {},
   "source": [
    "<h2 style=\"color:gray\"> 03 elif </h2>\n",
    "\n",
    "<h5> Die elif-Anweisung </h5>\n",
    "\n",
    "<p> Zurück zum Geburtsjahres-Programm: </p>"
   ]
  },
  {
   "cell_type": "code",
   "execution_count": 1,
   "metadata": {},
   "outputs": [
    {
     "name": "stdout",
     "output_type": "stream",
     "text": [
      "Geburtsjahr: 2001\n",
      "Du bist im 21. Jahrhundert geboren.\n"
     ]
    }
   ],
   "source": [
    "# Abfrage des Geburtsjahres\n",
    "geburtsjahr = int(input(\"Wann bist du geboren?\"))\n",
    "\n",
    "# Ausgabe des Geburtsjahres zur Überprüfung der anschließenden Anweisung\n",
    "print(f\"Geburtsjahr: {geburtsjahr}\")\n",
    "\n",
    "# Überprüfung, ob das Geburtsjahr im 21. Jahrhundert liegt oder nicht\n",
    "if geburtsjahr >= 2001:\n",
    "    print(\"Du bist im 21. Jahrhundert geboren.\")\n",
    "else:\n",
    "    print(\"Du bist nicht im 21. Jahrhundert geboren.\")"
   ]
  },
  {
   "attachments": {},
   "cell_type": "markdown",
   "metadata": {},
   "source": [
    "\n",
    "<p> Angenommen, du möchtest dieses Programm um ein Ausgaben für das 20. Jahrhundert erweitern. Dies ist mit mithilfe verschachtelter Verzweigungen möglich: </p>"
   ]
  },
  {
   "cell_type": "code",
   "execution_count": 2,
   "metadata": {},
   "outputs": [
    {
     "name": "stdout",
     "output_type": "stream",
     "text": [
      "Geburtsjahr: 1978\n",
      "Du bist im 20. Jahrhundert geboren.\n"
     ]
    }
   ],
   "source": [
    "# Abfrage des Geburtsjahres\n",
    "geburtsjahr = int(input(\"Wann bist du geboren?\"))\n",
    "\n",
    "# Ausgabe des Geburtsjahres zur Überprüfung der anschließenden Anweisung\n",
    "print(f\"Geburtsjahr: {geburtsjahr}\")\n",
    "\n",
    "# Überprüfung, ob das Geburtsjahr im 20. oder 21. Jahrhundert liegt oder in keinem von beiden\n",
    "if geburtsjahr >= 2001:\n",
    "    print(\"Du bist im 21. Jahrhundert geboren.\")\n",
    "else:\n",
    "    if geburtsjahr >= 1901:\n",
    "        print(\"Du bist im 20. Jahrhundert geboren.\")\n",
    "    else:\n",
    "        print(\"Du bist in keinem der überprüften Jahrhunderte geboren.\")\n"
   ]
  },
  {
   "attachments": {},
   "cell_type": "markdown",
   "metadata": {},
   "source": [
    "<p> Das sieht schon echt kompliziert aus. Wenn noch das 19. Jahrhundert hinzukommt, verliert man schnell den Überblick:"
   ]
  },
  {
   "cell_type": "code",
   "execution_count": 3,
   "metadata": {},
   "outputs": [
    {
     "name": "stdout",
     "output_type": "stream",
     "text": [
      "Geburtsjahr: 1899\n",
      "Du bist im 19. Jahrhundert geboren. Ganz schön alt!\n"
     ]
    }
   ],
   "source": [
    "# Abfrage des Geburtsjahres\n",
    "geburtsjahr = int(input(\"Wann bist du geboren?\"))\n",
    "\n",
    "# Ausgabe des Geburtsjahres zur Überprüfung der anschließenden Anweisung\n",
    "print(f\"Geburtsjahr: {geburtsjahr}\")\n",
    "\n",
    "# Überprüfung, ob das Geburtsjahr im 19., 20. oder 21. Jahrhundert liegt oder in keinem der genannten\n",
    "if geburtsjahr >= 2001:\n",
    "    print(\"Du bist im 21. Jahrhundert geboren.\")\n",
    "else:\n",
    "    if geburtsjahr >= 1901:\n",
    "        print(\"Du bist im 20. Jahrhundert geboren.\")\n",
    "    else:\n",
    "        if geburtsjahr >= 1801:\n",
    "            print(\"Du bist im 19. Jahrhundert geboren. Ganz schön alt!\")\n",
    "        else:\n",
    "            print(\"Du bist in keinem der überprüften Jahrhunderte geboren.\")\n"
   ]
  },
  {
   "attachments": {},
   "cell_type": "markdown",
   "metadata": {},
   "source": [
    "Einfacher ist das mit der <code>elif</code>-Verzweigung, die beliebig oft hinter einer <code>if</code>-Verzweigung und der <code>else</code>-Verzweigung eingesetzt werden kann. Das obige Code kann dann so vereinfacht werden:"
   ]
  },
  {
   "cell_type": "code",
   "execution_count": 4,
   "metadata": {},
   "outputs": [
    {
     "name": "stdout",
     "output_type": "stream",
     "text": [
      "Geburtsjahr: 1899\n",
      "Du bist im 19. Jahrhundert geboren. Ganz schön alt!\n"
     ]
    }
   ],
   "source": [
    "# Abfrage des Geburtsjahres\n",
    "geburtsjahr = int(input(\"Wann bist du geboren?\"))\n",
    "\n",
    "# Ausgabe des Geburtsjahres zur Überprüfung der anschließenden Anweisung\n",
    "print(f\"Geburtsjahr: {geburtsjahr}\")\n",
    "\n",
    "# Überprüfung, ob das Geburtsjahr im 19., 20. oder 21. Jahrhundert liegt oder in keinem der genannten\n",
    "if geburtsjahr >= 2001:\n",
    "    print(\"Du bist im 21. Jahrhundert geboren.\")\n",
    "elif geburtsjahr >= 1901:\n",
    "    print(\"Du bist im 20. Jahrhundert geboren.\")\n",
    "elif geburtsjahr >= 1801:\n",
    "    print(\"Du bist im 19. Jahrhundert geboren. Ganz schön alt!\")\n",
    "else:\n",
    "    print(\"Du bist in keinem der überprüften Jahrhunderte geboren.\")"
   ]
  },
  {
   "attachments": {},
   "cell_type": "markdown",
   "metadata": {},
   "source": [
    "Verwende in den Übungen gerne, wenn benötigt <code>elif</code>-Verzweigungen."
   ]
  }
 ],
 "metadata": {
  "kernelspec": {
   "display_name": "Python 3",
   "language": "python",
   "name": "python3"
  },
  "language_info": {
   "codemirror_mode": {
    "name": "ipython",
    "version": 3
   },
   "file_extension": ".py",
   "mimetype": "text/x-python",
   "name": "python",
   "nbconvert_exporter": "python",
   "pygments_lexer": "ipython3",
   "version": "3.10.1"
  },
  "vscode": {
   "interpreter": {
    "hash": "aee8b7b246df8f9039afb4144a1f6fd8d2ca17a180786b69acc140d282b71a49"
   }
  }
 },
 "nbformat": 4,
 "nbformat_minor": 2
}
