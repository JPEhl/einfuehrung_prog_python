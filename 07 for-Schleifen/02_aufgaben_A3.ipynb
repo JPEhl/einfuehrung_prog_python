{
 "cells": [
  {
   "attachments": {},
   "cell_type": "markdown",
   "metadata": {},
   "source": [
    "<h1 style=\"color:gray\"> 07 <code>for</code>-Schleifen </h1>"
   ]
  },
  {
   "attachments": {},
   "cell_type": "markdown",
   "metadata": {},
   "source": [
    "<h2 style=\"color:gray\"> 02 Aufgaben A3 </h2>"
   ]
  },
  {
   "attachments": {},
   "cell_type": "markdown",
   "metadata": {},
   "source": [
    "<h3 style=\"color:gray\"> 1. Aufgabe </h3>\n",
    "\n",
    "Überlege dir sinnvolle Daten für die Wetterprognose der nächsten Tage und lege diese in einer sinnvollen Datenstruktur ab."
   ]
  },
  {
   "attachments": {},
   "cell_type": "markdown",
   "metadata": {},
   "source": [
    "<h3 style=\"color:gray\"> 2. Aufgabe </h3>\n",
    "\n",
    "<p>Implementiere die Ausgabe einer Wetterübersicht, die die in Aufgabe 1 gespeicherten Wetterdaten übersichtlich darstellt.</p>\n"
   ]
  },
  {
   "attachments": {},
   "cell_type": "markdown",
   "metadata": {},
   "source": [
    "<h3 style=\"color:gray\"> 3. Aufgabe </h3>\n",
    "\n",
    "<p>Erweitere dein Programm um weitere sinnvolle Übersichten wie beispielsweise die maximale Temperatur, die Durchschnittstemperatur, die Anzahl der Regentage, ...</p>\n"
   ]
  },
  {
   "cell_type": "code",
   "execution_count": null,
   "metadata": {},
   "outputs": [],
   "source": []
  }
 ],
 "metadata": {
  "kernelspec": {
   "display_name": "Python 3",
   "language": "python",
   "name": "python3"
  },
  "language_info": {
   "codemirror_mode": {
    "name": "ipython",
    "version": 3
   },
   "file_extension": ".py",
   "mimetype": "text/x-python",
   "name": "python",
   "nbconvert_exporter": "python",
   "pygments_lexer": "ipython3",
   "version": "3.10.1"
  },
  "vscode": {
   "interpreter": {
    "hash": "aee8b7b246df8f9039afb4144a1f6fd8d2ca17a180786b69acc140d282b71a49"
   }
  }
 },
 "nbformat": 4,
 "nbformat_minor": 2
}
